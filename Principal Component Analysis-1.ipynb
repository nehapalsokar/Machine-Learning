{
 "cells": [
  {
   "cell_type": "code",
   "execution_count": 1,
   "metadata": {
    "autoscroll": false,
    "collapsed": false,
    "ein.tags": "worksheet-0",
    "slideshow": {
     "slide_type": "-"
    }
   },
   "outputs": [],
   "source": [
    "import pandas as pd\n",
    "import numpy as np\n",
    "import matplotlib.pyplot as plt\n",
    "%matplotlib inline\n",
    "from sklearn.decomposition import PCA"
   ]
  },
  {
   "cell_type": "markdown",
   "metadata": {
    "ein.tags": "worksheet-0",
    "slideshow": {
     "slide_type": "-"
    }
   },
   "source": [
    "# Data rotation example"
   ]
  },
  {
   "cell_type": "code",
   "execution_count": 18,
   "metadata": {
    "autoscroll": false,
    "collapsed": false,
    "ein.tags": "worksheet-0",
    "slideshow": {
     "slide_type": "-"
    }
   },
   "outputs": [
    {
     "name": "stdout",
     "output_type": "stream",
     "text": [
      "(30, 2)\n",
      "          x         y\n",
      "0 -0.116122 -0.437222\n",
      "1  0.329851  0.423104\n",
      "2  0.282891  0.020840\n",
      "3  0.138039  0.327941\n",
      "4 -0.427677 -0.250597\n",
      "Variance by variable:\n",
      " x    0.802357\n",
      "y    0.892366\n",
      "dtype: float64\n"
     ]
    },
    {
     "data": {
      "image/png": "[encoded data removed]",
      "text/plain": [
       "<matplotlib.figure.Figure at 0x7f6e94ece1d0>"
      ]
     },
     "metadata": {},
     "output_type": "display_data"
    }
   ],
   "source": [
    "## Read and display data\n",
    "data = pd.read_table(\"pca.csv\")\n",
    "print(data.shape)\n",
    "print(data.head())\n",
    "plt.figure(figsize=(7,7))\n",
    "plt.scatter(data.x, data.y)\n",
    "print(\"Variance by variable:\\n\", data.apply(np.var, axis=0))"
   ]
  },
  {
   "cell_type": "markdown",
   "metadata": {
    "ein.tags": "worksheet-0",
    "slideshow": {
     "slide_type": "-"
    }
   },
   "source": [
    "One can see that x and y have roughly equal variance"
   ]
  },
  {
   "cell_type": "code",
   "execution_count": 10,
   "metadata": {
    "autoscroll": false,
    "collapsed": false,
    "ein.tags": "worksheet-0",
    "slideshow": {
     "slide_type": "-"
    }
   },
   "outputs": [
    {
     "name": "stdout",
     "output_type": "stream",
     "text": [
      "components: [[-0.68773533 -0.72596152]\n",
      " [-0.72596152  0.68773533]]\n",
      "explained_variance: [1.73809703 0.01506523]\n",
      "explained_variance_ratio: [0.99140683 0.00859317]\n",
      "singular_values: [7.09963477 0.66097771]\n"
     ]
    }
   ],
   "source": [
    "## perform PCA\n",
    "## We just get component sizes, values, etc.\n",
    "m = PCA().fit(data)\n",
    "print(\"components:\", m.components_)\n",
    "print(\"explained_variance:\", m.explained_variance_)\n",
    "print(\"explained_variance_ratio:\", m.explained_variance_ratio_)\n",
    "print(\"singular_values:\", m.singular_values_)"
   ]
  },
  {
   "cell_type": "markdown",
   "metadata": {
    "ein.tags": "worksheet-0",
    "slideshow": {
     "slide_type": "-"
    }
   },
   "source": [
    "Rotate data: we use the same PCA analysis as above, just now we\n",
    "compute the rotated data instead of the components."
   ]
  },
  {
   "cell_type": "code",
   "execution_count": 31,
   "metadata": {
    "autoscroll": false,
    "collapsed": false,
    "ein.tags": "worksheet-0",
    "slideshow": {
     "slide_type": "-"
    }
   },
   "outputs": [
    {
     "name": "stdout",
     "output_type": "stream",
     "text": [
      "[[ 0.3972673  -0.21639249]\n",
      " [-0.5340076   0.05152416]\n",
      " [-0.20968314 -0.19103583]\n",
      " [-0.333007    0.12532525]\n",
      " [ 0.47605254  0.13813214]]\n",
      "variance by variable:\n",
      " 0    1.680160\n",
      "1    0.014563\n",
      "dtype: float64\n",
      "mean by variable:\n",
      " 0   -0.348771\n",
      "1   -0.070329\n",
      "dtype: float64\n"
     ]
    },
    {
     "data": {
      "image/png": "[encoded data removed]",
      "text/plain": [
       "<matplotlib.figure.Figure at 0x7f6e90160c88>"
      ]
     },
     "metadata": {},
     "output_type": "display_data"
    }
   ],
   "source": [
    "dR = data @ m.components_\n",
    "print(dR[:5,:])\n",
    "plt.figure(figsize=(7,7))\n",
    "plt.scatter(dR[:,0], dR[:,1])\n",
    "plt.axes().set_aspect(\"equal\")\n",
    "print(\"variance by variable:\\n\", pd.DataFrame(dR).apply(np.var, axis=0))\n",
    "print(\"mean by variable:\\n\", pd.DataFrame(dR).apply(np.mean, axis=0))"
   ]
  },
  {
   "cell_type": "code",
   "execution_count": 33,
   "metadata": {
    "autoscroll": false,
    "collapsed": false,
    "ein.tags": "worksheet-0",
    "slideshow": {
     "slide_type": "-"
    }
   },
   "outputs": [
    {
     "name": "stdout",
     "output_type": "stream",
     "text": [
      "[[ 0.74603821 -0.14606377]\n",
      " [-0.1852367   0.12185289]\n",
      " [ 0.13908777 -0.1207071 ]\n",
      " [ 0.01576391  0.19565397]\n",
      " [ 0.82482345  0.20846087]]\n",
      "Variance by variable:\n",
      " [1.68016046 0.01456305]\n",
      "Mean by variable:\n",
      " [3.33066907e-17 9.25185854e-18]\n"
     ]
    },
    {
     "data": {
      "image/png": "[encoded data removed]",
      "text/plain": [
       "<matplotlib.figure.Figure at 0x7f6e9195e2e8>"
      ]
     },
     "metadata": {},
     "output_type": "display_data"
    }
   ],
   "source": [
    "dataRot = PCA().fit_transform(data)\n",
    "print(dataRot[:5,:])\n",
    "plt.figure(figsize=(7,7))\n",
    "plt.scatter(dataRot[:,0], dataRot[:,1])\n",
    "plt.axes().set_aspect(\"equal\")\n",
    "print(\"Variance by variable:\\n\", np.apply_along_axis(np.var, 0, dataRot))\n",
    "print(\"Mean by variable:\\n\", np.apply_along_axis(np.mean, 0, dataRot))"
   ]
  },
  {
   "cell_type": "markdown",
   "metadata": {
    "ein.tags": "worksheet-0",
    "slideshow": {
     "slide_type": "-"
    }
   },
   "source": [
    "One can see that the first component has much larger variance than the\n",
    "second one."
   ]
  },
  {
   "cell_type": "markdown",
   "metadata": {
    "ein.tags": "worksheet-0",
    "slideshow": {
     "slide_type": "-"
    }
   },
   "source": [
    "# Example of regression with dimensionality reduction"
   ]
  },
  {
   "cell_type": "code",
   "execution_count": 34,
   "metadata": {
    "autoscroll": false,
    "collapsed": false,
    "ein.tags": "worksheet-0",
    "slideshow": {
     "slide_type": "-"
    }
   },
   "outputs": [
    {
     "name": "stdout",
     "output_type": "stream",
     "text": [
      "correlation: 0.9636174066692469\n",
      "data example:\n",
      "          x1        x2         y\n",
      "0  0.580823  0.714801  1.431859\n",
      "1 -2.726423 -2.386811 -5.623782\n",
      "2 -0.163836 -0.517796 -0.656510\n",
      "3 -0.165156 -0.578319 -1.291843\n",
      "4 -0.189388  0.240241  0.148798\n"
     ]
    }
   ],
   "source": [
    "## create x1, x2 that are closely correlated\n",
    "n = 30\n",
    "x1 = np.random.normal(size=(n,))\n",
    "x2 = x1 + np.random.normal(scale = 0.3, size=(n,))\n",
    "y = x1 + x2 + np.random.normal(scale = 0.5, size=(n,))\n",
    "data2 = pd.DataFrame( np.column_stack((x1, x2, y)),\n",
    "                      columns=['x1', 'x2', 'y'])\n",
    "print(\"correlation:\", data2.x1.corr(data2.x2))\n",
    "print(\"data example:\\n\", data2.head())"
   ]
  },
  {
   "cell_type": "code",
   "execution_count": 35,
   "metadata": {
    "autoscroll": false,
    "collapsed": false,
    "ein.tags": "worksheet-0",
    "slideshow": {
     "slide_type": "-"
    }
   },
   "outputs": [
    {
     "name": "stdout",
     "output_type": "stream",
     "text": [
      "[[-1.22525366 -0.01675574]\n",
      " [ 3.29819396 -0.32708069]\n",
      " [ 0.18451372  0.27712877]\n",
      " [ 0.22973918  0.31737223]\n",
      " [-0.35326411 -0.25772433]]\n"
     ]
    }
   ],
   "source": [
    "# rotate data\n",
    "mat2 = data2.drop('y', axis=1).as_matrix()\n",
    "dataRot2 = PCA().fit_transform(mat2)\n",
    "print(dataRot2[:5,:])"
   ]
  },
  {
   "cell_type": "code",
   "execution_count": null,
   "metadata": {
    "autoscroll": false,
    "collapsed": false,
    "ein.tags": "worksheet-0",
    "slideshow": {
     "slide_type": "-"
    }
   },
   "outputs": [],
   "source": []
  }
 ],
 "metadata": {
  "name": "pca.ipynb"
 },
 "nbformat": 4,
 "nbformat_minor": 2
}
