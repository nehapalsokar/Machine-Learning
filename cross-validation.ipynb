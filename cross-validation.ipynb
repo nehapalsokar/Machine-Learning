{
 "cells": [
  {
   "cell_type": "markdown",
   "metadata": {
    "ein.tags": "worksheet-0",
    "slideshow": {
     "slide_type": "-"
    }
   },
   "source": [
    "# Overfitting, testing-training, Cross-validation"
   ]
  },
  {
   "cell_type": "code",
   "execution_count": 197,
   "metadata": {
    "autoscroll": false,
    "collapsed": false,
    "ein.tags": "worksheet-0",
    "slideshow": {
     "slide_type": "-"
    }
   },
   "outputs": [],
   "source": [
    "import numpy as np\n",
    "import pandas as pd\n",
    "import matplotlib.pyplot as plt\n",
    "%matplotlib inline\n",
    "import statsmodels.formula.api as smf"
   ]
  },
  {
   "cell_type": "markdown",
   "metadata": {
    "ein.tags": "worksheet-0",
    "slideshow": {
     "slide_type": "-"
    }
   },
   "source": [
    "## Overfitting\n",
    "\n",
    "Example with random data"
   ]
  },
  {
   "cell_type": "code",
   "execution_count": 198,
   "metadata": {
    "autoscroll": false,
    "collapsed": false,
    "ein.tags": "worksheet-0",
    "slideshow": {
     "slide_type": "-"
    }
   },
   "outputs": [],
   "source": [
    "n = 100\n",
    "x = np.random.normal(size=n)\n",
    "z = np.random.normal(size=n)\n",
    "z1 = np.random.normal(size=n)\n",
    "z2 = np.random.normal(size=n)\n",
    "z3 = np.random.normal(size=n)\n",
    "z4 = np.random.normal(size=n)\n",
    "z5 = np.random.normal(size=n)\n",
    "y = x + np.random.normal(size=n)\n",
    "# note: y does not depend on z"
   ]
  },
  {
   "cell_type": "code",
   "execution_count": 199,
   "metadata": {
    "autoscroll": false,
    "collapsed": false,
    "ein.tags": "worksheet-0",
    "slideshow": {
     "slide_type": "-"
    }
   },
   "outputs": [],
   "source": [
    "dat = pd.DataFrame({'y' : y, 'x': x, 'z': z, 'z1':z1, 'z2':z2, 'z3':z3, 'z4':z4, 'z5':z5})\n"
   ]
  },
  {
   "cell_type": "code",
   "execution_count": 200,
   "metadata": {
    "autoscroll": false,
    "collapsed": false,
    "ein.tags": "worksheet-0",
    "slideshow": {
     "slide_type": "-"
    }
   },
   "outputs": [
    {
     "data": {
      "text/plain": [
       "<class 'statsmodels.iolib.summary.Summary'>\n",
       "\"\"\"\n",
       "                            OLS Regression Results                            \n",
       "==============================================================================\n",
       "Dep. Variable:                      y   R-squared:                       0.509\n",
       "Model:                            OLS   Adj. R-squared:                  0.471\n",
       "Method:                 Least Squares   F-statistic:                     13.61\n",
       "Date:                Mon, 07 May 2018   Prob (F-statistic):           5.83e-12\n",
       "Time:                        14:25:54   Log-Likelihood:                -129.17\n",
       "No. Observations:                 100   AIC:                             274.3\n",
       "Df Residuals:                      92   BIC:                             295.2\n",
       "Df Model:                           7                                         \n",
       "Covariance Type:            nonrobust                                         \n",
       "==============================================================================\n",
       "                 coef    std err          t      P>|t|      [0.025      0.975]\n",
       "------------------------------------------------------------------------------\n",
       "Intercept     -0.0401      0.093     -0.430      0.668      -0.225       0.145\n",
       "x              0.8694      0.103      8.447      0.000       0.665       1.074\n",
       "z              0.1314      0.105      1.249      0.215      -0.078       0.340\n",
       "z1             0.0175      0.091      0.193      0.847      -0.163       0.198\n",
       "z2            -0.0573      0.110     -0.518      0.605      -0.277       0.162\n",
       "z3             0.0032      0.099      0.033      0.974      -0.193       0.200\n",
       "z4             0.0277      0.094      0.295      0.769      -0.159       0.214\n",
       "z5            -0.1947      0.095     -2.054      0.043      -0.383      -0.006\n",
       "==============================================================================\n",
       "Omnibus:                        0.909   Durbin-Watson:                   2.141\n",
       "Prob(Omnibus):                  0.635   Jarque-Bera (JB):                0.469\n",
       "Skew:                          -0.113   Prob(JB):                        0.791\n",
       "Kurtosis:                       3.248   Cond. No.                         1.54\n",
       "==============================================================================\n",
       "\n",
       "Warnings:\n",
       "[1] Standard Errors assume that the covariance matrix of the errors is correctly specified.\n",
       "\"\"\""
      ]
     },
     "execution_count": 200,
     "metadata": {},
     "output_type": "execute_result"
    }
   ],
   "source": [
    "m = smf.ols(formula='y ~ 1 + x + z + z1 + z2 + z3 + z4 + z5', data=dat).fit()\n",
    "m.summary()"
   ]
  },
  {
   "cell_type": "markdown",
   "metadata": {
    "ein.tags": "worksheet-0",
    "slideshow": {
     "slide_type": "-"
    }
   },
   "source": [
    "## Testing-training"
   ]
  },
  {
   "cell_type": "code",
   "execution_count": 201,
   "metadata": {
    "autoscroll": false,
    "collapsed": false,
    "ein.tags": "worksheet-0",
    "slideshow": {
     "slide_type": "-"
    }
   },
   "outputs": [],
   "source": [
    "indices = range(len(dat))\n",
    "itest = np.random.choice(indices, int(0.2*len(indices)), False)\n",
    "# last False: no replacements\n",
    "itrain = list(set(indices).difference(itest))\n",
    "testDat = dat.iloc[itest]\n",
    "trainDat = dat.iloc[itrain]\n"
   ]
  },
  {
   "cell_type": "code",
   "execution_count": 211,
   "metadata": {
    "autoscroll": false,
    "collapsed": false,
    "ein.tags": "worksheet-0",
    "slideshow": {
     "slide_type": "-"
    }
   },
   "outputs": [
    {
     "name": "stdout",
     "output_type": "stream",
     "text": [
      "1.1279749170203037\n"
     ]
    }
   ],
   "source": [
    "m = smf.ols(formula='y ~ x + z + z1 + z2 + z3 +z4', data=trainDat).fit()\n",
    "yhat = m.predict(exog=dict(testDat))\n",
    "mse = np.mean((yhat - testDat.y)**2)\n",
    "print(mse)\n"
   ]
  },
  {
   "cell_type": "markdown",
   "metadata": {
    "ein.tags": "worksheet-0",
    "slideshow": {
     "slide_type": "-"
    }
   },
   "source": [
    "## k-fold CV"
   ]
  },
  {
   "cell_type": "code",
   "execution_count": 213,
   "metadata": {
    "autoscroll": false,
    "collapsed": false,
    "ein.tags": "worksheet-0",
    "slideshow": {
     "slide_type": "-"
    }
   },
   "outputs": [],
   "source": [
    "k = 10\n",
    "indices = np.arange(len(dat))\n",
    "np.random.shuffle(indices)\n"
   ]
  },
  {
   "cell_type": "code",
   "execution_count": 214,
   "metadata": {
    "autoscroll": false,
    "collapsed": false,
    "ein.tags": "worksheet-0",
    "slideshow": {
     "slide_type": "-"
    }
   },
   "outputs": [
    {
     "name": "stdout",
     "output_type": "stream",
     "text": [
      "0.90668029999077\n",
      "0.9253938983516182\n"
     ]
    }
   ],
   "source": [
    "rmse1 = np.empty(k)\n",
    "rmse2 = np.empty(k)\n",
    "for i in range(k):\n",
    "    itest = indices[i::k]\n",
    "    itrain = list(set(indices).difference(itest))\n",
    "    testDat = dat.iloc[itest]\n",
    "    trainDat = dat.iloc[itrain]\n",
    "    m1 = smf.ols(formula='y ~ x', data=trainDat).fit()\n",
    "    m2 = smf.ols(formula='y ~ x + z', data=trainDat).fit()\n",
    "    yhat1 = m1.predict(exog=dict(testDat))\n",
    "    yhat2 = m2.predict(exog=dict(testDat))\n",
    "    rmse1[i] = np.sqrt(np.mean((yhat1 - testDat.y)**2))\n",
    "    rmse2[i] = np.sqrt(np.mean((yhat2 - testDat.y)**2))\n",
    "\n",
    "    print(np.mean(rmse1))\n",
    "print(np.mean(rmse2))    "
   ]
  },
  {
   "cell_type": "markdown",
   "metadata": {
    "ein.tags": "worksheet-0",
    "slideshow": {
     "slide_type": "-"
    }
   },
   "source": [
    "## Exercise:\n",
    "\n",
    "Create an image of overfitting with only a few datapoints (say 10..20). \n",
    "\n",
    "* create random x (standard normal or uniform)\n",
    "* create random y = constant + random noise\n",
    "* plot x versus y\n",
    "* estimate models y ~ x, y ~ x + x^2, y ~ x + x^2 + x^3 ...\n",
    "* predict yhat on a grid\n",
    "* plot x versus predicted yhat"
   ]
  },
  {
   "cell_type": "markdown",
   "metadata": {
    "ein.tags": "worksheet-0",
    "slideshow": {
     "slide_type": "-"
    }
   },
   "source": [
    "## Bootstrap\n",
    "\n",
    "What is the 10th percentile of pareto random variables?\n",
    "\n",
    "How to find it's standard errors?"
   ]
  },
  {
   "cell_type": "code",
   "execution_count": 222,
   "metadata": {
    "autoscroll": false,
    "collapsed": false,
    "ein.tags": "worksheet-0",
    "slideshow": {
     "slide_type": "-"
    }
   },
   "outputs": [
    {
     "data": {
      "text/plain": [
       "0.0857860204825368"
      ]
     },
     "execution_count": 222,
     "metadata": {},
     "output_type": "execute_result"
    }
   ],
   "source": [
    "n = 100\n",
    "r = 1000\n",
    "x = np.random.pareto(2, size=n)\n",
    "np.percentile(x, 10)"
   ]
  },
  {
   "cell_type": "code",
   "execution_count": 223,
   "metadata": {
    "autoscroll": false,
    "collapsed": false,
    "ein.tags": "worksheet-0",
    "slideshow": {
     "slide_type": "-"
    }
   },
   "outputs": [
    {
     "name": "stdout",
     "output_type": "stream",
     "text": [
      "0.02812955585425779 0.0996909837781896\n"
     ]
    },
    {
     "data": {
      "image/png": "[encoded data removed]",
      "text/plain": [
       "<matplotlib.figure.Figure at 0x7fee5a757cc0>"
      ]
     },
     "metadata": {},
     "output_type": "display_data"
    }
   ],
   "source": [
    "x = np.random.pareto(2, size=(r,n))\n",
    "p10 = pd.DataFrame(x).apply(lambda x: np.percentile(x, 10), axis=1)\n",
    "lb, ub = np.percentile(p10, 2.5), np.percentile(p10, 97.5)\n",
    "print(lb, ub)\n",
    "a = plt.hist(p10)"
   ]
  },
  {
   "cell_type": "code",
   "execution_count": 224,
   "metadata": {
    "autoscroll": false,
    "collapsed": false,
    "ein.tags": "worksheet-0",
    "slideshow": {
     "slide_type": "-"
    }
   },
   "outputs": [
    {
     "name": "stdout",
     "output_type": "stream",
     "text": [
      "0.029239984104263872 0.10526115780414202\n"
     ]
    },
    {
     "data": {
      "image/png": "[encoded data removed]",
      "text/plain": [
       "<matplotlib.figure.Figure at 0x7fee59b70e48>"
      ]
     },
     "metadata": {},
     "output_type": "display_data"
    }
   ],
   "source": [
    "x = np.random.pareto(2, size=n)\n",
    "p10 = np.empty(r)\n",
    "for i in range(r):\n",
    "    xx = np.random.choice(x, len(x))\n",
    "    p10[i] = np.percentile(xx, 10)\n",
    "\n",
    "lb, ub = np.percentile(p10, 2.5), np.percentile(p10, 97.5)\n",
    "print(lb, ub)\n",
    "a = plt.hist(p10)    "
   ]
  }
 ],
 "metadata": {
  "name": "cross-validation.ipynb"
 },
 "nbformat": 4,
 "nbformat_minor": 2
}
