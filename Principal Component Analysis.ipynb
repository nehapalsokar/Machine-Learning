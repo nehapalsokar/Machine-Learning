{
 "cells": [
  {
   "cell_type": "code",
   "execution_count": 1,
   "metadata": {
    "autoscroll": false,
    "collapsed": false,
    "ein.tags": "worksheet-0",
    "slideshow": {
     "slide_type": "-"
    }
   },
   "outputs": [],
   "source": [
    "import numpy as np\n",
    "import matplotlib.pyplot as plt\n",
    "%matplotlib inline"
   ]
  },
  {
   "cell_type": "code",
   "execution_count": 2,
   "metadata": {
    "autoscroll": false,
    "collapsed": false,
    "ein.tags": "worksheet-0",
    "slideshow": {
     "slide_type": "-"
    }
   },
   "outputs": [],
   "source": [
    "x = np.random.normal(size=100)\n",
    "y = x + 0.5*np.random.normal(size=100)"
   ]
  },
  {
   "cell_type": "code",
   "execution_count": 5,
   "metadata": {
    "autoscroll": false,
    "collapsed": false,
    "ein.tags": "worksheet-0",
    "slideshow": {
     "slide_type": "-"
    }
   },
   "outputs": [
    {
     "data": {
      "text/plain": [
       "<matplotlib.collections.PathCollection at 0x7f17283d1da0>"
      ]
     },
     "execution_count": 5,
     "metadata": {},
     "output_type": "execute_result"
    },
    {
     "data": {
      "image/png": "[encoded data removed]",
      "text/plain": [
       "<matplotlib.figure.Figure at 0x7f1721e00b00>"
      ]
     },
     "metadata": {},
     "output_type": "display_data"
    }
   ],
   "source": [
    "plt.figure(figsize=(8,8))\n",
    "plt.scatter(x,y)"
   ]
  },
  {
   "cell_type": "code",
   "execution_count": 12,
   "metadata": {
    "autoscroll": false,
    "collapsed": false,
    "ein.tags": "worksheet-0",
    "slideshow": {
     "slide_type": "-"
    }
   },
   "outputs": [
    {
     "data": {
      "text/plain": [
       "array([[ 2.01681627,  1.95593667],\n       [-0.40783477, -1.07647049],\n       [ 1.15654292,  1.53644455],\n       [-0.98170413, -1.62197383],\n       [-0.03834575, -0.65534495]])"
      ]
     },
     "execution_count": 12,
     "metadata": {},
     "output_type": "execute_result"
    }
   ],
   "source": [
    "from sklearn.decomposition import PCA\n",
    "X = np.stack((x,y), axis=1)\n",
    "X[:5]"
   ]
  },
  {
   "cell_type": "code",
   "execution_count": 17,
   "metadata": {
    "autoscroll": false,
    "collapsed": false,
    "ein.tags": "worksheet-0",
    "slideshow": {
     "slide_type": "-"
    }
   },
   "outputs": [
    {
     "name": "stdout",
     "output_type": "stream",
     "text": [
      "components:\n",
      " [[ 0.65021685  0.75974868]\n",
      " [ 0.75974868 -0.65021685]]\n",
      "explained variance: [1.96845816 0.11161627]\n",
      "explained variance ratio: [0.94634025 0.05365975]\n"
     ]
    }
   ],
   "source": [
    "m = PCA().fit(X)\n",
    "print(\"components:\\n\", m.components_)\n",
    "print(\"explained variance:\", m.explained_variance_)\n",
    "print(\"explained variance ratio:\", m.explained_variance_ratio_)\n"
   ]
  },
  {
   "cell_type": "code",
   "execution_count": 18,
   "metadata": {
    "autoscroll": false,
    "collapsed": false,
    "ein.tags": "worksheet-0",
    "slideshow": {
     "slide_type": "-"
    }
   },
   "outputs": [
    {
     "data": {
      "text/plain": [
       "array([[ 2.79738821e+00,  2.60490518e-01],\n       [-1.08302807e+00,  3.90087317e-01],\n       [ 1.91931541e+00, -1.20340179e-01],\n       [-1.87061304e+00,  3.08786295e-01],\n       [-5.22830506e-01,  3.96983194e-01],\n       [ 1.33712041e+00, -3.58155397e-01],\n       [ 1.27215853e+00,  3.79715360e-01],\n       [-2.26957007e+00,  1.35647323e-01],\n       [ 5.60035679e-01, -6.89904864e-01],\n       [-1.30131562e+00,  1.21682763e-01],\n       [ 6.92700821e-01, -1.54803455e-01],\n       [-5.13702781e-01, -3.39236617e-01],\n       [ 1.35861476e+00, -7.65146311e-01],\n       [ 2.57239277e+00, -1.01548840e+00],\n       [ 1.64719710e-01,  5.19381248e-01],\n       [ 1.29899095e+00,  3.96428649e-02],\n       [ 8.11095027e-01, -2.84849355e-01],\n       [ 3.51095230e+00,  1.41143898e-01],\n       [-8.34489208e-01,  1.02510636e+00],\n       [ 4.04054764e+00,  8.30844061e-01],\n       [-1.56907892e+00, -3.25528505e-01],\n       [ 3.08341939e+00, -2.76949835e-01],\n       [ 5.38481445e-01, -1.92415216e-01],\n       [ 1.05201671e-01,  1.92923078e-01],\n       [-7.04421872e-01,  5.07915753e-01],\n       [ 1.49006367e+00, -4.24305186e-02],\n       [-3.17506576e+00, -7.00342149e-02],\n       [ 8.49269537e-01, -1.47646486e-01],\n       [-1.23417415e+00, -1.50674162e-01],\n       [ 3.64603740e-01,  3.09527247e-01],\n       [-6.91503493e-01, -3.37106661e-01],\n       [ 5.96170439e-01, -8.46733604e-01],\n       [ 3.03238450e-02, -3.20766961e-01],\n       [ 2.13698209e+00,  4.02604860e-02],\n       [ 6.93402261e-01, -1.34219898e-01],\n       [-1.44729679e+00,  6.01070307e-01],\n       [-6.53585927e-01,  2.22536983e-01],\n       [ 1.74721401e-02,  3.20668189e-01],\n       [ 3.25930999e-01,  3.53188473e-01],\n       [-8.65287515e-01, -3.66359854e-01],\n       [-4.61031825e-01, -2.66329046e-01],\n       [-1.04333503e+00, -3.25293587e-01],\n       [ 2.01776449e+00, -1.67098571e-01],\n       [-1.43383924e+00,  6.14699390e-04],\n       [-6.08005708e-01, -8.05091460e-03],\n       [ 5.71649961e-01, -3.05395979e-02],\n       [ 2.71519983e-01,  8.50295859e-02],\n       [ 1.30925748e+00,  1.83652881e-01],\n       [-1.22905461e+00,  2.17027731e-01],\n       [-2.59678669e+00, -5.02221241e-01],\n       [ 2.10318258e+00,  2.06555241e-01],\n       [ 8.34059859e-01, -4.77668335e-01],\n       [ 2.00169947e+00,  1.50708435e-01],\n       [-6.59751973e-01, -8.06920352e-02],\n       [-5.26972846e-01,  3.18570476e-01],\n       [ 3.06224686e-01, -9.93734594e-02],\n       [-6.92560135e-01,  1.15265857e-01],\n       [ 8.57558875e-01, -2.45386523e-01],\n       [-9.87047514e-01,  4.50794039e-01],\n       [-9.60644379e-02,  2.22349902e-01],\n       [ 3.70974646e-01, -1.69195127e-01],\n       [ 3.09645463e-01,  1.10383261e-01],\n       [-6.32064424e-01,  2.00996696e-01],\n       [-7.12531477e-01, -4.77537643e-02],\n       [ 9.01270623e-01, -2.78030234e-01],\n       [-7.57830656e-01, -2.89432322e-01],\n       [-5.82070343e-01,  8.58792007e-02],\n       [ 1.16781522e+00,  1.69104931e-01],\n       [-1.26374257e+00, -5.18587012e-01],\n       [ 1.84216382e+00,  1.70886741e-01],\n       [-1.54883887e+00,  4.53979343e-01],\n       [ 1.24163959e+00,  4.00840671e-03],\n       [ 6.23104949e-01,  9.93747010e-02],\n       [-7.51496769e-01,  1.58683077e-01],\n       [ 4.24976166e-01, -1.76812286e-01],\n       [ 2.73537700e+00,  3.76782846e-01],\n       [ 7.31963945e-01, -1.44811236e-01],\n       [-5.23953495e-01,  1.04054794e-02],\n       [ 5.68296302e-01, -9.50109063e-02],\n       [ 2.00247294e+00, -2.50629180e-02],\n       [ 2.96903127e-01, -8.67868614e-02],\n       [ 3.40176420e+00, -1.77242186e-01],\n       [-1.67405766e+00, -2.82363111e-01],\n       [ 4.62457044e-01, -5.96551560e-02],\n       [ 1.08826219e+00, -1.63216993e-01],\n       [ 1.99164566e+00,  3.60353845e-01],\n       [ 1.05430934e+00,  1.58648397e-01],\n       [ 2.86789225e+00, -9.89342003e-02],\n       [ 6.65942499e-01, -2.53702181e-01],\n       [-6.41479037e-01,  3.04891470e-02],\n       [ 1.29499794e+00,  9.00284236e-02],\n       [ 8.62710500e-02, -4.56919928e-02],\n       [ 3.68583103e-01, -1.75537916e-01],\n       [-7.18890715e-01,  2.14910275e-02],\n       [-1.09002642e+00, -5.10121709e-01],\n       [-1.25494942e+00,  2.30104309e-01],\n       [-8.64365242e-01,  6.67322444e-02],\n       [ 6.73925704e-01,  5.39598300e-02],\n       [ 1.56084654e+00,  6.60845478e-01],\n       [-1.45272677e+00, -2.01145173e-01]])"
      ]
     },
     "execution_count": 18,
     "metadata": {},
     "output_type": "execute_result"
    }
   ],
   "source": [
    "X @ m.components_"
   ]
  },
  {
   "cell_type": "code",
   "execution_count": 20,
   "metadata": {
    "autoscroll": false,
    "collapsed": false,
    "ein.tags": "worksheet-0",
    "slideshow": {
     "slide_type": "-"
    }
   },
   "outputs": [],
   "source": [
    "xr = m.transform(X)"
   ]
  },
  {
   "cell_type": "code",
   "execution_count": 21,
   "metadata": {
    "autoscroll": false,
    "collapsed": false,
    "ein.tags": "worksheet-0",
    "slideshow": {
     "slide_type": "-"
    }
   },
   "outputs": [
    {
     "data": {
      "text/plain": [
       "<matplotlib.collections.PathCollection at 0x7f170fe9b860>"
      ]
     },
     "execution_count": 21,
     "metadata": {},
     "output_type": "execute_result"
    },
    {
     "data": {
      "image/png": "[encoded data removed]",
      "text/plain": [
       "<matplotlib.figure.Figure at 0x7f170fce2080>"
      ]
     },
     "metadata": {},
     "output_type": "display_data"
    }
   ],
   "source": [
    "plt.scatter(xr[:,0], xr[:,1])"
   ]
  },
  {
   "cell_type": "code",
   "execution_count": null,
   "metadata": {
    "autoscroll": false,
    "collapsed": false,
    "ein.tags": "worksheet-0",
    "slideshow": {
     "slide_type": "-"
    }
   },
   "outputs": [],
   "source": []
  }
 ],
 "metadata": {
  "name": "pca-intro.ipynb"
 },
 "nbformat": 4,
 "nbformat_minor": 2
}
