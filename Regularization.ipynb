{
 "cells": [
  {
   "cell_type": "code",
   "execution_count": 2,
   "metadata": {},
   "outputs": [],
   "source": [
    "import numpy as np\n",
    "import pandas as pd\n",
    "import matplotlib.pyplot as plt\n",
    "\n",
    "\n",
    "from sklearn.model_selection import train_test_split\n",
    "from sklearn import linear_model\n",
    "from sklearn.metrics import accuracy_score,r2_score\n",
    "%matplotlib inline"
   ]
  },
  {
   "cell_type": "code",
   "execution_count": 3,
   "metadata": {},
   "outputs": [],
   "source": [
    "#read the data\n",
    "data = pd.read_csv('ionosphere.csv')"
   ]
  },
  {
   "cell_type": "markdown",
   "metadata": {},
   "source": [
    "#### Some information on the dataset\n",
    "This radar data was collected by a system in Goose Bay, Labrador. This system consists of a phased array of 16 high-frequency antennas with a total transmitted power on the order of 6.4 kilowatts. See the [paper](https://pdfs.semanticscholar.org/e0d2/de05caacdfa8073b2b4f77c5e72cb2449b81.pdf) for more details. \n",
    "\n",
    "The targets were free electrons in the ionosphere.\"Good\" radar returns are those showing evidence of some type of structure in the ionosphere. \"Bad\" returns are those that do not; their signals pass through the ionosphere. "
   ]
  },
  {
   "cell_type": "markdown",
   "metadata": {},
   "source": [
    "In order to check the effect of regularization on test data, split the data into train and test using sklearn."
   ]
  },
  {
   "cell_type": "code",
   "execution_count": 4,
   "metadata": {},
   "outputs": [],
   "source": [
    "#split the data into train and test\n",
    "X_train, X_test=train_test_split(data)"
   ]
  },
  {
   "cell_type": "markdown",
   "metadata": {},
   "source": [
    "Create a model using Logistic Regression from sklearn. "
   ]
  },
  {
   "cell_type": "markdown",
   "metadata": {},
   "source": [
    "    1. Perform a ridge regression using sklearn. Test for the accuracy on the test dataset"
   ]
  },
  {
   "cell_type": "code",
   "execution_count": 5,
   "metadata": {},
   "outputs": [
    {
     "data": {
      "text/plain": [
       "0.8636363636363636"
      ]
     },
     "execution_count": 5,
     "metadata": {},
     "output_type": "execute_result"
    }
   ],
   "source": [
    "#perform ridge regression and test accuracy\n",
    "mod = linear_model.LogisticRegression(penalty='l2',C=0.1)\n",
    "X=X_train.drop('target',axis=1)\n",
    "Y=X_train['target']\n",
    "\n",
    "mod.fit(X,Y)\n",
    "\n",
    "X1=X_test.drop('target',axis=1)\n",
    "Y1=np.array(X_test['target'])\n",
    "\n",
    "yhat=mod.predict(X1)\n",
    "accuracy_score(Y1, yhat)"
   ]
  },
  {
   "cell_type": "markdown",
   "metadata": {},
   "source": [
    "    2. Perform lasso regression using sklearn. Test for the accuracy on the test dataset"
   ]
  },
  {
   "cell_type": "code",
   "execution_count": 6,
   "metadata": {},
   "outputs": [
    {
     "data": {
      "text/plain": [
       "0.7840909090909091"
      ]
     },
     "execution_count": 6,
     "metadata": {},
     "output_type": "execute_result"
    }
   ],
   "source": [
    "#perform lasso regression and test accuracy\n",
    "#perform ridge regression and test accuracy\n",
    "mod = linear_model.LogisticRegression(penalty='l1',C=0.1)\n",
    "X=X_train.drop('target',axis=1)\n",
    "Y=X_train['target']\n",
    "\n",
    "mod.fit(X,Y)\n",
    "\n",
    "X1=X_test.drop('target',axis=1)\n",
    "Y1=np.array(X_test['target'])\n",
    "\n",
    "yhat=mod.predict(X1)\n",
    "accuracy_score(Y1, yhat)"
   ]
  },
  {
   "cell_type": "markdown",
   "metadata": {},
   "source": [
    "    3. Tune the parameters of C(1/lambda) and appropriate choice of regularization. Default values of C and regularization is 1.0 and 'l2' - ridge respectively. Record the results (accuracy, coefficients and lambdas) in a dataframe."
   ]
  },
  {
   "cell_type": "markdown",
   "metadata": {},
   "source": [
    "## for Ridge regression"
   ]
  },
  {
   "cell_type": "code",
   "execution_count": 7,
   "metadata": {},
   "outputs": [
    {
     "data": {
      "text/html": [
       "<div>\n",
       "<style scoped>\n",
       "    .dataframe tbody tr th:only-of-type {\n",
       "        vertical-align: middle;\n",
       "    }\n",
       "\n",
       "    .dataframe tbody tr th {\n",
       "        vertical-align: top;\n",
       "    }\n",
       "\n",
       "    .dataframe thead th {\n",
       "        text-align: right;\n",
       "    }\n",
       "</style>\n",
       "<table border=\"1\" class=\"dataframe\">\n",
       "  <thead>\n",
       "    <tr style=\"text-align: right;\">\n",
       "      <th></th>\n",
       "      <th>Accuracy</th>\n",
       "      <th>lambda</th>\n",
       "      <th>X1</th>\n",
       "      <th>X2</th>\n",
       "      <th>X3</th>\n",
       "      <th>X4</th>\n",
       "      <th>X5</th>\n",
       "      <th>X6</th>\n",
       "      <th>X7</th>\n",
       "      <th>X8</th>\n",
       "      <th>...</th>\n",
       "      <th>X25</th>\n",
       "      <th>X26</th>\n",
       "      <th>X27</th>\n",
       "      <th>X28</th>\n",
       "      <th>X29</th>\n",
       "      <th>X30</th>\n",
       "      <th>X31</th>\n",
       "      <th>X32</th>\n",
       "      <th>X33</th>\n",
       "      <th>X34</th>\n",
       "    </tr>\n",
       "  </thead>\n",
       "  <tbody>\n",
       "    <tr>\n",
       "      <th>0</th>\n",
       "      <td>0.931818</td>\n",
       "      <td>0.100</td>\n",
       "      <td>5.462355</td>\n",
       "      <td>0.0</td>\n",
       "      <td>1.135138</td>\n",
       "      <td>0.067268</td>\n",
       "      <td>2.555876</td>\n",
       "      <td>2.910665</td>\n",
       "      <td>0.719990</td>\n",
       "      <td>1.883302</td>\n",
       "      <td>...</td>\n",
       "      <td>1.637992</td>\n",
       "      <td>0.414047</td>\n",
       "      <td>-3.194943</td>\n",
       "      <td>-0.253601</td>\n",
       "      <td>0.614772</td>\n",
       "      <td>2.673263</td>\n",
       "      <td>0.961610</td>\n",
       "      <td>-0.786776</td>\n",
       "      <td>-1.366343</td>\n",
       "      <td>-2.572849</td>\n",
       "    </tr>\n",
       "    <tr>\n",
       "      <th>1</th>\n",
       "      <td>0.931818</td>\n",
       "      <td>0.050</td>\n",
       "      <td>7.760025</td>\n",
       "      <td>0.0</td>\n",
       "      <td>1.072928</td>\n",
       "      <td>-0.244351</td>\n",
       "      <td>2.903516</td>\n",
       "      <td>3.473822</td>\n",
       "      <td>0.795591</td>\n",
       "      <td>2.302099</td>\n",
       "      <td>...</td>\n",
       "      <td>2.029543</td>\n",
       "      <td>0.056993</td>\n",
       "      <td>-3.910187</td>\n",
       "      <td>-0.124320</td>\n",
       "      <td>0.809414</td>\n",
       "      <td>3.681419</td>\n",
       "      <td>1.226269</td>\n",
       "      <td>-0.918221</td>\n",
       "      <td>-1.701343</td>\n",
       "      <td>-3.098076</td>\n",
       "    </tr>\n",
       "    <tr>\n",
       "      <th>2</th>\n",
       "      <td>0.931818</td>\n",
       "      <td>0.025</td>\n",
       "      <td>10.605351</td>\n",
       "      <td>0.0</td>\n",
       "      <td>1.030781</td>\n",
       "      <td>-0.682192</td>\n",
       "      <td>3.209913</td>\n",
       "      <td>4.055796</td>\n",
       "      <td>0.972791</td>\n",
       "      <td>2.816085</td>\n",
       "      <td>...</td>\n",
       "      <td>2.485927</td>\n",
       "      <td>-0.347108</td>\n",
       "      <td>-4.778548</td>\n",
       "      <td>0.060157</td>\n",
       "      <td>0.957707</td>\n",
       "      <td>4.904954</td>\n",
       "      <td>1.614365</td>\n",
       "      <td>-1.120224</td>\n",
       "      <td>-2.026227</td>\n",
       "      <td>-3.594907</td>\n",
       "    </tr>\n",
       "    <tr>\n",
       "      <th>3</th>\n",
       "      <td>0.943182</td>\n",
       "      <td>0.020</td>\n",
       "      <td>11.644887</td>\n",
       "      <td>0.0</td>\n",
       "      <td>1.022183</td>\n",
       "      <td>-0.850562</td>\n",
       "      <td>3.310240</td>\n",
       "      <td>4.247196</td>\n",
       "      <td>1.045011</td>\n",
       "      <td>2.991922</td>\n",
       "      <td>...</td>\n",
       "      <td>2.662567</td>\n",
       "      <td>-0.486304</td>\n",
       "      <td>-5.088321</td>\n",
       "      <td>0.138763</td>\n",
       "      <td>0.979977</td>\n",
       "      <td>5.341474</td>\n",
       "      <td>1.774023</td>\n",
       "      <td>-1.206648</td>\n",
       "      <td>-2.124856</td>\n",
       "      <td>-3.748666</td>\n",
       "    </tr>\n",
       "    <tr>\n",
       "      <th>4</th>\n",
       "      <td>0.920455</td>\n",
       "      <td>0.010</td>\n",
       "      <td>15.233875</td>\n",
       "      <td>0.0</td>\n",
       "      <td>0.988708</td>\n",
       "      <td>-1.424704</td>\n",
       "      <td>3.649154</td>\n",
       "      <td>4.880402</td>\n",
       "      <td>1.315907</td>\n",
       "      <td>3.561802</td>\n",
       "      <td>...</td>\n",
       "      <td>3.343762</td>\n",
       "      <td>-0.903670</td>\n",
       "      <td>-6.162710</td>\n",
       "      <td>0.492686</td>\n",
       "      <td>0.955020</td>\n",
       "      <td>6.803873</td>\n",
       "      <td>2.410190</td>\n",
       "      <td>-1.563098</td>\n",
       "      <td>-2.433533</td>\n",
       "      <td>-4.223187</td>\n",
       "    </tr>\n",
       "  </tbody>\n",
       "</table>\n",
       "<p>5 rows × 36 columns</p>\n",
       "</div>"
      ],
      "text/plain": [
       "   Accuracy  lambda         X1   X2        X3        X4        X5        X6  \\\n",
       "0  0.931818   0.100   5.462355  0.0  1.135138  0.067268  2.555876  2.910665   \n",
       "1  0.931818   0.050   7.760025  0.0  1.072928 -0.244351  2.903516  3.473822   \n",
       "2  0.931818   0.025  10.605351  0.0  1.030781 -0.682192  3.209913  4.055796   \n",
       "3  0.943182   0.020  11.644887  0.0  1.022183 -0.850562  3.310240  4.247196   \n",
       "4  0.920455   0.010  15.233875  0.0  0.988708 -1.424704  3.649154  4.880402   \n",
       "\n",
       "         X7        X8    ...          X25       X26       X27       X28  \\\n",
       "0  0.719990  1.883302    ...     1.637992  0.414047 -3.194943 -0.253601   \n",
       "1  0.795591  2.302099    ...     2.029543  0.056993 -3.910187 -0.124320   \n",
       "2  0.972791  2.816085    ...     2.485927 -0.347108 -4.778548  0.060157   \n",
       "3  1.045011  2.991922    ...     2.662567 -0.486304 -5.088321  0.138763   \n",
       "4  1.315907  3.561802    ...     3.343762 -0.903670 -6.162710  0.492686   \n",
       "\n",
       "        X29       X30       X31       X32       X33       X34  \n",
       "0  0.614772  2.673263  0.961610 -0.786776 -1.366343 -2.572849  \n",
       "1  0.809414  3.681419  1.226269 -0.918221 -1.701343 -3.098076  \n",
       "2  0.957707  4.904954  1.614365 -1.120224 -2.026227 -3.594907  \n",
       "3  0.979977  5.341474  1.774023 -1.206648 -2.124856 -3.748666  \n",
       "4  0.955020  6.803873  2.410190 -1.563098 -2.433533 -4.223187  \n",
       "\n",
       "[5 rows x 36 columns]"
      ]
     },
     "execution_count": 7,
     "metadata": {},
     "output_type": "execute_result"
    }
   ],
   "source": [
    "def ridge_reg(c):\n",
    "    mod = linear_model.LogisticRegression(penalty='l2',C=c)\n",
    "    X_train.head()\n",
    "\n",
    "    X = X_train.drop('target', axis=1)\n",
    "    Y = X_train['target']\n",
    "    mod.fit(X,Y)\n",
    "\n",
    "    X1 = X_test.drop('target',axis=1)\n",
    "    y = np.array(X_test['target'])\n",
    "    yhat = mod.predict(X1)\n",
    "\n",
    "    a = accuracy_score(y,yhat)\n",
    "    coeff = mod.coef_\n",
    "    \n",
    "    return (a,coeff)\n",
    "\n",
    "\n",
    "c=[10,20,40,50,100]\n",
    "lam=[0.1,0.05,0.025,0.02,0.01]\n",
    "l = []\n",
    "\n",
    "df = pd.DataFrame(columns=['X1','X2','X3','X4','X5','X6','X7','X8','X9','X10','X11','X12','X13','X14','X15','X16','X17','X18','X19','X20','X21','X22','X23','X24','X25','X26','X27','X28','X29','X30','X31','X32','X33','X34'])\n",
    "\n",
    "for i in range(5):\n",
    "    a,coeff = ridge_reg(c[i])\n",
    "    l.append(a)\n",
    "    df.loc[i] = coeff[0]\n",
    "    \n",
    "df1 = pd.DataFrame({'Accuracy':l,'lambda':lam})\n",
    "final = [df1,df]\n",
    "\n",
    "final=pd.concat([df1,df],axis=1)\n",
    "final"
   ]
  },
  {
   "cell_type": "markdown",
   "metadata": {},
   "source": [
    "    4. Plot the coefficients against lambdas and accuracy against lambdas for both lasso and ridge regularization."
   ]
  },
  {
   "cell_type": "code",
   "execution_count": 8,
   "metadata": {},
   "outputs": [
    {
     "data": {
      "text/plain": [
       "[<matplotlib.lines.Line2D at 0x22bf4f71c50>]"
      ]
     },
     "execution_count": 8,
     "metadata": {},
     "output_type": "execute_result"
    },
    {
     "data": {
      "image/png": "[encoded data removed]",
      "text/plain": [
       "<matplotlib.figure.Figure at 0x22bf4cafba8>"
      ]
     },
     "metadata": {},
     "output_type": "display_data"
    }
   ],
   "source": [
    "\n",
    "plt.plot(final['lambda'],final['X1'])\n",
    "plt.plot(final['lambda'],final['X2'])\n",
    "plt.plot(final['lambda'],final['X3'])\n",
    "plt.plot(final['lambda'],final['X4'])\n",
    "plt.plot(final['lambda'],final['X5'])\n",
    "plt.plot(final['lambda'],final['X6'])\n",
    "plt.plot(final['lambda'],final['X7'])\n",
    "plt.plot(final['lambda'],final['X8'])\n",
    "plt.plot(final['lambda'],final['X9'])\n",
    "plt.plot(final['lambda'],final['X10'])\n",
    "plt.plot(final['lambda'],final['X11'])\n",
    "plt.plot(final['lambda'],final['X12'])\n",
    "plt.plot(final['lambda'],final['X13'])\n",
    "plt.plot(final['lambda'],final['X14'])\n",
    "plt.plot(final['lambda'],final['X15'])\n",
    "plt.plot(final['lambda'],final['X16'])\n",
    "plt.plot(final['lambda'],final['X17'])\n",
    "plt.plot(final['lambda'],final['X18'])\n",
    "plt.plot(final['lambda'],final['X19'])\n",
    "plt.plot(final['lambda'],final['X20'])\n",
    "plt.plot(final['lambda'],final['X21'])\n",
    "plt.plot(final['lambda'],final['X22'])\n",
    "plt.plot(final['lambda'],final['X23'])\n",
    "plt.plot(final['lambda'],final['X24'])\n",
    "plt.plot(final['lambda'],final['X25'])\n",
    "plt.plot(final['lambda'],final['X26'])\n",
    "plt.plot(final['lambda'],final['X27'])\n",
    "plt.plot(final['lambda'],final['X28'])\n",
    "plt.plot(final['lambda'],final['X29'])\n",
    "plt.plot(final['lambda'],final['X30'])\n",
    "plt.plot(final['lambda'],final['X31'])\n",
    "plt.plot(final['lambda'],final['X32'])\n",
    "plt.plot(final['lambda'],final['X33'])\n",
    "plt.plot(final['lambda'],final['X34'])"
   ]
  },
  {
   "cell_type": "code",
   "execution_count": 9,
   "metadata": {},
   "outputs": [
    {
     "data": {
      "text/plain": [
       "[<matplotlib.lines.Line2D at 0x22bf4ff34e0>]"
      ]
     },
     "execution_count": 9,
     "metadata": {},
     "output_type": "execute_result"
    },
    {
     "data": {
      "image/png": "[encoded data removed]",
      "text/plain": [
       "<matplotlib.figure.Figure at 0x22bf4c80748>"
      ]
     },
     "metadata": {},
     "output_type": "display_data"
    }
   ],
   "source": [
    "plt.plot(final['lambda'],final['Accuracy'])"
   ]
  },
  {
   "cell_type": "markdown",
   "metadata": {},
   "source": []
  },
  {
   "cell_type": "markdown",
   "metadata": {},
   "source": [
    "\n",
    "## for Lasso regression"
   ]
  },
  {
   "cell_type": "code",
   "execution_count": 10,
   "metadata": {},
   "outputs": [
    {
     "data": {
      "text/html": [
       "<div>\n",
       "<style scoped>\n",
       "    .dataframe tbody tr th:only-of-type {\n",
       "        vertical-align: middle;\n",
       "    }\n",
       "\n",
       "    .dataframe tbody tr th {\n",
       "        vertical-align: top;\n",
       "    }\n",
       "\n",
       "    .dataframe thead th {\n",
       "        text-align: right;\n",
       "    }\n",
       "</style>\n",
       "<table border=\"1\" class=\"dataframe\">\n",
       "  <thead>\n",
       "    <tr style=\"text-align: right;\">\n",
       "      <th></th>\n",
       "      <th>Accuracy</th>\n",
       "      <th>lambda</th>\n",
       "      <th>X1</th>\n",
       "      <th>X2</th>\n",
       "      <th>X3</th>\n",
       "      <th>X4</th>\n",
       "      <th>X5</th>\n",
       "      <th>X6</th>\n",
       "      <th>X7</th>\n",
       "      <th>X8</th>\n",
       "      <th>...</th>\n",
       "      <th>X25</th>\n",
       "      <th>X26</th>\n",
       "      <th>X27</th>\n",
       "      <th>X28</th>\n",
       "      <th>X29</th>\n",
       "      <th>X30</th>\n",
       "      <th>X31</th>\n",
       "      <th>X32</th>\n",
       "      <th>X33</th>\n",
       "      <th>X34</th>\n",
       "    </tr>\n",
       "  </thead>\n",
       "  <tbody>\n",
       "    <tr>\n",
       "      <th>0</th>\n",
       "      <td>0.931818</td>\n",
       "      <td>0.100</td>\n",
       "      <td>14.547208</td>\n",
       "      <td>0.0</td>\n",
       "      <td>0.848068</td>\n",
       "      <td>-0.956809</td>\n",
       "      <td>3.579360</td>\n",
       "      <td>4.399021</td>\n",
       "      <td>1.047691</td>\n",
       "      <td>3.073634</td>\n",
       "      <td>...</td>\n",
       "      <td>2.868485</td>\n",
       "      <td>-0.701854</td>\n",
       "      <td>-5.342432</td>\n",
       "      <td>0.098654</td>\n",
       "      <td>1.151173</td>\n",
       "      <td>5.666480</td>\n",
       "      <td>1.788222</td>\n",
       "      <td>-1.060784</td>\n",
       "      <td>-2.075995</td>\n",
       "      <td>-3.676806</td>\n",
       "    </tr>\n",
       "    <tr>\n",
       "      <th>1</th>\n",
       "      <td>0.909091</td>\n",
       "      <td>0.050</td>\n",
       "      <td>20.211995</td>\n",
       "      <td>0.0</td>\n",
       "      <td>0.881734</td>\n",
       "      <td>-1.950851</td>\n",
       "      <td>4.049983</td>\n",
       "      <td>5.445767</td>\n",
       "      <td>1.533585</td>\n",
       "      <td>3.945376</td>\n",
       "      <td>...</td>\n",
       "      <td>4.143007</td>\n",
       "      <td>-1.279736</td>\n",
       "      <td>-7.064230</td>\n",
       "      <td>1.029806</td>\n",
       "      <td>0.844583</td>\n",
       "      <td>7.862946</td>\n",
       "      <td>3.116883</td>\n",
       "      <td>-1.871197</td>\n",
       "      <td>-2.646614</td>\n",
       "      <td>-4.455550</td>\n",
       "    </tr>\n",
       "    <tr>\n",
       "      <th>2</th>\n",
       "      <td>0.897727</td>\n",
       "      <td>0.025</td>\n",
       "      <td>25.724176</td>\n",
       "      <td>0.0</td>\n",
       "      <td>0.811612</td>\n",
       "      <td>-2.700894</td>\n",
       "      <td>4.573891</td>\n",
       "      <td>6.454373</td>\n",
       "      <td>2.050486</td>\n",
       "      <td>4.675753</td>\n",
       "      <td>...</td>\n",
       "      <td>5.391043</td>\n",
       "      <td>-1.808083</td>\n",
       "      <td>-8.751193</td>\n",
       "      <td>2.089733</td>\n",
       "      <td>0.566000</td>\n",
       "      <td>9.835943</td>\n",
       "      <td>4.305954</td>\n",
       "      <td>-2.630408</td>\n",
       "      <td>-3.141061</td>\n",
       "      <td>-5.230173</td>\n",
       "    </tr>\n",
       "    <tr>\n",
       "      <th>3</th>\n",
       "      <td>0.909091</td>\n",
       "      <td>0.020</td>\n",
       "      <td>26.918158</td>\n",
       "      <td>0.0</td>\n",
       "      <td>0.771845</td>\n",
       "      <td>-2.844493</td>\n",
       "      <td>4.687996</td>\n",
       "      <td>6.690534</td>\n",
       "      <td>2.187293</td>\n",
       "      <td>4.842079</td>\n",
       "      <td>...</td>\n",
       "      <td>5.671098</td>\n",
       "      <td>-1.925258</td>\n",
       "      <td>-9.157006</td>\n",
       "      <td>2.342861</td>\n",
       "      <td>0.517903</td>\n",
       "      <td>10.285496</td>\n",
       "      <td>4.564107</td>\n",
       "      <td>-2.799954</td>\n",
       "      <td>-3.232428</td>\n",
       "      <td>-5.421602</td>\n",
       "    </tr>\n",
       "    <tr>\n",
       "      <th>4</th>\n",
       "      <td>0.909091</td>\n",
       "      <td>0.010</td>\n",
       "      <td>30.719733</td>\n",
       "      <td>0.0</td>\n",
       "      <td>0.666481</td>\n",
       "      <td>-3.237211</td>\n",
       "      <td>5.022577</td>\n",
       "      <td>7.358380</td>\n",
       "      <td>2.577664</td>\n",
       "      <td>5.300754</td>\n",
       "      <td>...</td>\n",
       "      <td>6.457419</td>\n",
       "      <td>-2.283798</td>\n",
       "      <td>-10.294904</td>\n",
       "      <td>3.085869</td>\n",
       "      <td>0.384499</td>\n",
       "      <td>11.532607</td>\n",
       "      <td>5.295984</td>\n",
       "      <td>-3.268375</td>\n",
       "      <td>-3.474478</td>\n",
       "      <td>-5.981841</td>\n",
       "    </tr>\n",
       "  </tbody>\n",
       "</table>\n",
       "<p>5 rows × 36 columns</p>\n",
       "</div>"
      ],
      "text/plain": [
       "   Accuracy  lambda         X1   X2        X3        X4        X5        X6  \\\n",
       "0  0.931818   0.100  14.547208  0.0  0.848068 -0.956809  3.579360  4.399021   \n",
       "1  0.909091   0.050  20.211995  0.0  0.881734 -1.950851  4.049983  5.445767   \n",
       "2  0.897727   0.025  25.724176  0.0  0.811612 -2.700894  4.573891  6.454373   \n",
       "3  0.909091   0.020  26.918158  0.0  0.771845 -2.844493  4.687996  6.690534   \n",
       "4  0.909091   0.010  30.719733  0.0  0.666481 -3.237211  5.022577  7.358380   \n",
       "\n",
       "         X7        X8    ...          X25       X26        X27       X28  \\\n",
       "0  1.047691  3.073634    ...     2.868485 -0.701854  -5.342432  0.098654   \n",
       "1  1.533585  3.945376    ...     4.143007 -1.279736  -7.064230  1.029806   \n",
       "2  2.050486  4.675753    ...     5.391043 -1.808083  -8.751193  2.089733   \n",
       "3  2.187293  4.842079    ...     5.671098 -1.925258  -9.157006  2.342861   \n",
       "4  2.577664  5.300754    ...     6.457419 -2.283798 -10.294904  3.085869   \n",
       "\n",
       "        X29        X30       X31       X32       X33       X34  \n",
       "0  1.151173   5.666480  1.788222 -1.060784 -2.075995 -3.676806  \n",
       "1  0.844583   7.862946  3.116883 -1.871197 -2.646614 -4.455550  \n",
       "2  0.566000   9.835943  4.305954 -2.630408 -3.141061 -5.230173  \n",
       "3  0.517903  10.285496  4.564107 -2.799954 -3.232428 -5.421602  \n",
       "4  0.384499  11.532607  5.295984 -3.268375 -3.474478 -5.981841  \n",
       "\n",
       "[5 rows x 36 columns]"
      ]
     },
     "execution_count": 10,
     "metadata": {},
     "output_type": "execute_result"
    }
   ],
   "source": [
    "def ridge_reg(c):\n",
    "    mod = linear_model.LogisticRegression(penalty='l1',C=c)\n",
    "    X_train.head()\n",
    "\n",
    "    X = X_train.drop('target', axis=1)\n",
    "    Y = X_train['target']\n",
    "    mod.fit(X,Y)\n",
    "\n",
    "    X1 = X_test.drop('target',axis=1)\n",
    "    y = np.array(X_test['target'])\n",
    "    yhat = mod.predict(X1)\n",
    "\n",
    "    a = accuracy_score(y,yhat)\n",
    "    coeff = mod.coef_\n",
    "    \n",
    "    return (a,coeff)\n",
    "\n",
    "\n",
    "c=[10,20,40,50,100]\n",
    "lam=[0.1,0.05,0.025,0.02,0.01]\n",
    "l = []\n",
    "\n",
    "df = pd.DataFrame(columns=['X1','X2','X3','X4','X5','X6','X7','X8','X9','X10','X11','X12','X13','X14','X15','X16','X17','X18','X19','X20','X21','X22','X23','X24','X25','X26','X27','X28','X29','X30','X31','X32','X33','X34'])\n",
    "\n",
    "for i in range(5):\n",
    "    a,coeff = ridge_reg(c[i])\n",
    "    l.append(a)\n",
    "    df.loc[i] = coeff[0]\n",
    "    \n",
    "df1 = pd.DataFrame({'Accuracy':l,'lambda':lam})\n",
    "final = [df1,df]\n",
    "\n",
    "final=pd.concat([df1,df],axis=1)\n",
    "final"
   ]
  },
  {
   "cell_type": "code",
   "execution_count": 11,
   "metadata": {},
   "outputs": [
    {
     "data": {
      "text/plain": [
       "[<matplotlib.lines.Line2D at 0x22bf50c0208>]"
      ]
     },
     "execution_count": 11,
     "metadata": {},
     "output_type": "execute_result"
    },
    {
     "data": {
      "image/png": "[encoded data removed]",
      "text/plain": [
       "<matplotlib.figure.Figure at 0x22bf5029710>"
      ]
     },
     "metadata": {},
     "output_type": "display_data"
    }
   ],
   "source": [
    "\n",
    "plt.plot(final['lambda'],final['X1'])\n",
    "plt.plot(final['lambda'],final['X2'])\n",
    "plt.plot(final['lambda'],final['X3'])\n",
    "plt.plot(final['lambda'],final['X4'])\n",
    "plt.plot(final['lambda'],final['X5'])\n",
    "plt.plot(final['lambda'],final['X6'])\n",
    "plt.plot(final['lambda'],final['X7'])\n",
    "plt.plot(final['lambda'],final['X8'])\n",
    "plt.plot(final['lambda'],final['X9'])\n",
    "plt.plot(final['lambda'],final['X10'])\n",
    "plt.plot(final['lambda'],final['X11'])\n",
    "plt.plot(final['lambda'],final['X12'])\n",
    "plt.plot(final['lambda'],final['X13'])\n",
    "plt.plot(final['lambda'],final['X14'])\n",
    "plt.plot(final['lambda'],final['X15'])\n",
    "plt.plot(final['lambda'],final['X16'])\n",
    "plt.plot(final['lambda'],final['X17'])\n",
    "plt.plot(final['lambda'],final['X18'])\n",
    "plt.plot(final['lambda'],final['X19'])\n",
    "plt.plot(final['lambda'],final['X20'])\n",
    "plt.plot(final['lambda'],final['X21'])\n",
    "plt.plot(final['lambda'],final['X22'])\n",
    "plt.plot(final['lambda'],final['X23'])\n",
    "plt.plot(final['lambda'],final['X24'])\n",
    "plt.plot(final['lambda'],final['X25'])\n",
    "plt.plot(final['lambda'],final['X26'])\n",
    "plt.plot(final['lambda'],final['X27'])\n",
    "plt.plot(final['lambda'],final['X28'])\n",
    "plt.plot(final['lambda'],final['X29'])\n",
    "plt.plot(final['lambda'],final['X30'])\n",
    "plt.plot(final['lambda'],final['X31'])\n",
    "plt.plot(final['lambda'],final['X32'])\n",
    "plt.plot(final['lambda'],final['X33'])\n",
    "plt.plot(final['lambda'],final['X34'])"
   ]
  },
  {
   "cell_type": "code",
   "execution_count": 12,
   "metadata": {},
   "outputs": [
    {
     "data": {
      "text/plain": [
       "[<matplotlib.lines.Line2D at 0x22bf510ea90>]"
      ]
     },
     "execution_count": 12,
     "metadata": {},
     "output_type": "execute_result"
    },
    {
     "data": {
      "image/png": "[encoded data removed]",
      "text/plain": [
       "<matplotlib.figure.Figure at 0x22bf501dfd0>"
      ]
     },
     "metadata": {},
     "output_type": "display_data"
    }
   ],
   "source": [
    "plt.plot(final['lambda'],final['Accuracy'])"
   ]
  },
  {
   "cell_type": "code",
   "execution_count": null,
   "metadata": {},
   "outputs": [],
   "source": []
  }
 ],
 "metadata": {
  "kernelspec": {
   "display_name": "Python 3",
   "language": "python",
   "name": "python3"
  },
  "language_info": {
   "codemirror_mode": {
    "name": "ipython",
    "version": 3
   },
   "file_extension": ".py",
   "mimetype": "text/x-python",
   "name": "python",
   "nbconvert_exporter": "python",
   "pygments_lexer": "ipython3",
   "version": "3.6.4"
  }
 },
 "nbformat": 4,
 "nbformat_minor": 2
}
