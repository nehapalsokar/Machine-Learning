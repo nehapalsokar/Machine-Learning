{
 "cells": [
  {
   "cell_type": "code",
   "execution_count": 2,
   "metadata": {
    "autoscroll": false,
    "collapsed": false,
    "ein.tags": "worksheet-0",
    "slideshow": {
     "slide_type": "-"
    }
   },
   "outputs": [],
   "source": [
    "import numpy as np\n",
    "import pandas as pd\n",
    "from sklearn.datasets import load_boston\n",
    "\n",
    "import sklearn.linear_model as lm\n",
    "import statsmodels.formula.api as smf\n",
    "\n",
    "import matplotlib.pyplot as plt\n",
    "%matplotlib inline"
   ]
  },
  {
   "cell_type": "markdown",
   "metadata": {
    "ein.tags": "worksheet-0",
    "slideshow": {
     "slide_type": "-"
    }
   },
   "source": [
    "## Examples with random data"
   ]
  },
  {
   "cell_type": "code",
   "execution_count": 3,
   "metadata": {
    "autoscroll": false,
    "collapsed": false,
    "ein.tags": "worksheet-0",
    "slideshow": {
     "slide_type": "-"
    }
   },
   "outputs": [
    {
     "data": {
      "text/plain": [
       "<matplotlib.collections.PathCollection at 0x7f0ec5c11da0>"
      ]
     },
     "execution_count": 3,
     "metadata": {},
     "output_type": "execute_result"
    },
    {
     "data": {
      "image/png": "[encoded data removed]",
      "text/plain": [
       "<matplotlib.figure.Figure at 0x7f0ec7ca4cf8>"
      ]
     },
     "metadata": {},
     "output_type": "display_data"
    }
   ],
   "source": [
    "n = 100\n",
    "x = np.random.normal(size=(n,1))\n",
    "eps = np.random.normal(0, 1, size=(n,1))\n",
    "y = 1 + 2*x + eps\n",
    "plt.scatter(x, y)\n"
   ]
  },
  {
   "cell_type": "code",
   "execution_count": 4,
   "metadata": {
    "autoscroll": false,
    "collapsed": false,
    "ein.tags": "worksheet-0",
    "slideshow": {
     "slide_type": "-"
    }
   },
   "outputs": [
    {
     "name": "stdout",
     "output_type": "stream",
     "text": [
      "[0.97156488]\n",
      "[[2.0381768]]\n"
     ]
    }
   ],
   "source": [
    "m = lm.LinearRegression()\n",
    "f = m.fit(x, y)\n",
    "print(f.intercept_)\n",
    "print(f.coef_)\n"
   ]
  },
  {
   "cell_type": "code",
   "execution_count": 5,
   "metadata": {
    "autoscroll": false,
    "collapsed": false,
    "ein.tags": "worksheet-0",
    "slideshow": {
     "slide_type": "-"
    }
   },
   "outputs": [
    {
     "name": "stdout",
     "output_type": "stream",
     "text": [
      "                            OLS Regression Results                            \n",
      "==============================================================================\n",
      "Dep. Variable:                      y   R-squared:                       0.828\n",
      "Model:                            OLS   Adj. R-squared:                  0.826\n",
      "Method:                 Least Squares   F-statistic:                     470.8\n",
      "Date:                Wed, 11 Apr 2018   Prob (F-statistic):           3.33e-39\n",
      "Time:                        16:33:10   Log-Likelihood:                -135.35\n",
      "No. Observations:                 100   AIC:                             274.7\n",
      "Df Residuals:                      98   BIC:                             279.9\n",
      "Df Model:                           1                                         \n",
      "Covariance Type:            nonrobust                                         \n",
      "==============================================================================\n",
      "                 coef    std err          t      P>|t|      [0.025      0.975]\n",
      "------------------------------------------------------------------------------\n",
      "Intercept      0.9716      0.095     10.230      0.000       0.783       1.160\n",
      "x              2.0382      0.094     21.698      0.000       1.852       2.225\n",
      "==============================================================================\n",
      "Omnibus:                        0.729   Durbin-Watson:                   1.556\n",
      "Prob(Omnibus):                  0.694   Jarque-Bera (JB):                0.527\n",
      "Skew:                          -0.177   Prob(JB):                        0.768\n",
      "Kurtosis:                       3.026   Cond. No.                         1.09\n",
      "==============================================================================\n",
      "\n",
      "Warnings:\n",
      "[1] Standard Errors assume that the covariance matrix of the errors is correctly specified.\n"
     ]
    }
   ],
   "source": [
    "df = pd.DataFrame(np.concatenate((x, y), axis=1), columns=['x', 'y'])\n",
    "mod = smf.ols(formula='y ~ x', data=df)\n",
    "res = mod.fit()\n",
    "print(res.summary())\n"
   ]
  },
  {
   "cell_type": "code",
   "execution_count": 6,
   "metadata": {
    "autoscroll": false,
    "collapsed": false,
    "ein.tags": "worksheet-0",
    "slideshow": {
     "slide_type": "-"
    }
   },
   "outputs": [
    {
     "name": "stdout",
     "output_type": "stream",
     "text": [
      "[[ 1.         -0.42719226]\n",
      " [ 1.         -0.95469833]\n",
      " [ 1.          0.04866684]\n",
      " [ 1.          0.61142595]\n",
      " [ 1.         -0.31206167]]\n"
     ]
    },
    {
     "data": {
      "text/plain": [
       "array([[0.97156488],\n       [2.0381768 ]])"
      ]
     },
     "execution_count": 6,
     "metadata": {},
     "output_type": "execute_result"
    }
   ],
   "source": [
    "X = np.concatenate((np.ones_like(y), x), axis=1)\n",
    "print(X[:5,:])\n",
    "np.linalg.inv(X.T @ X) @ X.T @ y"
   ]
  },
  {
   "cell_type": "code",
   "execution_count": 7,
   "metadata": {
    "autoscroll": false,
    "collapsed": false,
    "ein.tags": "worksheet-0",
    "slideshow": {
     "slide_type": "-"
    }
   },
   "outputs": [],
   "source": [
    "from sklearn.datasets import load_boston\n",
    "b = load_boston()\n",
    "boston = pd.DataFrame(b.data, columns=b.feature_names)\n",
    "boston[\"old\"] = boston.AGE > 50\n",
    "boston[\"const\"] = 1\n",
    "x = np.matrix(boston[[\"const\", \"old\"]], dtype=\"float\")\n",
    "y = b.target.reshape(506,1)"
   ]
  },
  {
   "cell_type": "code",
   "execution_count": 8,
   "metadata": {
    "autoscroll": false,
    "collapsed": false,
    "ein.tags": "worksheet-0",
    "slideshow": {
     "slide_type": "-"
    }
   },
   "outputs": [
    {
     "name": "stdout",
     "output_type": "stream",
     "text": [
      "[[ 0.00680272 -0.00680272]\n",
      " [-0.00680272  0.00958824]]\n"
     ]
    }
   ],
   "source": [
    "xx = x.T.dot(x)\n",
    "print(np.linalg.inv(xx))"
   ]
  },
  {
   "cell_type": "markdown",
   "metadata": {
    "ein.tags": "worksheet-0",
    "slideshow": {
     "slide_type": "-"
    }
   },
   "source": [
    "## Dummy variables"
   ]
  },
  {
   "cell_type": "code",
   "execution_count": 13,
   "metadata": {
    "autoscroll": false,
    "collapsed": false,
    "ein.tags": "worksheet-0",
    "slideshow": {
     "slide_type": "-"
    }
   },
   "outputs": [
    {
     "name": "stdout",
     "output_type": "stream",
     "text": [
      "   ID   Income  Limit  Rating  Cards  Age  Education  Gender Student Married  \\\n",
      "0   1   14.891   3606     283      2   34         11    Male      No     Yes   \n",
      "1   2  106.025   6645     483      3   82         15  Female     Yes     Yes   \n",
      "2   3  104.593   7075     514      4   71         11    Male      No      No   \n",
      "3   4  148.924   9504     681      3   36         11  Female      No      No   \n",
      "4   5   55.882   4897     357      2   68         16    Male      No     Yes   \n",
      "\n",
      "   Ethnicity  Balance  \n",
      "0  Caucasian      333  \n",
      "1      Asian      903  \n",
      "2      Asian      580  \n",
      "3      Asian      964  \n",
      "4  Caucasian      331  \n",
      "['Caucasian' 'Asian' 'African American']\n"
     ]
    }
   ],
   "source": [
    "credit = pd.read_table('../data/credit.tsv.bz2')\n",
    "print(credit.head())\n",
    "print(credit.Ethnicity.unique())"
   ]
  },
  {
   "cell_type": "markdown",
   "metadata": {
    "ein.tags": "worksheet-0",
    "slideshow": {
     "slide_type": "-"
    }
   },
   "source": [
    "## Exercise\n",
    "\n",
    "1. Create random data x ~ N(0,1); eps ~ N(0, 0.5); yX = x + eps; y = 1(yX > 0)\n",
    "\n",
    "2. estimate ols y = a + bx + eps  (note: it's categorical y, not continuous yX)\n",
    "\n",
    "3. store b\n",
    "\n",
    "4. repeat this 1000 times\n",
    "\n",
    "5. find empirical 95% confidence intervals of b\n",
    "\n",
    "6. compare with the smf.ols confidence intervals for a similar regression"
   ]
  },
  {
   "cell_type": "code",
   "execution_count": 24,
   "metadata": {
    "autoscroll": false,
    "collapsed": false,
    "ein.tags": "worksheet-0",
    "slideshow": {
     "slide_type": "-"
    }
   },
   "outputs": [
    {
     "ename": "SyntaxError",
     "evalue": "invalid syntax (<ipython-input-24-1265def8b4d6>, line 2)",
     "output_type": "error",
     "traceback": [
      "\u001b[0;36m  File \u001b[0;32m\"<ipython-input-24-1265def8b4d6>\"\u001b[0;36m, line \u001b[0;32m2\u001b[0m\n\u001b[0;31m    n =\u001b[0m\n\u001b[0m       ^\u001b[0m\n\u001b[0;31mSyntaxError\u001b[0m\u001b[0;31m:\u001b[0m invalid syntax\n"
     ]
    }
   ],
   "source": [
    "## pick sample size:\n",
    "n =\n",
    "## create x:\n",
    "x = np.random.normal(size=(n,1))\n",
    "## create eps\n",
    "## what are good value for a, b?\n",
    "a =\n",
    "b =\n",
    "## create yX\n",
    "yX =\n",
    "## create y = 1(yX > 0)\n",
    "y =\n",
    "\n",
    "## Estimate y = a + b*x + eps\n",
    "m = lm.LinearRegression()\n",
    "m.fit\n",
    "\n"
   ]
  },
  {
   "cell_type": "code",
   "execution_count": null,
   "metadata": {
    "autoscroll": false,
    "collapsed": false,
    "ein.tags": "worksheet-0",
    "slideshow": {
     "slide_type": "-"
    }
   },
   "outputs": [],
   "source": [
    "## Repeat this 1000 times and store b\n",
    "R = 1000\n",
    "bs = np.empty(size=R)\n",
    "for i in range(R):\n",
    "    ## create data\n",
    "    ## estimate OLS\n",
    "    ## find b:\n",
    "    bs[i] = f.coef_"
   ]
  },
  {
   "cell_type": "code",
   "execution_count": 26,
   "metadata": {
    "autoscroll": false,
    "collapsed": false,
    "ein.tags": "worksheet-0",
    "slideshow": {
     "slide_type": "-"
    }
   },
   "outputs": [
    {
     "data": {
      "text/plain": [
       "4.95"
      ]
     },
     "execution_count": 26,
     "metadata": {},
     "output_type": "execute_result"
    }
   ],
   "source": [
    "## find the empirical 95% confidence intervals\n",
    "np.percentile(bs, 2.5)\n",
    "np.percentile(bs, 97.5)\n",
    "\n",
    "## Estimate your (last) y, x with statsmodels.formula.api as above\n",
    "## print summary().  It includes confidence intervals\n",
    "## are these similar?"
   ]
  },
  {
   "cell_type": "code",
   "execution_count": null,
   "metadata": {
    "autoscroll": false,
    "collapsed": false,
    "ein.tags": "worksheet-0",
    "slideshow": {
     "slide_type": "-"
    }
   },
   "outputs": [],
   "source": []
  }
 ],
 "metadata": {
  "name": "linear_regression1.ipynb"
 },
 "nbformat": 4,
 "nbformat_minor": 2
}
