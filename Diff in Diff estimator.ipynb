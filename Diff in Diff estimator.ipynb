{
 "cells": [
  {
   "cell_type": "markdown",
   "metadata": {},
   "source": [
    "Lab 3\n",
    "Name: Neha Palsokar\n",
    "Collaborators: Sayali Chakradeo, Bhumika Khandelwal"
   ]
  },
  {
   "cell_type": "code",
   "execution_count": 1,
   "metadata": {
    "autoscroll": false,
    "ein.tags": "worksheet-0",
    "slideshow": {
     "slide_type": "-"
    }
   },
   "outputs": [],
   "source": [
    "import numpy as np\n",
    "import pandas as pd\n",
    "import statsmodels.formula.api as smf\n",
    "import matplotlib.pyplot as plt\n",
    "%matplotlib inline"
   ]
  },
  {
   "cell_type": "markdown",
   "metadata": {
    "ein.tags": "worksheet-0",
    "slideshow": {
     "slide_type": "-"
    }
   },
   "source": [
    "### 1.1 load the data"
   ]
  },
  {
   "cell_type": "code",
   "execution_count": 13,
   "metadata": {
    "autoscroll": false,
    "ein.tags": "worksheet-0",
    "slideshow": {
     "slide_type": "-"
    }
   },
   "outputs": [
    {
     "name": "stdout",
     "output_type": "stream",
     "text": [
      "   year  age sex  meth  tv state\n",
      "0  2003   13   M     0   1    XX\n",
      "1  2003   13   M     1   1    XX\n",
      "2  2003   13   M     1   1    XX\n",
      "3  2003   13   M     0   1    XX\n",
      "4  2003   13   M     0   0    XX\n",
      "(58077, 6)\n",
      "[2003 2005 2007 2009]\n",
      "[13 14 15 16 17]\n",
      "['M' 'F']\n",
      "[0 1]\n",
      "[1 0]\n",
      "['XX' 'MT']\n",
      "   year  age sex  meth  tv state beforeorafter\n",
      "0  2003   13   M     0   1    XX        Before\n",
      "1  2003   13   M     1   1    XX        Before\n",
      "2  2003   13   M     1   1    XX        Before\n",
      "3  2003   13   M     0   1    XX        Before\n",
      "4  2003   13   M     0   0    XX        Before\n"
     ]
    }
   ],
   "source": [
    "yrbs = pd.read_table('yrbs.tsv.bz2')\n",
    "print(yrbs.head())\n",
    "print(yrbs.shape)\n",
    "print(yrbs.year.unique())\n",
    "print(yrbs.age.unique())\n",
    "print(yrbs.sex.unique())\n",
    "print(yrbs.meth.unique())\n",
    "print(yrbs.tv.unique())\n",
    "print(yrbs.state.unique())\n",
    "\n",
    "\n",
    "#Additional variable:\n",
    "def label_before_after (row):\n",
    "    if row.year <= 2005  :\n",
    "        return 'Before'\n",
    "    if row.year >= 2007 :\n",
    "        return 'After'\n",
    "\n",
    "yrbs.apply (lambda row: label_before_after (row),axis=1)\n",
    "\n",
    "yrbs['beforeorafter'] = yrbs.apply (lambda row: label_before_after (row),axis=1)\n",
    "print(yrbs.head())"
   ]
  },
  {
   "cell_type": "markdown",
   "metadata": {
    "ein.tags": "worksheet-0",
    "slideshow": {
     "slide_type": "-"
    }
   },
   "source": [
    "### 1.2 graphical exploration"
   ]
  },
  {
   "cell_type": "code",
   "execution_count": 14,
   "metadata": {
    "autoscroll": false,
    "ein.tags": "worksheet-0",
    "slideshow": {
     "slide_type": "-"
    }
   },
   "outputs": [
    {
     "data": {
      "text/plain": [
       "<matplotlib.legend.Legend at 0x200c4b5b6a0>"
      ]
     },
     "execution_count": 14,
     "metadata": {},
     "output_type": "execute_result"
    },
    {
     "data": {
      "image/png": "[encoded data removed]",
      "text/plain": [
       "<matplotlib.figure.Figure at 0x200c4b54780>"
      ]
     },
     "metadata": {},
     "output_type": "display_data"
    }
   ],
   "source": [
    "ym = yrbs.groupby(['year', 'state']).meth.mean().reset_index()\n",
    "plt.plot(ym.year[ym.state=='MT'], ym.meth[ym.state=='MT'], label='MT')\n",
    "plt.plot(ym.year[ym.state=='XX'], ym.meth[ym.state=='XX'], label='National')\n",
    "plt.legend()\n",
    "\n",
    "#Consumption of meth decreased consistently from 2003 to 2009 in Montana, Nationally the consumption reduced from 2003 to 2007, however after 2007 it remained constant or rather even increased slightly."
   ]
  },
  {
   "cell_type": "markdown",
   "metadata": {
    "ein.tags": "worksheet-0",
    "slideshow": {
     "slide_type": "-"
    }
   },
   "source": [
    "### 1.3 Before-After"
   ]
  },
  {
   "cell_type": "code",
   "execution_count": 32,
   "metadata": {
    "autoscroll": false,
    "ein.tags": "worksheet-0",
    "slideshow": {
     "slide_type": "-"
    }
   },
   "outputs": [
    {
     "name": "stdout",
     "output_type": "stream",
     "text": [
      "beforeorafter  state\n",
      "After          MT       0.038115\n",
      "Before         MT       0.076734\n",
      "Name: meth, dtype: float64\n",
      "                            OLS Regression Results                            \n",
      "==============================================================================\n",
      "Dep. Variable:                   meth   R-squared:                       0.007\n",
      "Model:                            OLS   Adj. R-squared:                  0.007\n",
      "Method:                 Least Squares   F-statistic:                     67.66\n",
      "Date:                Wed, 18 Apr 2018   Prob (F-statistic):           2.19e-16\n",
      "Time:                        19:20:25   Log-Likelihood:                 417.76\n",
      "No. Observations:                9754   AIC:                            -831.5\n",
      "Df Residuals:                    9752   BIC:                            -817.1\n",
      "Df Model:                           1                                         \n",
      "Covariance Type:            nonrobust                                         \n",
      "===========================================================================================\n",
      "                              coef    std err          t      P>|t|      [0.025      0.975]\n",
      "-------------------------------------------------------------------------------------------\n",
      "Intercept                   0.0381      0.003     11.484      0.000       0.032       0.045\n",
      "beforeorafter[T.Before]     0.0386      0.005      8.225      0.000       0.029       0.048\n",
      "==============================================================================\n",
      "Omnibus:                     7326.455   Durbin-Watson:                   1.957\n",
      "Prob(Omnibus):                  0.000   Jarque-Bera (JB):            84570.020\n",
      "Skew:                           3.765   Prob(JB):                         0.00\n",
      "Kurtosis:                      15.304   Cond. No.                         2.62\n",
      "==============================================================================\n",
      "\n",
      "Warnings:\n",
      "[1] Standard Errors assume that the covariance matrix of the errors is correctly specified.\n"
     ]
    }
   ],
   "source": [
    "#print(yrbs.groupby(['beforeorafter','state']).meth.mean())\n",
    "print(yrbs[yrbs.state == 'MT'].groupby(['beforeorafter','state']).meth.mean())\n",
    "m = smf.ols(formula = 'meth ~ beforeorafter', data = yrbs[yrbs.state == 'MT'])\n",
    "print(m.fit().summary())\n",
    "\n",
    "#The value of meth use before was 0.0386+0.0381=0.076 and the value after was 0.0381.\n",
    "# Therefore, meth use has decreased."
   ]
  },
  {
   "cell_type": "code",
   "execution_count": null,
   "metadata": {},
   "outputs": [],
   "source": [
    "#The value of meth use before was 0.0386+0.0381=0.76 and the value after was 0.0381.\n",
    "# Therefore, meth use has decreased."
   ]
  },
  {
   "cell_type": "code",
   "execution_count": 37,
   "metadata": {
    "autoscroll": false,
    "ein.tags": "worksheet-0",
    "slideshow": {
     "slide_type": "-"
    }
   },
   "outputs": [
    {
     "name": "stdout",
     "output_type": "stream",
     "text": [
      "                            OLS Regression Results                            \n",
      "==============================================================================\n",
      "Dep. Variable:                   meth   R-squared:                       0.009\n",
      "Model:                            OLS   Adj. R-squared:                  0.009\n",
      "Method:                 Least Squares   F-statistic:                     23.20\n",
      "Date:                Wed, 18 Apr 2018   Prob (F-statistic):           4.11e-19\n",
      "Time:                        21:14:00   Log-Likelihood:                 430.25\n",
      "No. Observations:                9754   AIC:                            -850.5\n",
      "Df Residuals:                    9749   BIC:                            -814.6\n",
      "Df Model:                           4                                         \n",
      "Covariance Type:            nonrobust                                         \n",
      "===========================================================================================\n",
      "                              coef    std err          t      P>|t|      [0.025      0.975]\n",
      "-------------------------------------------------------------------------------------------\n",
      "Intercept                  -0.1476      0.038     -3.911      0.000      -0.222      -0.074\n",
      "beforeorafter[T.Before]     0.0386      0.005      8.221      0.000       0.029       0.048\n",
      "sex[T.M]                   -0.0031      0.005     -0.653      0.514      -0.012       0.006\n",
      "age                         0.0118      0.002      4.953      0.000       0.007       0.016\n",
      "tv                          0.0035      0.005      0.739      0.460      -0.006       0.013\n",
      "==============================================================================\n",
      "Omnibus:                     7302.251   Durbin-Watson:                   1.963\n",
      "Prob(Omnibus):                  0.000   Jarque-Bera (JB):            83719.425\n",
      "Skew:                           3.750   Prob(JB):                         0.00\n",
      "Kurtosis:                      15.237   Cond. No.                         255.\n",
      "==============================================================================\n",
      "\n",
      "Warnings:\n",
      "[1] Standard Errors assume that the covariance matrix of the errors is correctly specified.\n",
      "                            OLS Regression Results                            \n",
      "==============================================================================\n",
      "Dep. Variable:                   meth   R-squared:                       0.009\n",
      "Model:                            OLS   Adj. R-squared:                  0.009\n",
      "Method:                 Least Squares   F-statistic:                     45.95\n",
      "Date:                Wed, 18 Apr 2018   Prob (F-statistic):           1.37e-20\n",
      "Time:                        21:14:00   Log-Likelihood:                 429.79\n",
      "No. Observations:                9754   AIC:                            -853.6\n",
      "Df Residuals:                    9751   BIC:                            -832.0\n",
      "Df Model:                           2                                         \n",
      "Covariance Type:            nonrobust                                         \n",
      "===========================================================================================\n",
      "                              coef    std err          t      P>|t|      [0.025      0.975]\n",
      "-------------------------------------------------------------------------------------------\n",
      "Intercept                  -0.1455      0.038     -3.874      0.000      -0.219      -0.072\n",
      "beforeorafter[T.Before]     0.0388      0.005      8.263      0.000       0.030       0.048\n",
      "age                         0.0117      0.002      4.908      0.000       0.007       0.016\n",
      "==============================================================================\n",
      "Omnibus:                     7303.006   Durbin-Watson:                   1.963\n",
      "Prob(Omnibus):                  0.000   Jarque-Bera (JB):            83744.116\n",
      "Skew:                           3.751   Prob(JB):                         0.00\n",
      "Kurtosis:                      15.238   Cond. No.                         253.\n",
      "==============================================================================\n",
      "\n",
      "Warnings:\n",
      "[1] Standard Errors assume that the covariance matrix of the errors is correctly specified.\n"
     ]
    }
   ],
   "source": [
    "m = smf.ols(formula = 'meth ~ beforeorafter+sex+age+tv', data = yrbs[yrbs.state == 'MT'])\n",
    "print(m.fit().summary())\n",
    "\n",
    "#only adding age:\n",
    "m = smf.ols(formula = 'meth ~ beforeorafter+age', data = yrbs[yrbs.state == 'MT'])\n",
    "print(m.fit().summary())\n",
    "\n",
    "\n",
    "# With the control factor of age: for time 'Before' = the effect is negative by a factor of (-0.1455+0.0388=-1.06)\n",
    "# for time 'After' = the effect is negative by a factor of -0.1455. So we can conclude that the effect of the campaign reduces the meth consumption in Montanna\n",
    "# Age: With every one unit increase in age the use of meth is changes by the measure of -0.1455+0.0117 = -0.1338 That means that the consumption decreases by this factor with one unit increase in size.\n"
   ]
  },
  {
   "cell_type": "markdown",
   "metadata": {},
   "source": [
    "4 Cross-Sectional Estimator"
   ]
  },
  {
   "cell_type": "code",
   "execution_count": 34,
   "metadata": {},
   "outputs": [
    {
     "name": "stdout",
     "output_type": "stream",
     "text": [
      "state\n",
      "MT    0.038115\n",
      "XX    0.039923\n",
      "Name: meth, dtype: float64\n",
      "                            OLS Regression Results                            \n",
      "==============================================================================\n",
      "Dep. Variable:                   meth   R-squared:                       0.000\n",
      "Model:                            OLS   Adj. R-squared:                 -0.000\n",
      "Method:                 Least Squares   F-statistic:                    0.3503\n",
      "Date:                Wed, 18 Apr 2018   Prob (F-statistic):              0.554\n",
      "Time:                        19:22:49   Log-Likelihood:                 6404.0\n",
      "No. Observations:               29728   AIC:                        -1.280e+04\n",
      "Df Residuals:                   29726   BIC:                        -1.279e+04\n",
      "Df Model:                           1                                         \n",
      "Covariance Type:            nonrobust                                         \n",
      "===============================================================================\n",
      "                  coef    std err          t      P>|t|      [0.025      0.975]\n",
      "-------------------------------------------------------------------------------\n",
      "Intercept       0.0381      0.003     13.648      0.000       0.033       0.044\n",
      "state[T.XX]     0.0018      0.003      0.592      0.554      -0.004       0.008\n",
      "==============================================================================\n",
      "Omnibus:                    27196.729   Durbin-Watson:                   1.976\n",
      "Prob(Omnibus):                  0.000   Jarque-Bera (JB):           619647.247\n",
      "Skew:                           4.720   Prob(JB):                         0.00\n",
      "Kurtosis:                      23.277   Cond. No.                         4.75\n",
      "==============================================================================\n",
      "\n",
      "Warnings:\n",
      "[1] Standard Errors assume that the covariance matrix of the errors is correctly specified.\n"
     ]
    }
   ],
   "source": [
    "print(yrbs[yrbs.beforeorafter == 'After'].groupby(['state']).meth.mean())\n",
    "m = smf.ols(formula = 'meth ~ state', data = yrbs[yrbs.beforeorafter == 'After'])\n",
    "print(m.fit().summary())\n",
    "#Meth use in Montana after implementation of project was 0.038115 and \n",
    "# nationally it was 0.038115+0.0018=0.039923, therefore it was lesser in Montana comparatively"
   ]
  },
  {
   "cell_type": "code",
   "execution_count": 38,
   "metadata": {},
   "outputs": [
    {
     "name": "stdout",
     "output_type": "stream",
     "text": [
      "                            OLS Regression Results                            \n",
      "==============================================================================\n",
      "Dep. Variable:                   meth   R-squared:                       0.002\n",
      "Model:                            OLS   Adj. R-squared:                  0.001\n",
      "Method:                 Least Squares   F-statistic:                     11.60\n",
      "Date:                Wed, 18 Apr 2018   Prob (F-statistic):           2.07e-09\n",
      "Time:                        21:43:22   Log-Likelihood:                 6427.0\n",
      "No. Observations:               29728   AIC:                        -1.284e+04\n",
      "Df Residuals:                   29723   BIC:                        -1.280e+04\n",
      "Df Model:                           4                                         \n",
      "Covariance Type:            nonrobust                                         \n",
      "===============================================================================\n",
      "                  coef    std err          t      P>|t|      [0.025      0.975]\n",
      "-------------------------------------------------------------------------------\n",
      "Intercept      -0.0649      0.018     -3.615      0.000      -0.100      -0.030\n",
      "state[T.XX]     0.0015      0.003      0.494      0.621      -0.005       0.008\n",
      "sex[T.M]        0.0081      0.002      3.563      0.000       0.004       0.013\n",
      "age             0.0064      0.001      5.648      0.000       0.004       0.009\n",
      "tv             -0.0016      0.002     -0.683      0.494      -0.006       0.003\n",
      "==============================================================================\n",
      "Omnibus:                    27150.346   Durbin-Watson:                   1.980\n",
      "Prob(Omnibus):                  0.000   Jarque-Bera (JB):           615983.002\n",
      "Skew:                           4.709   Prob(JB):                         0.00\n",
      "Kurtosis:                      23.214   Cond. No.                         253.\n",
      "==============================================================================\n",
      "\n",
      "Warnings:\n",
      "[1] Standard Errors assume that the covariance matrix of the errors is correctly specified.\n",
      "                            OLS Regression Results                            \n",
      "==============================================================================\n",
      "Dep. Variable:                   meth   R-squared:                       0.001\n",
      "Model:                            OLS   Adj. R-squared:                  0.001\n",
      "Method:                 Least Squares   F-statistic:                     16.71\n",
      "Date:                Wed, 18 Apr 2018   Prob (F-statistic):           5.58e-08\n",
      "Time:                        21:43:22   Log-Likelihood:                 6420.5\n",
      "No. Observations:               29728   AIC:                        -1.284e+04\n",
      "Df Residuals:                   29725   BIC:                        -1.281e+04\n",
      "Df Model:                           2                                         \n",
      "Covariance Type:            nonrobust                                         \n",
      "===============================================================================\n",
      "                  coef    std err          t      P>|t|      [0.025      0.975]\n",
      "-------------------------------------------------------------------------------\n",
      "Intercept      -0.0635      0.018     -3.550      0.000      -0.099      -0.028\n",
      "state[T.XX]     0.0013      0.003      0.411      0.681      -0.005       0.007\n",
      "age             0.0065      0.001      5.751      0.000       0.004       0.009\n",
      "==============================================================================\n",
      "Omnibus:                    27163.368   Durbin-Watson:                   1.979\n",
      "Prob(Omnibus):                  0.000   Jarque-Bera (JB):           617007.948\n",
      "Skew:                           4.712   Prob(JB):                         0.00\n",
      "Kurtosis:                      23.232   Cond. No.                         252.\n",
      "==============================================================================\n",
      "\n",
      "Warnings:\n",
      "[1] Standard Errors assume that the covariance matrix of the errors is correctly specified.\n"
     ]
    }
   ],
   "source": [
    "m = smf.ols(formula = 'meth ~ state+age+sex+tv', data = yrbs[yrbs.beforeorafter == 'After']).fit()\n",
    "print(m.summary())\n",
    "# Interpreting results by adding age:\n",
    "m = smf.ols(formula = 'meth ~ state+age', data = yrbs[yrbs.beforeorafter == 'After']).fit()\n",
    "print(m.summary())\n",
    "\n",
    "# With the control factor of age: for state Montana = the effect is negative by a factor of (-0.0635+0.0013=-0.0622)\n",
    "# Nationally = the effect is negative by a factor of -0.0635. So we can conclude after the campaign,meth consumption reduced more Nationally compared to Montanna\n",
    "# Age: With every one unit increase in age the use of meth is changes by the measure of -0.0635 + 0.0065 = -0.057 That means that the consumption decreases by this factor with one unit increase in size."
   ]
  },
  {
   "cell_type": "markdown",
   "metadata": {},
   "source": [
    "5 Differences-in-Differences Estimator"
   ]
  },
  {
   "cell_type": "code",
   "execution_count": 35,
   "metadata": {},
   "outputs": [
    {
     "name": "stdout",
     "output_type": "stream",
     "text": [
      "state  beforeorafter\n",
      "MT     After            0.038115\n",
      "       Before           0.076734\n",
      "XX     After            0.039923\n",
      "       Before           0.060319\n",
      "Name: meth, dtype: float64\n",
      "                            OLS Regression Results                            \n",
      "==============================================================================\n",
      "Dep. Variable:                   meth   R-squared:                       0.003\n",
      "Model:                            OLS   Adj. R-squared:                  0.003\n",
      "Method:                 Least Squares   F-statistic:                     62.92\n",
      "Date:                Wed, 18 Apr 2018   Prob (F-statistic):           1.31e-40\n",
      "Time:                        19:25:11   Log-Likelihood:                 5566.9\n",
      "No. Observations:               58077   AIC:                        -1.113e+04\n",
      "Df Residuals:                   58073   BIC:                        -1.109e+04\n",
      "Df Model:                           3                                         \n",
      "Covariance Type:            nonrobust                                         \n",
      "=======================================================================================================\n",
      "                                          coef    std err          t      P>|t|      [0.025      0.975]\n",
      "-------------------------------------------------------------------------------------------------------\n",
      "Intercept                               0.0381      0.003     12.110      0.000       0.032       0.044\n",
      "state[T.XX]                             0.0018      0.003      0.525      0.599      -0.005       0.009\n",
      "beforeorafter[T.Before]                 0.0386      0.004      8.674      0.000       0.030       0.047\n",
      "state[T.XX]:beforeorafter[T.Before]    -0.0182      0.005     -3.733      0.000      -0.028      -0.009\n",
      "==============================================================================\n",
      "Omnibus:                    46583.747   Durbin-Watson:                   1.971\n",
      "Prob(Omnibus):                  0.000   Jarque-Bera (JB):           670089.493\n",
      "Skew:                           4.057   Prob(JB):                         0.00\n",
      "Kurtosis:                      17.528   Cond. No.                         12.2\n",
      "==============================================================================\n",
      "\n",
      "Warnings:\n",
      "[1] Standard Errors assume that the covariance matrix of the errors is correctly specified.\n"
     ]
    }
   ],
   "source": [
    "print(yrbs.groupby(['state','beforeorafter']).meth.mean())\n",
    "m = smf.ols(formula = 'meth ~ state*beforeorafter', data = yrbs).fit()\n",
    "print(m.summary())\n",
    "\n",
    "#The before and after for Montanna is 0.0381+0.0386=0.0767 and 0.0381 respectively\n",
    "#The before and after Nationally is 0.0381+0.0386+0.0018-0.0182= 0.0603 and 0.0381+0.0018=0.0399 respectively\n",
    "#Difference between XX and Montana for before=-0.016415\n",
    "#Difference between XX and Montana for after=0.0018\n",
    "#Difference in meth use in Montana and nationally in pre-project and post project years is 0.0146."
   ]
  },
  {
   "cell_type": "code",
   "execution_count": 39,
   "metadata": {},
   "outputs": [
    {
     "name": "stdout",
     "output_type": "stream",
     "text": [
      "                            OLS Regression Results                            \n",
      "==============================================================================\n",
      "Dep. Variable:                   meth   R-squared:                       0.005\n",
      "Model:                            OLS   Adj. R-squared:                  0.004\n",
      "Method:                 Least Squares   F-statistic:                     44.37\n",
      "Date:                Wed, 18 Apr 2018   Prob (F-statistic):           1.87e-54\n",
      "Time:                        22:20:30   Log-Likelihood:                 5605.5\n",
      "No. Observations:               58077   AIC:                        -1.120e+04\n",
      "Df Residuals:                   58070   BIC:                        -1.113e+04\n",
      "Df Model:                           6                                         \n",
      "Covariance Type:            nonrobust                                         \n",
      "=======================================================================================================\n",
      "                                          coef    std err          t      P>|t|      [0.025      0.975]\n",
      "-------------------------------------------------------------------------------------------------------\n",
      "Intercept                              -0.0727      0.015     -4.925      0.000      -0.102      -0.044\n",
      "state[T.XX]                             0.0018      0.003      0.521      0.602      -0.005       0.009\n",
      "beforeorafter[T.Before]                 0.0389      0.004      8.740      0.000       0.030       0.048\n",
      "sex[T.M]                                0.0064      0.002      3.486      0.000       0.003       0.010\n",
      "state[T.XX]:beforeorafter[T.Before]    -0.0185      0.005     -3.785      0.000      -0.028      -0.009\n",
      "age                                     0.0070      0.001      7.630      0.000       0.005       0.009\n",
      "tv                                     -0.0041      0.002     -2.154      0.031      -0.008      -0.000\n",
      "==============================================================================\n",
      "Omnibus:                    46508.899   Durbin-Watson:                   1.973\n",
      "Prob(Omnibus):                  0.000   Jarque-Bera (JB):           666670.662\n",
      "Skew:                           4.049   Prob(JB):                         0.00\n",
      "Kurtosis:                      17.489   Cond. No.                         259.\n",
      "==============================================================================\n",
      "\n",
      "Warnings:\n",
      "[1] Standard Errors assume that the covariance matrix of the errors is correctly specified.\n",
      "                            OLS Regression Results                            \n",
      "==============================================================================\n",
      "Dep. Variable:                   meth   R-squared:                       0.003\n",
      "Model:                            OLS   Adj. R-squared:                  0.003\n",
      "Method:                 Least Squares   F-statistic:                     50.45\n",
      "Date:                Wed, 18 Apr 2018   Prob (F-statistic):           1.85e-42\n",
      "Time:                        22:20:30   Log-Likelihood:                 5573.3\n",
      "No. Observations:               58077   AIC:                        -1.114e+04\n",
      "Df Residuals:                   58072   BIC:                        -1.109e+04\n",
      "Df Model:                           4                                         \n",
      "Covariance Type:            nonrobust                                         \n",
      "=======================================================================================================\n",
      "                                          coef    std err          t      P>|t|      [0.025      0.975]\n",
      "-------------------------------------------------------------------------------------------------------\n",
      "Intercept                               0.0349      0.003     10.674      0.000       0.028       0.041\n",
      "state[T.XX]                             0.0018      0.003      0.533      0.594      -0.005       0.009\n",
      "beforeorafter[T.Before]                 0.0386      0.004      8.680      0.000       0.030       0.047\n",
      "sex[T.M]                                0.0066      0.002      3.601      0.000       0.003       0.010\n",
      "state[T.XX]:beforeorafter[T.Before]    -0.0182      0.005     -3.734      0.000      -0.028      -0.009\n",
      "==============================================================================\n",
      "Omnibus:                    46570.848   Durbin-Watson:                   1.971\n",
      "Prob(Omnibus):                  0.000   Jarque-Bera (JB):           669494.945\n",
      "Skew:                           4.056   Prob(JB):                         0.00\n",
      "Kurtosis:                      17.521   Cond. No.                         12.8\n",
      "==============================================================================\n",
      "\n",
      "Warnings:\n",
      "[1] Standard Errors assume that the covariance matrix of the errors is correctly specified.\n"
     ]
    }
   ],
   "source": [
    "m = smf.ols(formula = 'meth ~ state*beforeorafter+age+sex+tv', data = yrbs).fit()\n",
    "print(m.summary())\n",
    "\n",
    "#Adding sex variable and interpreting results:\n",
    "m = smf.ols(formula = 'meth ~ state*beforeorafter+sex', data = yrbs).fit()\n",
    "print(m.summary())\n",
    "\n",
    "# The total difference of the effect between both the states, before and after = -0.0182\n",
    "# The difference in consumption for males in both the states for time 'before' = 0.0098 (Nationally-Montanna). This means that before 2005, consumption of meth by males in Montanna was less as compared to Nationally\n",
    "# Difference in consumption for males in both the states for time 'after' = -0.0057 (Nationally-Montanna). \n",
    "# This means that the consumption of meth for males in Montanna was comparitevly greater than the males in XX after 2005\n"
   ]
  }
 ],
 "metadata": {
  "kernelspec": {
   "display_name": "Python 3",
   "language": "python",
   "name": "python3"
  },
  "language_info": {
   "codemirror_mode": {
    "name": "ipython",
    "version": 3
   },
   "file_extension": ".py",
   "mimetype": "text/x-python",
   "name": "python",
   "nbconvert_exporter": "python",
   "pygments_lexer": "ipython3",
   "version": "3.6.4"
  },
  "name": "lab03_dif-in-dif.ipynb"
 },
 "nbformat": 4,
 "nbformat_minor": 2
}
