{
 "cells": [
  {
   "cell_type": "markdown",
   "metadata": {
    "ein.tags": "worksheet-0",
    "slideshow": {
     "slide_type": "-"
    }
   },
   "source": [
    "# Regularization"
   ]
  },
  {
   "cell_type": "code",
   "execution_count": 313,
   "metadata": {
    "autoscroll": false,
    "collapsed": false,
    "ein.tags": "worksheet-0",
    "slideshow": {
     "slide_type": "-"
    }
   },
   "outputs": [],
   "source": [
    "import numpy as np\n",
    "import pandas as pd\n",
    "import matplotlib.pyplot as plt\n",
    "%matplotlib inline\n",
    "from sklearn.linear_model import LinearRegression, Ridge, Lasso\n"
   ]
  },
  {
   "cell_type": "code",
   "execution_count": 337,
   "metadata": {
    "autoscroll": false,
    "collapsed": false,
    "ein.tags": "worksheet-0",
    "slideshow": {
     "slide_type": "-"
    }
   },
   "outputs": [
    {
     "data": {
      "text/plain": [
       "array([[-4.16286224e-01, -4.16340719e-01, -6.50011153e-05],\n",
       "       [-5.30187661e-01, -5.30153196e-01, -1.16857626e-04],\n",
       "       [ 6.13004963e-02,  6.12477520e-02,  6.88680500e-05],\n",
       "       [-5.28504002e-01, -5.28394888e-01, -2.99538653e-04],\n",
       "       [ 1.91947236e-01,  1.91835080e-01,  3.64553110e-05],\n",
       "       [ 5.00806048e-01,  5.00807912e-01, -5.40924540e-05],\n",
       "       [ 1.58872600e-01,  1.58917397e-01, -1.36869545e-04],\n",
       "       [-2.90783886e-01, -2.90674753e-01, -4.68458466e-05],\n",
       "       [ 3.03648712e-01,  3.03656885e-01,  8.58845801e-05],\n",
       "       [ 4.41145970e-01,  4.41225220e-01, -6.66298571e-05]])"
      ]
     },
     "execution_count": 337,
     "metadata": {},
     "output_type": "execute_result"
    }
   ],
   "source": [
    "n = 100\n",
    "c = 0.0001\n",
    "x1 = np.random.normal(size=n)\n",
    "x2 = x1 + c*np.random.normal(size=n)\n",
    "x3 = x1 - x2 + c*np.random.normal(size=n)\n",
    "y = x1 + x2 + x3 + np.random.normal(size=n)\n",
    "X = np.stack((x1, x2, x3), axis=1)\n",
    "X[:10]"
   ]
  },
  {
   "cell_type": "code",
   "execution_count": 338,
   "metadata": {
    "autoscroll": false,
    "collapsed": false,
    "ein.tags": "worksheet-0",
    "slideshow": {
     "slide_type": "-"
    }
   },
   "outputs": [
    {
     "name": "stdout",
     "output_type": "stream",
     "text": [
      "lm coefficients: [ 1902.48897469 -1900.41108156 -1710.66134047]\n",
      "ridge coefficients: [ 1.0517812   1.05063402 -0.01141951]\n",
      "lasso coefficients [ 1.97760879  0.         -0.        ]\n"
     ]
    }
   ],
   "source": [
    "m = LinearRegression().fit(X, y)\n",
    "print(\"lm coefficients:\", m.coef_)\n",
    "\n",
    "mr = Ridge(alpha=0.1).fit(X, y)\n",
    "print(\"ridge coefficients:\", mr.coef_)\n",
    "\n",
    "ml = Lasso(alpha=0.1).fit(X, y)\n",
    "print(\"lasso coefficients\", ml.coef_)"
   ]
  },
  {
   "cell_type": "markdown",
   "metadata": {
    "ein.tags": "worksheet-0",
    "slideshow": {
     "slide_type": "-"
    }
   },
   "source": [
    "## Create testing data"
   ]
  },
  {
   "cell_type": "code",
   "execution_count": 351,
   "metadata": {
    "autoscroll": false,
    "collapsed": false,
    "ein.tags": "worksheet-0",
    "slideshow": {
     "slide_type": "-"
    }
   },
   "outputs": [],
   "source": [
    "nt = 1000\n",
    "c = 0.0005\n",
    "x1t = np.random.normal(size=nt)\n",
    "x2t = x1t + c*np.random.normal(size=nt)\n",
    "x3t = x1t - x2t + c*np.random.normal(size=nt)\n",
    "yt = x1t + x2t + x3t + np.random.normal(size=nt)\n",
    "Xt = np.stack((x1t, x2t, x3t), axis=1)\n"
   ]
  },
  {
   "cell_type": "markdown",
   "metadata": {
    "ein.tags": "worksheet-0",
    "slideshow": {
     "slide_type": "-"
    }
   },
   "source": [
    "## ... and test"
   ]
  },
  {
   "cell_type": "code",
   "execution_count": 353,
   "metadata": {
    "autoscroll": false,
    "collapsed": false,
    "ein.tags": "worksheet-0",
    "slideshow": {
     "slide_type": "-"
    }
   },
   "outputs": [
    {
     "name": "stdout",
     "output_type": "stream",
     "text": [
      "lm: 0.030556055797348613\n",
      "ridge: 0.03572384785412423\n",
      "lasso: 0.042416706692368494\n"
     ]
    }
   ],
   "source": [
    "yhat = m.predict(Xt)\n",
    "rmse = np.sqrt(np.mean(yt - yhat)**2)\n",
    "print(\"lm:\", rmse)\n",
    "yhatr = mr.predict(Xt)\n",
    "rmser = np.sqrt(np.mean(yt - yhatr)**2)\n",
    "print(\"ridge:\", rmser)\n",
    "yhatl = ml.predict(Xt)\n",
    "rmsel = np.sqrt(np.mean(yt - yhatl)**2)\n",
    "print(\"lasso:\", rmsel)\n"
   ]
  },
  {
   "cell_type": "markdown",
   "metadata": {
    "ein.tags": "worksheet-0",
    "slideshow": {
     "slide_type": "-"
    }
   },
   "source": [
    "## Exercise:\n",
    "\n",
    "1. compute the rmse-s at different lambda values.  Use a wide range of lambdas, say b/w 1e-6 to 1e6.\n",
    "\n",
    "2. make a plot where you show how rmse depends on $\\lambda$.  Note: use log scale for lambda\n",
    "\n",
    "3. make another plot where you show how coefficients depend on $\\lambda$\n",
    "\n",
    "4. currently our test data remains very similar to training data.\n",
    "Extend the test data a little bit by increasing the factor 0.0001 to,\n",
    "say, 0.001.  See what happens with RMSE-s and all that."
   ]
  }
 ],
 "metadata": {
  "name": "regularization_examples.ipynb"
 },
 "nbformat": 4,
 "nbformat_minor": 2
}
