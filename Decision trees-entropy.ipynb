{
 "cells": [
  {
   "cell_type": "markdown",
   "metadata": {},
   "source": [
    "Lab-06\n",
    "Neha Palsokar"
   ]
  },
  {
   "cell_type": "code",
   "execution_count": 1,
   "metadata": {},
   "outputs": [],
   "source": [
    "import pandas as pd\n",
    "import numpy as np"
   ]
  },
  {
   "cell_type": "markdown",
   "metadata": {},
   "source": [
    "1 Data"
   ]
  },
  {
   "cell_type": "code",
   "execution_count": 3,
   "metadata": {},
   "outputs": [
    {
     "data": {
      "text/html": [
       "<div>\n",
       "<style scoped>\n",
       "    .dataframe tbody tr th:only-of-type {\n",
       "        vertical-align: middle;\n",
       "    }\n",
       "\n",
       "    .dataframe tbody tr th {\n",
       "        vertical-align: top;\n",
       "    }\n",
       "\n",
       "    .dataframe thead th {\n",
       "        text-align: right;\n",
       "    }\n",
       "</style>\n",
       "<table border=\"1\" class=\"dataframe\">\n",
       "  <thead>\n",
       "    <tr style=\"text-align: right;\">\n",
       "      <th></th>\n",
       "      <th>0</th>\n",
       "      <th>1</th>\n",
       "      <th>2</th>\n",
       "      <th>3</th>\n",
       "      <th>4</th>\n",
       "      <th>5</th>\n",
       "      <th>6</th>\n",
       "      <th>7</th>\n",
       "      <th>8</th>\n",
       "      <th>9</th>\n",
       "      <th>10</th>\n",
       "      <th>11</th>\n",
       "      <th>12</th>\n",
       "      <th>13</th>\n",
       "      <th>14</th>\n",
       "      <th>15</th>\n",
       "      <th>16</th>\n",
       "    </tr>\n",
       "  </thead>\n",
       "  <tbody>\n",
       "    <tr>\n",
       "      <th>0</th>\n",
       "      <td>republican</td>\n",
       "      <td>n</td>\n",
       "      <td>y</td>\n",
       "      <td>n</td>\n",
       "      <td>y</td>\n",
       "      <td>y</td>\n",
       "      <td>y</td>\n",
       "      <td>n</td>\n",
       "      <td>n</td>\n",
       "      <td>n</td>\n",
       "      <td>y</td>\n",
       "      <td>?</td>\n",
       "      <td>y</td>\n",
       "      <td>y</td>\n",
       "      <td>y</td>\n",
       "      <td>n</td>\n",
       "      <td>y</td>\n",
       "    </tr>\n",
       "    <tr>\n",
       "      <th>1</th>\n",
       "      <td>republican</td>\n",
       "      <td>n</td>\n",
       "      <td>y</td>\n",
       "      <td>n</td>\n",
       "      <td>y</td>\n",
       "      <td>y</td>\n",
       "      <td>y</td>\n",
       "      <td>n</td>\n",
       "      <td>n</td>\n",
       "      <td>n</td>\n",
       "      <td>n</td>\n",
       "      <td>n</td>\n",
       "      <td>y</td>\n",
       "      <td>y</td>\n",
       "      <td>y</td>\n",
       "      <td>n</td>\n",
       "      <td>?</td>\n",
       "    </tr>\n",
       "    <tr>\n",
       "      <th>2</th>\n",
       "      <td>democrat</td>\n",
       "      <td>?</td>\n",
       "      <td>y</td>\n",
       "      <td>y</td>\n",
       "      <td>?</td>\n",
       "      <td>y</td>\n",
       "      <td>y</td>\n",
       "      <td>n</td>\n",
       "      <td>n</td>\n",
       "      <td>n</td>\n",
       "      <td>n</td>\n",
       "      <td>y</td>\n",
       "      <td>n</td>\n",
       "      <td>y</td>\n",
       "      <td>y</td>\n",
       "      <td>n</td>\n",
       "      <td>n</td>\n",
       "    </tr>\n",
       "    <tr>\n",
       "      <th>3</th>\n",
       "      <td>democrat</td>\n",
       "      <td>n</td>\n",
       "      <td>y</td>\n",
       "      <td>y</td>\n",
       "      <td>n</td>\n",
       "      <td>?</td>\n",
       "      <td>y</td>\n",
       "      <td>n</td>\n",
       "      <td>n</td>\n",
       "      <td>n</td>\n",
       "      <td>n</td>\n",
       "      <td>y</td>\n",
       "      <td>n</td>\n",
       "      <td>y</td>\n",
       "      <td>n</td>\n",
       "      <td>n</td>\n",
       "      <td>y</td>\n",
       "    </tr>\n",
       "    <tr>\n",
       "      <th>4</th>\n",
       "      <td>democrat</td>\n",
       "      <td>y</td>\n",
       "      <td>y</td>\n",
       "      <td>y</td>\n",
       "      <td>n</td>\n",
       "      <td>y</td>\n",
       "      <td>y</td>\n",
       "      <td>n</td>\n",
       "      <td>n</td>\n",
       "      <td>n</td>\n",
       "      <td>n</td>\n",
       "      <td>y</td>\n",
       "      <td>?</td>\n",
       "      <td>y</td>\n",
       "      <td>y</td>\n",
       "      <td>y</td>\n",
       "      <td>y</td>\n",
       "    </tr>\n",
       "  </tbody>\n",
       "</table>\n",
       "</div>"
      ],
      "text/plain": [
       "           0  1  2  3  4  5  6  7  8  9  10 11 12 13 14 15 16\n",
       "0  republican  n  y  n  y  y  y  n  n  n  y  ?  y  y  y  n  y\n",
       "1  republican  n  y  n  y  y  y  n  n  n  n  n  y  y  y  n  ?\n",
       "2    democrat  ?  y  y  ?  y  y  n  n  n  n  y  n  y  y  n  n\n",
       "3    democrat  n  y  y  n  ?  y  n  n  n  n  y  n  y  n  n  y\n",
       "4    democrat  y  y  y  n  y  y  n  n  n  n  y  ?  y  y  y  y"
      ]
     },
     "execution_count": 3,
     "metadata": {},
     "output_type": "execute_result"
    }
   ],
   "source": [
    "#Load the data:\n",
    "\n",
    "house_votes=pd.read_csv('house-votes-84.csv.bz2',header=None)\n",
    "house_votes.head()"
   ]
  },
  {
   "cell_type": "code",
   "execution_count": 4,
   "metadata": {},
   "outputs": [
    {
     "data": {
      "text/html": [
       "<div>\n",
       "<style scoped>\n",
       "    .dataframe tbody tr th:only-of-type {\n",
       "        vertical-align: middle;\n",
       "    }\n",
       "\n",
       "    .dataframe tbody tr th {\n",
       "        vertical-align: top;\n",
       "    }\n",
       "\n",
       "    .dataframe thead th {\n",
       "        text-align: right;\n",
       "    }\n",
       "</style>\n",
       "<table border=\"1\" class=\"dataframe\">\n",
       "  <thead>\n",
       "    <tr style=\"text-align: right;\">\n",
       "      <th></th>\n",
       "      <th>0</th>\n",
       "      <th>1</th>\n",
       "      <th>2</th>\n",
       "      <th>3</th>\n",
       "      <th>4</th>\n",
       "      <th>5</th>\n",
       "      <th>6</th>\n",
       "      <th>7</th>\n",
       "      <th>8</th>\n",
       "      <th>9</th>\n",
       "      <th>10</th>\n",
       "      <th>11</th>\n",
       "      <th>12</th>\n",
       "      <th>13</th>\n",
       "      <th>14</th>\n",
       "      <th>15</th>\n",
       "      <th>16</th>\n",
       "    </tr>\n",
       "  </thead>\n",
       "  <tbody>\n",
       "    <tr>\n",
       "      <th>count</th>\n",
       "      <td>435</td>\n",
       "      <td>435</td>\n",
       "      <td>435</td>\n",
       "      <td>435</td>\n",
       "      <td>435</td>\n",
       "      <td>435</td>\n",
       "      <td>435</td>\n",
       "      <td>435</td>\n",
       "      <td>435</td>\n",
       "      <td>435</td>\n",
       "      <td>435</td>\n",
       "      <td>435</td>\n",
       "      <td>435</td>\n",
       "      <td>435</td>\n",
       "      <td>435</td>\n",
       "      <td>435</td>\n",
       "      <td>435</td>\n",
       "    </tr>\n",
       "    <tr>\n",
       "      <th>unique</th>\n",
       "      <td>2</td>\n",
       "      <td>3</td>\n",
       "      <td>3</td>\n",
       "      <td>3</td>\n",
       "      <td>3</td>\n",
       "      <td>3</td>\n",
       "      <td>3</td>\n",
       "      <td>3</td>\n",
       "      <td>3</td>\n",
       "      <td>3</td>\n",
       "      <td>3</td>\n",
       "      <td>3</td>\n",
       "      <td>3</td>\n",
       "      <td>3</td>\n",
       "      <td>3</td>\n",
       "      <td>3</td>\n",
       "      <td>3</td>\n",
       "    </tr>\n",
       "    <tr>\n",
       "      <th>top</th>\n",
       "      <td>democrat</td>\n",
       "      <td>n</td>\n",
       "      <td>y</td>\n",
       "      <td>y</td>\n",
       "      <td>n</td>\n",
       "      <td>y</td>\n",
       "      <td>y</td>\n",
       "      <td>y</td>\n",
       "      <td>y</td>\n",
       "      <td>y</td>\n",
       "      <td>y</td>\n",
       "      <td>n</td>\n",
       "      <td>n</td>\n",
       "      <td>y</td>\n",
       "      <td>y</td>\n",
       "      <td>n</td>\n",
       "      <td>y</td>\n",
       "    </tr>\n",
       "    <tr>\n",
       "      <th>freq</th>\n",
       "      <td>267</td>\n",
       "      <td>236</td>\n",
       "      <td>195</td>\n",
       "      <td>253</td>\n",
       "      <td>247</td>\n",
       "      <td>212</td>\n",
       "      <td>272</td>\n",
       "      <td>239</td>\n",
       "      <td>242</td>\n",
       "      <td>207</td>\n",
       "      <td>216</td>\n",
       "      <td>264</td>\n",
       "      <td>233</td>\n",
       "      <td>209</td>\n",
       "      <td>248</td>\n",
       "      <td>233</td>\n",
       "      <td>269</td>\n",
       "    </tr>\n",
       "  </tbody>\n",
       "</table>\n",
       "</div>"
      ],
      "text/plain": [
       "              0    1    2    3    4    5    6    7    8    9    10   11   12  \\\n",
       "count        435  435  435  435  435  435  435  435  435  435  435  435  435   \n",
       "unique         2    3    3    3    3    3    3    3    3    3    3    3    3   \n",
       "top     democrat    n    y    y    n    y    y    y    y    y    y    n    n   \n",
       "freq         267  236  195  253  247  212  272  239  242  207  216  264  233   \n",
       "\n",
       "         13   14   15   16  \n",
       "count   435  435  435  435  \n",
       "unique    3    3    3    3  \n",
       "top       y    y    n    y  \n",
       "freq    209  248  233  269  "
      ]
     },
     "execution_count": 4,
     "metadata": {},
     "output_type": "execute_result"
    }
   ],
   "source": [
    "house_votes.describe()"
   ]
  },
  {
   "cell_type": "code",
   "execution_count": 5,
   "metadata": {},
   "outputs": [
    {
     "name": "stdout",
     "output_type": "stream",
     "text": [
      "n    236\n",
      "y    187\n",
      "?     12\n",
      "Name: 1, dtype: int64\n",
      "y    195\n",
      "n    192\n",
      "?     48\n",
      "Name: 2, dtype: int64\n",
      "y    253\n",
      "n    171\n",
      "?     11\n",
      "Name: 3, dtype: int64\n",
      "n    247\n",
      "y    177\n",
      "?     11\n",
      "Name: 4, dtype: int64\n",
      "y    212\n",
      "n    208\n",
      "?     15\n",
      "Name: 5, dtype: int64\n",
      "y    272\n",
      "n    152\n",
      "?     11\n",
      "Name: 6, dtype: int64\n",
      "y    239\n",
      "n    182\n",
      "?     14\n",
      "Name: 7, dtype: int64\n",
      "y    242\n",
      "n    178\n",
      "?     15\n",
      "Name: 8, dtype: int64\n",
      "y    207\n",
      "n    206\n",
      "?     22\n",
      "Name: 9, dtype: int64\n",
      "y    216\n",
      "n    212\n",
      "?      7\n",
      "Name: 10, dtype: int64\n",
      "n    264\n",
      "y    150\n",
      "?     21\n",
      "Name: 11, dtype: int64\n",
      "n    233\n",
      "y    171\n",
      "?     31\n",
      "Name: 12, dtype: int64\n",
      "y    209\n",
      "n    201\n",
      "?     25\n",
      "Name: 13, dtype: int64\n",
      "y    248\n",
      "n    170\n",
      "?     17\n",
      "Name: 14, dtype: int64\n",
      "n    233\n",
      "y    174\n",
      "?     28\n",
      "Name: 15, dtype: int64\n",
      "y    269\n",
      "?    104\n",
      "n     62\n",
      "Name: 16, dtype: int64\n"
     ]
    }
   ],
   "source": [
    "for i in range(1,17):\n",
    "    print(house_votes[i].value_counts())"
   ]
  },
  {
   "cell_type": "code",
   "execution_count": 6,
   "metadata": {},
   "outputs": [
    {
     "data": {
      "text/plain": [
       "democrat      267\n",
       "republican    168\n",
       "Name: 0, dtype: int64"
      ]
     },
     "execution_count": 6,
     "metadata": {},
     "output_type": "execute_result"
    }
   ],
   "source": [
    "split=(house_votes[0].value_counts())\n",
    "split"
   ]
  },
  {
   "cell_type": "code",
   "execution_count": 11,
   "metadata": {},
   "outputs": [
    {
     "data": {
      "text/plain": [
       "435"
      ]
     },
     "execution_count": 11,
     "metadata": {},
     "output_type": "execute_result"
    }
   ],
   "source": [
    "split.mean()\n",
    "total=split['democrat']+split['republican']\n",
    "total"
   ]
  },
  {
   "cell_type": "code",
   "execution_count": 12,
   "metadata": {},
   "outputs": [
    {
     "data": {
      "text/plain": [
       "61.37931034482759"
      ]
     },
     "execution_count": 12,
     "metadata": {},
     "output_type": "execute_result"
    }
   ],
   "source": [
    "percentage_demo=(split['democrat']/total)*100\n",
    "percentage_rep=(split['republican']/total)*100\n",
    "percentage_demo"
   ]
  },
  {
   "cell_type": "code",
   "execution_count": 14,
   "metadata": {},
   "outputs": [],
   "source": [
    "yes=house_votes.loc[house_votes[1] == \"y\"]\n",
    "no=house_votes.loc[house_votes[1] == \"n\"]\n"
   ]
  },
  {
   "cell_type": "code",
   "execution_count": 15,
   "metadata": {},
   "outputs": [
    {
     "name": "stdout",
     "output_type": "stream",
     "text": [
      "yes count democrat      156\n",
      "republican     31\n",
      "Name: 0, dtype: int64\n",
      "For yes % of democrats: 83.42245989304813\n",
      "Foe yes % of republicans 16.577540106951872\n",
      "For no % of democrats: 43.22033898305085\n",
      "For no % of republicans 56.779661016949156\n"
     ]
    }
   ],
   "source": [
    "#in yes\n",
    "x=pd.value_counts(yes[0])\n",
    "print(\"yes count\",x)\n",
    "\n",
    "t_y=x['democrat']+x['republican']\n",
    "\n",
    "p_d_y1=(x['democrat']/t_y)*100\n",
    "p_r_n1=(x['republican']/t_y)*100\n",
    "print(\"For yes % of democrats:\",p_d_y1)\n",
    "print(\"Foe yes % of republicans\",p_r_n1)\n",
    "\n",
    "y=pd.value_counts(no[0])\n",
    "y['democrat']\n",
    "y['republican']\n",
    "t_n=y['democrat']+y['republican']\n",
    "p_d_n=(y['democrat']/t_n)*100\n",
    "p_r_n=(y['republican']/t_n)*100\n",
    "print(\"For no % of democrats:\",p_d_n)\n",
    "print(\"For no % of republicans\",p_r_n)\n"
   ]
  },
  {
   "cell_type": "markdown",
   "metadata": {},
   "source": [
    "2 Which variable gives the best branch"
   ]
  },
  {
   "cell_type": "code",
   "execution_count": 16,
   "metadata": {},
   "outputs": [
    {
     "name": "stdout",
     "output_type": "stream",
     "text": [
      "Entropy yes: 0.647948835478525\n",
      "Entropy no: 0.9866967086735613\n"
     ]
    }
   ],
   "source": [
    "#Entropy for both groups:\n",
    "from math import log2\n",
    "\n",
    "p_d_y1=p_d_y1/100\n",
    "p_r_n1=p_r_n1/100\n",
    "p_d_n=p_d_n/100\n",
    "p_r_n=p_r_n/100\n",
    "\n",
    "entropy_yes2=(-(p_d_y1*log2(p_d_y1))-(p_r_n1*log2(p_r_n1)))\n",
    "\n",
    "\n",
    "print(\"Entropy yes:\",entropy_yes2)\n",
    "\n",
    "entropy_no=(-(p_d_n*log2(p_d_n))-(p_r_n*log2(p_r_n)))\n",
    "print(\"Entropy no:\",entropy_no)"
   ]
  },
  {
   "cell_type": "code",
   "execution_count": 17,
   "metadata": {},
   "outputs": [
    {
     "name": "stdout",
     "output_type": "stream",
     "text": [
      "yes weighted: 0.2532316651681227\n",
      "no weighted: 0.4973770785713886\n"
     ]
    }
   ],
   "source": [
    "#Weighted entropy:\n",
    "\n",
    "yes_weight=(-(p_d_y1*log2(p_d_y1))*(156/187)-((p_r_n1*log2(p_r_n1))*(31/187)))\n",
    "print(\"yes weighted:\",yes_weight)\n",
    "\n",
    "no_weight=(-(p_d_n*log2(p_d_n))*(134/236)-((p_r_n*log2(p_r_n))*(102/236)))\n",
    "print(\"no weighted:\",no_weight)"
   ]
  },
  {
   "cell_type": "code",
   "execution_count": 18,
   "metadata": {},
   "outputs": [
    {
     "data": {
      "text/plain": [
       "{1: 0.8369429207599165,\n",
       " 2: 0.9597246290117215,\n",
       " 3: 0.5192054019756008,\n",
       " 4: 0.20611069684434918,\n",
       " 5: 0.5333550427760921,\n",
       " 6: 0.8184728944688933,\n",
       " 7: 0.7572889383940947,\n",
       " 8: 0.6144195668030937,\n",
       " 9: 0.6558589844994812,\n",
       " 10: 0.9567682067352358,\n",
       " 11: 0.8484111687456118,\n",
       " 12: 0.5578936512136129,\n",
       " 13: 0.7200897306908763,\n",
       " 14: 0.6127739303645243,\n",
       " 15: 0.7251662719007257,\n",
       " 16: 0.8967495583804945}"
      ]
     },
     "execution_count": 18,
     "metadata": {},
     "output_type": "execute_result"
    }
   ],
   "source": [
    "#For all features:\n",
    "def rep_demo(house_votes):\n",
    "    dictionary = {}\n",
    "    for i in range(1,17):\n",
    "        Yes = house_votes[house_votes[i]=='y']\n",
    "        No = house_votes[house_votes[i]=='n']\n",
    "        \n",
    "        yes = Yes.shape[0]\n",
    "        no = No.shape[0]\n",
    "        \n",
    "        Yes_demo = (Yes[0].value_counts().to_frame().reset_index()[0].iloc[0])/yes\n",
    "        Yes_republic = (Yes[0].value_counts().to_frame().reset_index()[0].iloc[1])/yes\n",
    "        \n",
    "        No_demo = (No[0].value_counts().to_frame().reset_index()[0].iloc[0])/no\n",
    "        No_republic = (No[0].value_counts().to_frame().reset_index()[0].iloc[1])/no\n",
    "        \n",
    "        entropy_yes = -(Yes_demo*np.log2(Yes_demo) + Yes_republic*np.log2(Yes_republic))\n",
    "        entropy_no = -(No_demo*np.log2(No_demo) + No_republic*np.log2(No_republic))\n",
    "\n",
    "        Final_entropy = (entropy_yes*yes + entropy_no*no)/(house_votes.shape[0] - house_votes[house_votes[i]=='?'].shape[0])\n",
    "        dictionary[i] = Final_entropy\n",
    "    return dictionary\n",
    "\n",
    "rep_demo(house_votes)"
   ]
  },
  {
   "cell_type": "code",
   "execution_count": null,
   "metadata": {},
   "outputs": [],
   "source": [
    "#Smallest entropy is for feature 4= 0.20611069684434918"
   ]
  },
  {
   "cell_type": "code",
   "execution_count": null,
   "metadata": {},
   "outputs": [],
   "source": []
  }
 ],
 "metadata": {
  "kernelspec": {
   "display_name": "Python 3",
   "language": "python",
   "name": "python3"
  },
  "language_info": {
   "codemirror_mode": {
    "name": "ipython",
    "version": 3
   },
   "file_extension": ".py",
   "mimetype": "text/x-python",
   "name": "python",
   "nbconvert_exporter": "python",
   "pygments_lexer": "ipython3",
   "version": "3.6.4"
  }
 },
 "nbformat": 4,
 "nbformat_minor": 2
}
