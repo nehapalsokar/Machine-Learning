{
 "cells": [
  {
   "cell_type": "code",
   "execution_count": null,
   "metadata": {
    "autoscroll": false,
    "collapsed": false,
    "ein.tags": "worksheet-0",
    "slideshow": {
     "slide_type": "-"
    }
   },
   "outputs": [],
   "source": [
    "import numpy as np"
   ]
  },
  {
   "cell_type": "code",
   "execution_count": null,
   "metadata": {
    "autoscroll": false,
    "collapsed": false,
    "ein.tags": "worksheet-0",
    "slideshow": {
     "slide_type": "-"
    }
   },
   "outputs": [],
   "source": [
    "a = np.random.normal(size=(2,2))\n",
    "print(a)\n",
    "## matrix rank\n",
    "print(np.linalg.matrix_rank(a))\n",
    "print(np.linalg.det(a))\n",
    "np.linalg.det(a)"
   ]
  },
  {
   "cell_type": "markdown",
   "metadata": {
    "ein.tags": "worksheet-0",
    "slideshow": {
     "slide_type": "-"
    }
   },
   "source": [
    "## Inverse matrix"
   ]
  },
  {
   "cell_type": "code",
   "execution_count": null,
   "metadata": {
    "autoscroll": false,
    "collapsed": false,
    "ein.tags": "worksheet-0",
    "slideshow": {
     "slide_type": "-"
    }
   },
   "outputs": [],
   "source": [
    "a1 = np.linalg.inv(a)\n",
    "print(a1)\n",
    "print(\"\\n\", a1 @ a)\n",
    "print(\"\\n\", a @ a1)\n",
    "print(\"\\n\", a @ a1 - np.eye(2))"
   ]
  },
  {
   "cell_type": "markdown",
   "metadata": {
    "ein.tags": "worksheet-0",
    "slideshow": {
     "slide_type": "-"
    }
   },
   "source": [
    "## (Near) singular matrices"
   ]
  },
  {
   "cell_type": "code",
   "execution_count": null,
   "metadata": {
    "autoscroll": false,
    "collapsed": false,
    "ein.tags": "worksheet-0",
    "slideshow": {
     "slide_type": "-"
    }
   },
   "outputs": [],
   "source": [
    "## singular matrix\n",
    "a = np.matrix(np.arange(1,10).reshape(3,3))\n",
    "print(a)\n",
    "print(\"rank=\", np.linalg.matrix_rank(a))\n",
    "np.linalg.inv(a)"
   ]
  },
  {
   "cell_type": "code",
   "execution_count": null,
   "metadata": {
    "autoscroll": false,
    "collapsed": false,
    "ein.tags": "worksheet-0",
    "slideshow": {
     "slide_type": "-"
    }
   },
   "outputs": [],
   "source": [
    "b = a + 1e-9*np.eye(3)\n",
    "print(b)\n",
    "print(\"rank=\", np.linalg.matrix_rank(b))\n",
    "b1 = np.linalg.inv(b)\n",
    "print(\"\\n\", b1@b)\n",
    "print('\\n', b1@b - np.eye(3))\n",
    "\n",
    "print(\"condition number\\n\", np.linalg.cond(b))"
   ]
  },
  {
   "cell_type": "markdown",
   "metadata": {
    "ein.tags": "worksheet-0",
    "slideshow": {
     "slide_type": "-"
    }
   },
   "source": [
    "## Eigenvalues"
   ]
  },
  {
   "cell_type": "code",
   "execution_count": null,
   "metadata": {
    "autoscroll": false,
    "collapsed": false,
    "ein.tags": "worksheet-0",
    "slideshow": {
     "slide_type": "-"
    }
   },
   "outputs": [],
   "source": [
    "a = np.matrix(np.arange(1,10).reshape(3,3))\n",
    "print(a)\n",
    "ev = np.linalg.eig(a)\n",
    "print('\\neigenvalues\\n', ev)\n",
    "val, vec = np.linalg.eig(a)\n",
    "print('\\neigenvalues\\n', val)\n",
    "print('\\ncondition number', np.linalg.cond(a))\n",
    "print('\\neigenvectors\\n', vec)"
   ]
  },
  {
   "cell_type": "markdown",
   "metadata": {
    "ein.tags": "worksheet-0",
    "slideshow": {
     "slide_type": "-"
    }
   },
   "source": [
    "## diagonalization"
   ]
  },
  {
   "cell_type": "code",
   "execution_count": null,
   "metadata": {
    "autoscroll": false,
    "collapsed": false,
    "ein.tags": "worksheet-0",
    "slideshow": {
     "slide_type": "-"
    }
   },
   "outputs": [],
   "source": [
    "a = np.matrix(np.arange(1,10).reshape(3,3))\n",
    "a = 0.5*(a + a.T)\n",
    "print(a)\n",
    "val, vec = np.linalg.eig(a)\n",
    "print('\\neigenvalues\\n', val)\n",
    "print('\\neigenvectors\\n', vec)\n",
    "L = np.diag(val)\n",
    "C = vec\n",
    "print('C\\n', C)\n",
    "C1 = np.linalg.inv(C)\n",
    "print('\\nC inverse\\n', C1)\n",
    "print('\\ndiagonal form\\n', C @ L @ C1)"
   ]
  },
  {
   "cell_type": "code",
   "execution_count": null,
   "metadata": {
    "autoscroll": false,
    "collapsed": false,
    "ein.tags": "worksheet-0",
    "slideshow": {
     "slide_type": "-"
    }
   },
   "outputs": [],
   "source": []
  }
 ],
 "metadata": {
  "name": "matrices2.ipynb"
 },
 "nbformat": 4,
 "nbformat_minor": 2
}
