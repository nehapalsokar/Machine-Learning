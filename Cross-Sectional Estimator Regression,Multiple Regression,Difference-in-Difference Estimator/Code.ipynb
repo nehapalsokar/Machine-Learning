{
 "cells": [
  {
   "cell_type": "markdown",
   "metadata": {
    "ein.tags": "worksheet-0",
    "slideshow": {
     "slide_type": "-"
    }
   },
   "source": [
    "# Problem Set 3, due Wednesday, May 3rd, 5:30pm."
   ]
  },
  {
   "cell_type": "markdown",
   "metadata": {
    "ein.tags": "worksheet-0",
    "slideshow": {
     "slide_type": "-"
    }
   },
   "source": [
    "## Introduction to the assignment\n",
    "\n",
    "For this assignment, you will be using data from the [Progresa\n",
    "program](http://en.wikipedia.org/wiki/Oportunidades), a government\n",
    "social assistance program in Mexico. This program, as well as the\n",
    "details of its impact, are described in the paper \"[School subsidies\n",
    "for the poor: evaluating the Mexican Progresa poverty\n",
    "program](http://www.sciencedirect.com/science/article/pii/S0304387803001858)\",\n",
    "by Paul Shultz (available on Canvas).  The data\n",
    "(progresa_sample.csv.gz) is available on canvas\n",
    "in files/data.\n",
    "\n",
    "Please read the paper to familiarize yourself with\n",
    "the PROGRESA program before beginning this problem set, so you have a\n",
    "rough sense of where the data come from and how they were\n",
    "generated. If you just proceed into the problem set without\n",
    "understanding Progresa or the data, it will be very difficult!\n",
    "\n",
    "The goal of this problem set is to implement some of the basic\n",
    "econometric techniques that you are learning in class to measure the\n",
    "impact of Progresa on secondary school enrollment rates, in particular\n",
    "differences-in-differences.  Your task is to **estimate the impact of\n",
    "_progresa_ subsidies on the school attendance**.  Note: this asks to\n",
    "estimate a causal effect.\n",
    "\n",
    "The timeline of the program was:\n",
    "\n",
    " * Baseline survey conducted in 1997\n",
    " * Intervention begins in 1998, \"Wave 1\" of data collected in 1998\n",
    " * \"Wave 2 of data\" collected in 1999\n",
    " * Evaluation ends in 2000, at which point the control villages were treated. \n",
    " \n",
    "When you are ready, download the progresa_sample.csv data from\n",
    "Canvas. The data are actual data collected to evaluate the impact of\n",
    "the Progresa program.  In this file, each row corresponds to an\n",
    "observation taken for a given child for a given year. There are two\n",
    "years of data (1997 and 1998), and just under 40,000 children who are\n",
    "surveyed in both years.  For each child-year observation, the\n",
    "following variables are collected:\n",
    "\n",
    "| Variable name | Description|\n",
    "|------|------|\n",
    "|year\t  |year in which data is collected\n",
    "|sex\t  |male = 1|\n",
    "|indig\t  |indigenous = 1|\n",
    "|dist_sec |nearest distance to a secondary school|\n",
    "|sc\t      |enrolled in school in year of survey (=1)|\n",
    "|grc      |grade enrolled|\n",
    "|fam_n    |family size|\n",
    "|min_dist |\tmin distance to an urban center|\n",
    "|dist_cap |\tmin distance to the capital|\n",
    "|poor     |\tpoor = \"pobre\", not poor = \"no pobre\"|\n",
    "|progresa |treatment = \"basal\", control = \"0\"|\n",
    "|hohedu\t  |years of schooling of head of household|\n",
    "|hohwag\t  |monthly wages of head of household|\n",
    "|welfare_index|\twelfare index used to classify poor|\n",
    "|hohsex\t|gender of head of household (male=1)|\n",
    "|hohage\t|age of head of household|\n",
    "|age\t|years old|\n",
    "|folnum\t|individual id|\n",
    "|village|\tvillage id|\n",
    "|sc97\t|enrolled in school in 1997 (=1) |"
   ]
  },
  {
   "cell_type": "markdown",
   "metadata": {
    "ein.tags": "worksheet-0",
    "slideshow": {
     "slide_type": "-"
    }
   },
   "source": [
    "## Part 1: Descriptive analysis\n",
    "\n",
    "### 1.1\tSummary Statistics\n",
    "\n",
    "Report summary statistics (mean, standard deviation, and number of missings) for all of\n",
    "the demographic variables in the dataset (i.e., everything except\n",
    "year, folnum, village).  Present the actual levels for 'progresa' and\n",
    "'poor'.  Do these fit with the documentation above?\n",
    "\n",
    "Present these in a single table alphabetized\n",
    "by variable name. Do NOT simply expect the grader to scroll through\n",
    "your output!"
   ]
  },
  {
   "cell_type": "code",
   "execution_count": 4,
   "metadata": {},
   "outputs": [
    {
     "name": "stdout",
     "output_type": "stream",
     "text": [
      "IPython version:       6.2.1 (need at least 1.0)\n",
      "Numpy version:        1.14.0 (need at least 1.7.1)\n",
      "SciPy version:         1.0.0 (need at least 0.12.0)\n",
      "Pandas version:       0.22.0 (need at least 0.11.0)\n",
      "Mapltolib version:     2.1.2 (need at least 1.2.1)\n",
      "Scikit-Learn version: 0.19.1 (need at least 0.13.1)\n"
     ]
    },
    {
     "name": "stderr",
     "output_type": "stream",
     "text": [
      "C:\\Users\\Neha\\AppData\\Local\\Continuum\\anaconda3\\lib\\site-packages\\statsmodels\\compat\\pandas.py:56: FutureWarning: The pandas.core.datetools module is deprecated and will be removed in a future version. Please use the pandas.tseries module instead.\n",
      "  from pandas.core import datetools\n"
     ]
    }
   ],
   "source": [
    "#IPython is what you are using now to run the notebook\n",
    "import IPython\n",
    "print (\"IPython version:      %6.6s (need at least 1.0)\" % IPython.__version__)\n",
    "\n",
    "# Numpy is a library for working with Arrays\n",
    "import numpy as np\n",
    "print (\"Numpy version:        %6.6s (need at least 1.7.1)\" % np.__version__)\n",
    "\n",
    "# SciPy implements many different numerical algorithms\n",
    "import scipy as sp\n",
    "print (\"SciPy version:        %6.6s (need at least 0.12.0)\" % sp.__version__)\n",
    "\n",
    "# Pandas makes working with data tables easier\n",
    "import pandas as pd\n",
    "print (\"Pandas version:       %6.6s (need at least 0.11.0)\" % pd.__version__)\n",
    "\n",
    "# Module for plotting\n",
    "import matplotlib\n",
    "print (\"Mapltolib version:    %6.6s (need at least 1.2.1)\" % matplotlib.__version__)\n",
    "\n",
    "# SciKit Learn implements several Machine Learning algorithms\n",
    "import sklearn\n",
    "print (\"Scikit-Learn version: %6.6s (need at least 0.13.1)\" % sklearn.__version__)\n",
    "\n",
    "# Import and alias pyplot from matplotlib\n",
    "import matplotlib.pyplot as plt\n",
    "\n",
    "# Set plots to plot inline\n",
    "%matplotlib inline \n",
    "\n",
    "# Import StatsModels for OLS\n",
    "import statsmodels.api as sm\n",
    "\n",
    "from scipy.stats import ttest_ind\n",
    "import statsmodels.formula.api as smf"
   ]
  },
  {
   "cell_type": "code",
   "execution_count": 5,
   "metadata": {
    "autoscroll": false,
    "ein.tags": "worksheet-0",
    "slideshow": {
     "slide_type": "-"
    }
   },
   "outputs": [
    {
     "data": {
      "text/html": [
       "<div>\n",
       "<style scoped>\n",
       "    .dataframe tbody tr th:only-of-type {\n",
       "        vertical-align: middle;\n",
       "    }\n",
       "\n",
       "    .dataframe tbody tr th {\n",
       "        vertical-align: top;\n",
       "    }\n",
       "\n",
       "    .dataframe thead th {\n",
       "        text-align: right;\n",
       "    }\n",
       "</style>\n",
       "<table border=\"1\" class=\"dataframe\">\n",
       "  <thead>\n",
       "    <tr style=\"text-align: right;\">\n",
       "      <th></th>\n",
       "      <th>year</th>\n",
       "      <th>sex</th>\n",
       "      <th>indig</th>\n",
       "      <th>dist_sec</th>\n",
       "      <th>sc</th>\n",
       "      <th>grc</th>\n",
       "      <th>fam_n</th>\n",
       "      <th>min_dist</th>\n",
       "      <th>dist_cap</th>\n",
       "      <th>poor</th>\n",
       "      <th>...</th>\n",
       "      <th>hohedu</th>\n",
       "      <th>hohwag</th>\n",
       "      <th>welfare_index</th>\n",
       "      <th>hohsex</th>\n",
       "      <th>hohage</th>\n",
       "      <th>age</th>\n",
       "      <th>village</th>\n",
       "      <th>folnum</th>\n",
       "      <th>grc97</th>\n",
       "      <th>sc97</th>\n",
       "    </tr>\n",
       "  </thead>\n",
       "  <tbody>\n",
       "    <tr>\n",
       "      <th>0</th>\n",
       "      <td>97</td>\n",
       "      <td>0.0</td>\n",
       "      <td>0.0</td>\n",
       "      <td>4.473</td>\n",
       "      <td>1.0</td>\n",
       "      <td>7.0</td>\n",
       "      <td>7</td>\n",
       "      <td>21.168384</td>\n",
       "      <td>21.168384</td>\n",
       "      <td>pobre</td>\n",
       "      <td>...</td>\n",
       "      <td>6</td>\n",
       "      <td>0.0</td>\n",
       "      <td>583.0</td>\n",
       "      <td>1.0</td>\n",
       "      <td>35.0</td>\n",
       "      <td>13</td>\n",
       "      <td>163</td>\n",
       "      <td>1</td>\n",
       "      <td>7</td>\n",
       "      <td>1.0</td>\n",
       "    </tr>\n",
       "    <tr>\n",
       "      <th>1</th>\n",
       "      <td>98</td>\n",
       "      <td>0.0</td>\n",
       "      <td>0.0</td>\n",
       "      <td>4.473</td>\n",
       "      <td>1.0</td>\n",
       "      <td>8.0</td>\n",
       "      <td>7</td>\n",
       "      <td>21.168384</td>\n",
       "      <td>21.168384</td>\n",
       "      <td>pobre</td>\n",
       "      <td>...</td>\n",
       "      <td>6</td>\n",
       "      <td>0.0</td>\n",
       "      <td>583.0</td>\n",
       "      <td>1.0</td>\n",
       "      <td>35.0</td>\n",
       "      <td>14</td>\n",
       "      <td>163</td>\n",
       "      <td>1</td>\n",
       "      <td>7</td>\n",
       "      <td>1.0</td>\n",
       "    </tr>\n",
       "    <tr>\n",
       "      <th>2</th>\n",
       "      <td>97</td>\n",
       "      <td>1.0</td>\n",
       "      <td>0.0</td>\n",
       "      <td>4.473</td>\n",
       "      <td>1.0</td>\n",
       "      <td>6.0</td>\n",
       "      <td>7</td>\n",
       "      <td>21.168384</td>\n",
       "      <td>21.168384</td>\n",
       "      <td>pobre</td>\n",
       "      <td>...</td>\n",
       "      <td>6</td>\n",
       "      <td>0.0</td>\n",
       "      <td>583.0</td>\n",
       "      <td>1.0</td>\n",
       "      <td>35.0</td>\n",
       "      <td>12</td>\n",
       "      <td>163</td>\n",
       "      <td>2</td>\n",
       "      <td>6</td>\n",
       "      <td>1.0</td>\n",
       "    </tr>\n",
       "    <tr>\n",
       "      <th>3</th>\n",
       "      <td>98</td>\n",
       "      <td>1.0</td>\n",
       "      <td>0.0</td>\n",
       "      <td>4.473</td>\n",
       "      <td>1.0</td>\n",
       "      <td>7.0</td>\n",
       "      <td>7</td>\n",
       "      <td>21.168384</td>\n",
       "      <td>21.168384</td>\n",
       "      <td>pobre</td>\n",
       "      <td>...</td>\n",
       "      <td>6</td>\n",
       "      <td>0.0</td>\n",
       "      <td>583.0</td>\n",
       "      <td>1.0</td>\n",
       "      <td>35.0</td>\n",
       "      <td>13</td>\n",
       "      <td>163</td>\n",
       "      <td>2</td>\n",
       "      <td>6</td>\n",
       "      <td>1.0</td>\n",
       "    </tr>\n",
       "    <tr>\n",
       "      <th>4</th>\n",
       "      <td>97</td>\n",
       "      <td>0.0</td>\n",
       "      <td>0.0</td>\n",
       "      <td>4.473</td>\n",
       "      <td>1.0</td>\n",
       "      <td>2.0</td>\n",
       "      <td>7</td>\n",
       "      <td>21.168384</td>\n",
       "      <td>21.168384</td>\n",
       "      <td>pobre</td>\n",
       "      <td>...</td>\n",
       "      <td>6</td>\n",
       "      <td>0.0</td>\n",
       "      <td>583.0</td>\n",
       "      <td>1.0</td>\n",
       "      <td>35.0</td>\n",
       "      <td>8</td>\n",
       "      <td>163</td>\n",
       "      <td>3</td>\n",
       "      <td>2</td>\n",
       "      <td>1.0</td>\n",
       "    </tr>\n",
       "  </tbody>\n",
       "</table>\n",
       "<p>5 rows × 21 columns</p>\n",
       "</div>"
      ],
      "text/plain": [
       "   year  sex  indig  dist_sec   sc  grc  fam_n   min_dist   dist_cap   poor  \\\n",
       "0    97  0.0    0.0     4.473  1.0  7.0      7  21.168384  21.168384  pobre   \n",
       "1    98  0.0    0.0     4.473  1.0  8.0      7  21.168384  21.168384  pobre   \n",
       "2    97  1.0    0.0     4.473  1.0  6.0      7  21.168384  21.168384  pobre   \n",
       "3    98  1.0    0.0     4.473  1.0  7.0      7  21.168384  21.168384  pobre   \n",
       "4    97  0.0    0.0     4.473  1.0  2.0      7  21.168384  21.168384  pobre   \n",
       "\n",
       "   ...  hohedu  hohwag  welfare_index  hohsex  hohage  age  village  folnum  \\\n",
       "0  ...       6     0.0          583.0     1.0    35.0   13      163       1   \n",
       "1  ...       6     0.0          583.0     1.0    35.0   14      163       1   \n",
       "2  ...       6     0.0          583.0     1.0    35.0   12      163       2   \n",
       "3  ...       6     0.0          583.0     1.0    35.0   13      163       2   \n",
       "4  ...       6     0.0          583.0     1.0    35.0    8      163       3   \n",
       "\n",
       "   grc97  sc97  \n",
       "0      7   1.0  \n",
       "1      7   1.0  \n",
       "2      6   1.0  \n",
       "3      6   1.0  \n",
       "4      2   1.0  \n",
       "\n",
       "[5 rows x 21 columns]"
      ]
     },
     "execution_count": 5,
     "metadata": {},
     "output_type": "execute_result"
    }
   ],
   "source": [
    "# your code here\n",
    "#load the data\n",
    "progresa = pd.read_csv('progresa_sample.csv.gz')\n",
    "progresa.head()"
   ]
  },
  {
   "cell_type": "code",
   "execution_count": 6,
   "metadata": {},
   "outputs": [
    {
     "data": {
      "text/plain": [
       "year                0\n",
       "sex                24\n",
       "indig             300\n",
       "dist_sec            0\n",
       "sc               8453\n",
       "grc              6549\n",
       "fam_n               0\n",
       "min_dist            0\n",
       "dist_cap            0\n",
       "poor                0\n",
       "progresa            0\n",
       "hohedu              0\n",
       "hohwag              0\n",
       "welfare_index     210\n",
       "hohsex             20\n",
       "hohage             10\n",
       "age                 0\n",
       "village             0\n",
       "folnum              0\n",
       "grc97               0\n",
       "sc97             3872\n",
       "dtype: int64"
      ]
     },
     "execution_count": 6,
     "metadata": {},
     "output_type": "execute_result"
    }
   ],
   "source": [
    "#Summary Statistics\n",
    "\n",
    "#Missing observations::\n",
    "\n",
    "progresa.isnull().sum()\n",
    "\n",
    "\n"
   ]
  },
  {
   "cell_type": "code",
   "execution_count": 7,
   "metadata": {},
   "outputs": [
    {
     "data": {
      "text/html": [
       "<div>\n",
       "<style scoped>\n",
       "    .dataframe tbody tr th:only-of-type {\n",
       "        vertical-align: middle;\n",
       "    }\n",
       "\n",
       "    .dataframe tbody tr th {\n",
       "        vertical-align: top;\n",
       "    }\n",
       "\n",
       "    .dataframe thead th {\n",
       "        text-align: right;\n",
       "    }\n",
       "</style>\n",
       "<table border=\"1\" class=\"dataframe\">\n",
       "  <thead>\n",
       "    <tr style=\"text-align: right;\">\n",
       "      <th></th>\n",
       "      <th>mean</th>\n",
       "      <th>std</th>\n",
       "    </tr>\n",
       "  </thead>\n",
       "  <tbody>\n",
       "    <tr>\n",
       "      <th>age</th>\n",
       "      <td>11.366460</td>\n",
       "      <td>3.167744</td>\n",
       "    </tr>\n",
       "    <tr>\n",
       "      <th>dist_cap</th>\n",
       "      <td>147.674452</td>\n",
       "      <td>76.063134</td>\n",
       "    </tr>\n",
       "    <tr>\n",
       "      <th>dist_sec</th>\n",
       "      <td>2.418910</td>\n",
       "      <td>2.234109</td>\n",
       "    </tr>\n",
       "    <tr>\n",
       "      <th>fam_n</th>\n",
       "      <td>7.215715</td>\n",
       "      <td>2.352900</td>\n",
       "    </tr>\n",
       "    <tr>\n",
       "      <th>grc</th>\n",
       "      <td>3.963537</td>\n",
       "      <td>2.499063</td>\n",
       "    </tr>\n",
       "    <tr>\n",
       "      <th>grc97</th>\n",
       "      <td>3.705372</td>\n",
       "      <td>2.572387</td>\n",
       "    </tr>\n",
       "    <tr>\n",
       "      <th>hohage</th>\n",
       "      <td>44.436717</td>\n",
       "      <td>11.620372</td>\n",
       "    </tr>\n",
       "    <tr>\n",
       "      <th>hohedu</th>\n",
       "      <td>2.768104</td>\n",
       "      <td>2.656106</td>\n",
       "    </tr>\n",
       "    <tr>\n",
       "      <th>hohsex</th>\n",
       "      <td>0.925185</td>\n",
       "      <td>0.263095</td>\n",
       "    </tr>\n",
       "    <tr>\n",
       "      <th>hohwag</th>\n",
       "      <td>586.985312</td>\n",
       "      <td>788.133664</td>\n",
       "    </tr>\n",
       "    <tr>\n",
       "      <th>indig</th>\n",
       "      <td>0.298324</td>\n",
       "      <td>0.457525</td>\n",
       "    </tr>\n",
       "    <tr>\n",
       "      <th>min_dist</th>\n",
       "      <td>103.447520</td>\n",
       "      <td>42.089441</td>\n",
       "    </tr>\n",
       "    <tr>\n",
       "      <th>sc</th>\n",
       "      <td>0.819818</td>\n",
       "      <td>0.384342</td>\n",
       "    </tr>\n",
       "    <tr>\n",
       "      <th>sc97</th>\n",
       "      <td>0.813922</td>\n",
       "      <td>0.389172</td>\n",
       "    </tr>\n",
       "    <tr>\n",
       "      <th>sex</th>\n",
       "      <td>0.512211</td>\n",
       "      <td>0.499854</td>\n",
       "    </tr>\n",
       "    <tr>\n",
       "      <th>welfare_index</th>\n",
       "      <td>690.346564</td>\n",
       "      <td>139.491130</td>\n",
       "    </tr>\n",
       "  </tbody>\n",
       "</table>\n",
       "</div>"
      ],
      "text/plain": [
       "                     mean         std\n",
       "age             11.366460    3.167744\n",
       "dist_cap       147.674452   76.063134\n",
       "dist_sec         2.418910    2.234109\n",
       "fam_n            7.215715    2.352900\n",
       "grc              3.963537    2.499063\n",
       "grc97            3.705372    2.572387\n",
       "hohage          44.436717   11.620372\n",
       "hohedu           2.768104    2.656106\n",
       "hohsex           0.925185    0.263095\n",
       "hohwag         586.985312  788.133664\n",
       "indig            0.298324    0.457525\n",
       "min_dist       103.447520   42.089441\n",
       "sc               0.819818    0.384342\n",
       "sc97             0.813922    0.389172\n",
       "sex              0.512211    0.499854\n",
       "welfare_index  690.346564  139.491130"
      ]
     },
     "execution_count": 7,
     "metadata": {},
     "output_type": "execute_result"
    }
   ],
   "source": [
    "#Mean and standard deviation::\n",
    "x = progresa[progresa.columns.difference(['year','folnum','village'])].describe()\n",
    "progresa_mean_std = x.loc['mean':'std',:]\n",
    "progresa_mean_std.T"
   ]
  },
  {
   "cell_type": "markdown",
   "metadata": {
    "ein.tags": "worksheet-0",
    "slideshow": {
     "slide_type": "-"
    }
   },
   "source": [
    "### 1.2 Differences at baseline?\n",
    "Now let's investigate the differences in baseline.  Are the baseline (1997) demographic characteristics **for the poor**\n",
    "different in treatment and control villages?\n",
    "\n",
    "I suggest you to use a T-Test to\n",
    "determine whether there is a statistically significant difference in\n",
    "the average values of each of the variables in the dataset. Focus only\n",
    "on the data from 1997 for poor.\n",
    "\n",
    "Present your results in a single table with the following columns and 14 (or so) rows:\n",
    "\n",
    "| Variable name | Average value (Treatment villages) | Average value (Control villages) | Difference (Treat - Control) | p-value |\n",
    "|------|------|------|------|------|\n",
    "|Male|?|?|?|?|\n"
   ]
  },
  {
   "cell_type": "code",
   "execution_count": 39,
   "metadata": {
    "autoscroll": false,
    "ein.tags": "worksheet-0",
    "slideshow": {
     "slide_type": "-"
    }
   },
   "outputs": [
    {
     "name": "stdout",
     "output_type": "stream",
     "text": [
      "variable_name avg_val_treatment avg_val_control        Diff        p_val\n",
      "          sex          0.519317        0.505052   0.0142652    0.0122074\n",
      "        indig          0.325986        0.332207 -0.00622198     0.245902\n",
      "     dist_sec           2.45312         2.50766  -0.0545398    0.0426628\n",
      "           sc          0.822697        0.815186  0.00751088    0.0964612\n",
      "          grc            3.5316         3.54305  -0.0114503     0.689523\n",
      "        fam_n           7.28133         7.30247  -0.0211419     0.428967\n",
      "     min_dist           107.153         103.238     3.91506   7.0558e-16\n",
      "     dist_cap           150.829          153.77    -2.94066   0.00114648\n",
      "       hohedu           2.66314         2.59035   0.0727912    0.0103822\n",
      "       hohwag            544.34         573.164     -28.824  0.000328729\n",
      "welfare_index           655.428         659.579    -4.15072   0.00153168\n",
      "       hohsex          0.924656        0.922947  0.00170878     0.572125\n",
      "       hohage           43.6488         44.2769    -0.62809  2.25946e-06\n",
      "          age            10.717          10.742   -0.025032     0.478363\n",
      "        grc97            3.5316         3.54305  -0.0114503     0.689523\n",
      "         sc97          0.822697        0.815186  0.00751088    0.0964612\n"
     ]
    }
   ],
   "source": [
    "baseline_df=pd.DataFrame(index=range(1,16),columns=['variable_name', 'avg_val_treatment','avg_val_control','Diff','p_val'])\n",
    "i=1\n",
    "for column in progresa:\n",
    "    if((column != 'year')&(column !='folnum')&(column !='village')&(column != 'poor')&(column != 'progresa')):\n",
    "        temp1=pd.Series(progresa.loc[:,column].where((progresa['poor']==\"pobre\")&(progresa['progresa']==\"basal\")&(progresa['year']==97)))\n",
    "        mean_t=np.mean(temp1)\n",
    "        temp2=pd.Series(progresa.loc[:,column].where((progresa['poor']==\"pobre\")&(progresa['progresa']==\"0\")&(progresa['year']==97)))\n",
    "        mean_c=np.mean(temp2)\n",
    "        (tval,pval)=sp.stats.ttest_ind(temp1,temp2,equal_var = False,nan_policy='omit')\n",
    "        baseline_df.loc[i]=dict(variable_name=column,avg_val_treatment=mean_t,avg_val_control=mean_c,Diff=(mean_t-mean_c),p_val=pval)\n",
    "        i=i+1\n",
    "print (baseline_df.to_string(index=False))"
   ]
  },
  {
   "cell_type": "markdown",
   "metadata": {
    "ein.tags": "worksheet-0",
    "slideshow": {
     "slide_type": "-"
    }
   },
   "source": [
    "### 1.3 Interpretation\n",
    "\n",
    "* A: Are there statistically significant differences between treatment and control villages as baseline? \n",
    "* B: Why does it matter if there are differences at baseline?\n",
    "* C: What does this imply about how to measure the impact of the treatment?"
   ]
  },
  {
   "cell_type": "code",
   "execution_count": 46,
   "metadata": {},
   "outputs": [
    {
     "name": "stdout",
     "output_type": "stream",
     "text": [
      "    variable_name avg_val_treatment avg_val_control       Diff        p_val\n",
      "1             sex          0.519317        0.505052  0.0142652    0.0122074\n",
      "3        dist_sec           2.45312         2.50766 -0.0545398    0.0426628\n",
      "7        min_dist           107.153         103.238    3.91506   7.0558e-16\n",
      "8        dist_cap           150.829          153.77   -2.94066   0.00114648\n",
      "9          hohedu           2.66314         2.59035  0.0727912    0.0103822\n",
      "10         hohwag            544.34         573.164    -28.824  0.000328729\n",
      "11  welfare_index           655.428         659.579   -4.15072   0.00153168\n",
      "13         hohage           43.6488         44.2769   -0.62809  2.25946e-06\n"
     ]
    }
   ],
   "source": [
    "#A:\n",
    "# Null Hypothesis- There are no statistically significant differences between treatment and control\n",
    "# villages as baseline\n",
    "\n",
    "# Alternate Hypothesis-There are statistically significant differences between treatment and control\n",
    "# villages as baseline\n",
    "\n",
    "#when p-val<0.05\n",
    "print(baseline_df.where(baseline_df.p_val<0.05).dropna())\n",
    "\n",
    "# #when p-val=0.01\n",
    "# print(\"\\n alpha=0.01\\n\",baseline_df.where(baseline_df.p_val<0.010).dropna())\n"
   ]
  },
  {
   "cell_type": "markdown",
   "metadata": {
    "ein.tags": "worksheet-0",
    "slideshow": {
     "slide_type": "-"
    }
   },
   "source": [
    "A. Yes, there are statistically significant differences between the treatment and control villages at baseline as the p-value is lower than 0.05 for certain variables. For example, the following variables have statistically significant differences: min distance to the capital, nearest distance to a secondary school, age of head of household, years of schooling of head of household, monthly wages of head of household, min distance to an urban center, enrolled in school in year of survey and sex\n",
    "\n",
    "B. Randomization is a concept used to understand causal relationships between different parameters. There are statistically significant differences between the treatment and control group prior to the treatment. Since the two groups are systematically different even before the treatment then that proves that the randomization did not work flawlessly.The effect of Progresa cannot be clearly determined through the data from the subsequent surveys.\n",
    "\n",
    "\n",
    "C. Impact of treatment is measured by the differences between the outcomes of treatment and control group under randomized treatment.Since the randomization was not done effectively then we cannot use this impact measurement technique and we have to fallback on other techniques like double difference. "
   ]
  },
  {
   "cell_type": "markdown",
   "metadata": {
    "ein.tags": "worksheet-0",
    "slideshow": {
     "slide_type": "-"
    }
   },
   "source": [
    "### 1.4 Graphical exploration, part 1\n",
    "\n",
    "For each level of household head education, compute the average\n",
    "enrollment rate in 1997. Create a scatterplot that shows this\n",
    "relationship. What do you notice?"
   ]
  },
  {
   "cell_type": "code",
   "execution_count": 52,
   "metadata": {
    "autoscroll": false,
    "ein.tags": "worksheet-0",
    "slideshow": {
     "slide_type": "-"
    }
   },
   "outputs": [
    {
     "data": {
      "text/plain": [
       "Text(0,0.5,'Average Enrollment Rate in 1997')"
      ]
     },
     "execution_count": 52,
     "metadata": {},
     "output_type": "execute_result"
    },
    {
     "data": {
      "image/png": "[encoded data removed]",
      "text/plain": [
       "<matplotlib.figure.Figure at 0x25980652c18>"
      ]
     },
     "metadata": {},
     "output_type": "display_data"
    },
    {
     "data": {
      "image/png": "[encoded data removed]",
      "text/plain": [
       "<matplotlib.figure.Figure at 0x2598100bcc0>"
      ]
     },
     "metadata": {},
     "output_type": "display_data"
    }
   ],
   "source": [
    "# Your code here\n",
    "\n",
    "#plotting without mean\n",
    "avg_enrollment=pd.DataFrame(progresa.where(progresa.year==97))\n",
    "matplotlib.style.use('ggplot')\n",
    "avg_enrollment.plot.scatter(x='hohedu',y='sc',use_index=True)\n",
    "plt.xlabel(\"Level of Household head education in years\")\n",
    "plt.ylabel(\"Average Enrollment Rate in 1997\")\n",
    "\n",
    "#plotting average enrollment rate\n",
    "avg_enrollment=avg_enrollment.groupby(avg_enrollment.hohedu).mean()\n",
    "avg_enrollment.reset_index().plot.scatter(x='hohedu',y='sc',use_index=True,color='r')\n",
    "plt.xlabel(\"Level of Household head education in years\")\n",
    "plt.ylabel(\"Average Enrollment Rate in 1997\")"
   ]
  },
  {
   "cell_type": "markdown",
   "metadata": {
    "ein.tags": "worksheet-0",
    "slideshow": {
     "slide_type": "-"
    }
   },
   "source": [
    "\n",
    "The average enrollment rates increase steadily from around 0.75 to 0.92 for household head education years between 1 and 9. At the 10 year mark we observe a slight drop in average enrollment rates to 0.86 and the from year 11 onwards its back on track to around 0.97. There are many such drops and increases in the average enrollment rates as the years of household head education increases further. It finally drops to 0.5 as we hit the 20 year mark.This can be explained as we have comparatively less data for this level i.e. only two records with 1 as enrolled and the other as not enrolled.\n",
    "\n",
    "The general trend is -As household education goes up enrollment rate increases. But there are few points that indicate otherwise. Two significant dips can be observed. When the hohedu value is 10 and when it is 15, the enrollment rate drops contrary to the trend.\n"
   ]
  },
  {
   "cell_type": "markdown",
   "metadata": {
    "ein.tags": "worksheet-0",
    "slideshow": {
     "slide_type": "-"
    }
   },
   "source": [
    "### 1.5 Graphical exploration, part 2\n",
    "\n",
    "Create a histogram of village enrollment rates **among poor households\n",
    "in treated villages**, before and after treatment.  Specifically, for\n",
    "each village, calculate the average rate of enrollment of poor\n",
    "households in treated villages in 1997, then compute the average rate\n",
    "of enrollment of poor households in treated villages in 1998. Create\n",
    "two separate histograms showing the distribution of these average\n",
    "enrollments rates, one histogram for 1997 and one histogram for\n",
    "1998. On each histogram, draw a vertical line that intersects the\n",
    "x-axis at the average value (across all households). Does there appear\n",
    "to be a difference? Is this difference statistically significant?"
   ]
  },
  {
   "cell_type": "code",
   "execution_count": 8,
   "metadata": {
    "autoscroll": false,
    "ein.tags": "worksheet-0",
    "slideshow": {
     "slide_type": "-"
    }
   },
   "outputs": [
    {
     "data": {
      "image/png": "[encoded data removed]",
      "text/plain": [
       "<matplotlib.figure.Figure at 0x249f8ecbb38>"
      ]
     },
     "metadata": {},
     "output_type": "display_data"
    },
    {
     "data": {
      "text/plain": [
       "<matplotlib.lines.Line2D at 0x249f853c668>"
      ]
     },
     "execution_count": 8,
     "metadata": {},
     "output_type": "execute_result"
    },
    {
     "data": {
      "image/png": "[encoded data removed]",
      "text/plain": [
       "<matplotlib.figure.Figure at 0x249f8f17f98>"
      ]
     },
     "metadata": {},
     "output_type": "display_data"
    }
   ],
   "source": [
    "# Your code here\n",
    "#for  year 1997:\n",
    "avg_enrollment_97=pd.DataFrame(progresa.where((progresa.year==97)&(progresa.poor== 'pobre')&(progresa.progresa== 'basal')))\n",
    "avg_enrollment_97=avg_enrollment_97.groupby(avg_enrollment_97.village).mean()\n",
    "\n",
    "fig = plt.figure()\n",
    "ax = plt.hist(avg_enrollment_97['sc'],color=\"orange\")\n",
    "plt.xlim([0.2,1])\n",
    "plt.xlabel(\"Avg Enrollment Rates in 1997\")\n",
    "plt.ylabel(\"Number of Villages\")\n",
    "plt.axvline(avg_enrollment_97.sc.mean(),color = 'blue',linestyle='dashed')\n",
    "plt.show()\n",
    "\n",
    "#for year 1998:\n",
    "avg_enrollment_98=pd.DataFrame(progresa.where((progresa.year==98)&(progresa.poor== 'pobre')&(progresa.progresa== 'basal')))\n",
    "avg_enrollment_98=avg_enrollment_98.groupby(avg_enrollment_98.village).mean()\n",
    "fig = plt.figure()\n",
    "ax = plt.hist(avg_enrollment_98['sc'],color=\"skyblue\")\n",
    "plt.xlim([0.2,1])\n",
    "plt.xlabel(\"Avg Enrollment Rates in 1998\")\n",
    "plt.ylabel(\"Number of Villages\")\n",
    "plt.axvline(avg_enrollment_98.sc.mean(),color = 'red',linestyle='dashed')\n",
    "\n"
   ]
  },
  {
   "cell_type": "code",
   "execution_count": 71,
   "metadata": {
    "ein.tags": "worksheet-0",
    "slideshow": {
     "slide_type": "-"
    }
   },
   "outputs": [
    {
     "name": "stdout",
     "output_type": "stream",
     "text": [
      "0.044249343422588405\n"
     ]
    }
   ],
   "source": [
    "#for statistical difference\n",
    "(tval,pval)=sp.stats.ttest_ind(avg_enrollment_97.sc,avg_enrollment_98.sc,equal_var = False)\n",
    "print(pval)"
   ]
  },
  {
   "cell_type": "markdown",
   "metadata": {},
   "source": [
    "From the above histograms we see that the overall mean of the average enrollment rates across villages in 1997 and 1998 has more or less remained the same at around 0.81 and 0.82. From the histogram, we see that there is a shift towards 0.8 and 0.9 in the year 1998 compared to the year 1997. A t-test confirms that the difference is statistically significant as the p-value < 0.05, although marginally(p value=0.044).\n"
   ]
  },
  {
   "cell_type": "markdown",
   "metadata": {
    "ein.tags": "worksheet-0",
    "slideshow": {
     "slide_type": "-"
    }
   },
   "source": [
    "## Part 2: Measuring Impact\n",
    "\n",
    "Our goal is to estimate the causal impact of the PROGRESA program on\n",
    "the social and economic outcomes of individuals in Mexico. We will\n",
    "focus on the impact of the program on the poor (those with\n",
    "poor=='pobre'), since only the poor were eligible to receive the\n",
    "PROGRESA assistance.\n",
    "\n",
    "### 2.1 Cross-Sectional Estimator: T-test\n",
    "\n",
    "Begin by estimating the impact of Progresa using \"simple differences.\"\n",
    "Restricting yourself to data from 1998 (after treatment), calculate\n",
    "the average enrollment rate among **poor** households in the Treatment\n",
    "villages and the average enrollment rate among **poor** households in\n",
    "the control villages. Use a t-test to determine if this difference is\n",
    "statistically significant. What do you conclude?"
   ]
  },
  {
   "cell_type": "code",
   "execution_count": 76,
   "metadata": {
    "autoscroll": false,
    "ein.tags": "worksheet-0",
    "slideshow": {
     "slide_type": "-"
    }
   },
   "outputs": [
    {
     "name": "stdout",
     "output_type": "stream",
     "text": [
      "The average enrollment rate among poor households in the treatment vilages is:\n",
      "0.8464791213954308\n",
      "The average enrollment rate among poor households in the control vilages is:\n",
      "0.807636956730308\n"
     ]
    },
    {
     "data": {
      "text/plain": [
       "Ttest_indResult(statistic=8.358720567418374, pvalue=6.636344447523235e-17)"
      ]
     },
     "execution_count": 76,
     "metadata": {},
     "output_type": "execute_result"
    }
   ],
   "source": [
    "# Your code her:')\n",
    "treatment_98=pd.Series(progresa.loc[:,'sc'].where((progresa.year==98)&(progresa['poor']==\"pobre\")&(progresa['progresa']==\"basal\")))\n",
    "print('The average enrollment rate among poor households in the treatment vilages is:')\n",
    "print (np.mean(treatment_98))\n",
    "\n",
    "control_98=pd.Series(progresa.loc[:,'sc'].where((progresa.year==98)&(progresa['poor']==\"pobre\")&(progresa['progresa']==\"0\")))\n",
    "print('The average enrollment rate among poor households in the control vilages is:')\n",
    "print(np.mean(control_98))\n",
    "(tval,pval)=sp.stats.ttest_ind(treatment_98,control_98,equal_var = False,nan_policy='omit')\n",
    "\n",
    "\n",
    "#t test to determine statistical significance\n",
    "ttest_ind(treatment_98[~np.isnan(treatment_98)],control_98[~np.isnan(control_98)])"
   ]
  },
  {
   "cell_type": "markdown",
   "metadata": {
    "ein.tags": "worksheet-0",
    "slideshow": {
     "slide_type": "-"
    }
   },
   "source": [
    "The average enrollment rates are 0.84 and 0.80 in the treated and control villages respectively.Using the t-test, we determine that the difference is statistically significant. We can conclude that the impact of progresa is evident in the year 1998 among the two groups."
   ]
  },
  {
   "cell_type": "markdown",
   "metadata": {
    "ein.tags": "worksheet-0",
    "slideshow": {
     "slide_type": "-"
    }
   },
   "source": [
    "### 2.2 Cross-Sectional Estimator: Regression\n",
    "\n",
    "Estimate the effects of Progresa on enrollment using a regression\n",
    "model, by regressing the 1998 enrollment rates **of the poor** on\n",
    "treatment assignment.  Do not include any additional control\n",
    "variables.\n",
    "Discuss the following:\n",
    "\n",
    "* Based on this model, how much did Progresa increase the likelihood of a child enrolling?\n",
    "* How does your regression estimate compare to your t-test estimate from part 2.1?\n",
    "* Based on this regression model, can we reject the null hypothesis that the treatment effects are zero? \n",
    "* What is the counterfactual assumption underlying this regression?\n",
    "\n",
    "Note: I recommend to use statsmodels.formula.api as this allows to use\n",
    "convenient R-style formulas and provedes nice summaries of the results."
   ]
  },
  {
   "cell_type": "code",
   "execution_count": 9,
   "metadata": {
    "autoscroll": false,
    "ein.tags": "worksheet-0",
    "slideshow": {
     "slide_type": "-"
    }
   },
   "outputs": [
    {
     "name": "stdout",
     "output_type": "stream",
     "text": [
      "Intercept    0.807637\n",
      "progresa     0.038842\n",
      "dtype: float64\n",
      "                            OLS Regression Results                            \n",
      "==============================================================================\n",
      "Dep. Variable:                     sc   R-squared:                       0.003\n",
      "Model:                            OLS   Adj. R-squared:                  0.003\n",
      "Method:                 Least Squares   F-statistic:                     69.87\n",
      "Date:                Tue, 01 May 2018   Prob (F-statistic):           6.64e-17\n",
      "Time:                        17:05:12   Log-Likelihood:                -11926.\n",
      "No. Observations:               27450   AIC:                         2.386e+04\n",
      "Df Residuals:                   27448   BIC:                         2.387e+04\n",
      "Df Model:                           1                                         \n",
      "Covariance Type:            nonrobust                                         \n",
      "==============================================================================\n",
      "                 coef    std err          t      P>|t|      [0.025      0.975]\n",
      "------------------------------------------------------------------------------\n",
      "Intercept      0.8076      0.004    220.676      0.000       0.800       0.815\n",
      "progresa       0.0388      0.005      8.359      0.000       0.030       0.048\n",
      "==============================================================================\n",
      "Omnibus:                     7638.939   Durbin-Watson:                   1.734\n",
      "Prob(Omnibus):                  0.000   Jarque-Bera (JB):            15767.534\n",
      "Skew:                          -1.767   Prob(JB):                         0.00\n",
      "Kurtosis:                       4.140   Cond. No.                         3.01\n",
      "==============================================================================\n",
      "\n",
      "Warnings:\n",
      "[1] Standard Errors assume that the covariance matrix of the errors is correctly specified.\n"
     ]
    },
    {
     "name": "stderr",
     "output_type": "stream",
     "text": [
      "C:\\Users\\Neha\\AppData\\Local\\Continuum\\anaconda3\\lib\\site-packages\\pandas\\core\\indexing.py:537: SettingWithCopyWarning: \n",
      "A value is trying to be set on a copy of a slice from a DataFrame.\n",
      "Try using .loc[row_indexer,col_indexer] = value instead\n",
      "\n",
      "See the caveats in the documentation: http://pandas.pydata.org/pandas-docs/stable/indexing.html#indexing-view-versus-copy\n",
      "  self.obj[item] = s\n"
     ]
    }
   ],
   "source": [
    "# Your code here\n",
    "\n",
    "# Data for 1998 of the poor households\n",
    "data_98 = progresa[(progresa['poor'] == 'pobre') & (progresa['year'] == 98)]\n",
    "data_98.loc[data_98.progresa == 'basal', 'progresa'] = 1\n",
    "data_98.loc[data_98.progresa == '0', 'progresa'] = 0\n",
    "\n",
    "# Running a regression model of enrollment rates on treatment assignment\n",
    "lm = smf.ols(formula='sc ~ progresa', data=data_98).fit()\n",
    "print(lm.params)\n",
    "print(lm.summary())"
   ]
  },
  {
   "cell_type": "markdown",
   "metadata": {
    "ein.tags": "worksheet-0",
    "slideshow": {
     "slide_type": "-"
    }
   },
   "source": [
    "Based on this model, how much did Progresa increase the likelihood of a child enrolling?\n",
    "The progressa value is 0.038842.Thus, Progresa increases the likelihood of a child enrolling by 0.038(we can find out the impact in terms of single difference of the enrollment rates in 1998 when subjected to the treatment).Further interpretting the parameters of the regression model: In absence of treatment, the average enrollment rates would have been 0.8076(intercept). When the family is subject to treatment, there is an expected increase of 0.038 in the average enrollment rates. \n",
    "\n",
    "How does your regression estimate compare to your t-test estimate from part 2.1?\n",
    "The regression model agrees with the T test we performed in part 2.1. The average values of enrollment in Control Village was 0.8076 (in the absence of treatment), and the avg enrollment in treatment villages was 0.8464 (treatment == 1). This can be validated from our regression equation as: 0.8076 + 1 x 0.3884 = 0.8464.This matches the average enrollment rate in the treatment villages obtained from the simple differences test.\n",
    "\n",
    "\n",
    "\n",
    "Based on this regression model, can we reject the null hypothesis that the treatment effects are zero?\n",
    "We can reject the null hypothesis, as the p-value obtained is below 0.05. It is statistically significant and implies that the progresa treatment did have a statistically significant effect.\n",
    "\n",
    "What is the counterfactual assumption underlying this regression?\n",
    "The counterfactual assumption underlying this regression is that in the absence of treatment, the results in the avg enrollment rates in the treated villages would be equal to the avg enrollment rates in the control villages.\n"
   ]
  },
  {
   "cell_type": "markdown",
   "metadata": {
    "ein.tags": "worksheet-0",
    "slideshow": {
     "slide_type": "-"
    }
   },
   "source": [
    "### 2.3 Multiple Regression\n",
    "\n",
    "Re-run the above regression estimated but this time include a set of\n",
    "relevant control variables. Include, for instance, age, distance to a secondary\n",
    "school, gender, education of household head, welfare index,\n",
    "indigenous, etc.\n",
    "\n",
    "* How do the controls affect the point estimate of treatment effect?\n",
    "* How do the controls affect the standard error on the treatment effect? \n",
    "* How do you interpret the differences (or similarities) between your estimates of 2.2 and 2.3?"
   ]
  },
  {
   "cell_type": "code",
   "execution_count": 10,
   "metadata": {
    "autoscroll": false,
    "ein.tags": "worksheet-0",
    "slideshow": {
     "slide_type": "-"
    }
   },
   "outputs": [
    {
     "data": {
      "text/html": [
       "<table class=\"simpletable\">\n",
       "<caption>OLS Regression Results</caption>\n",
       "<tr>\n",
       "  <th>Dep. Variable:</th>           <td>sc</td>        <th>  R-squared:         </th> <td>   0.272</td> \n",
       "</tr>\n",
       "<tr>\n",
       "  <th>Model:</th>                   <td>OLS</td>       <th>  Adj. R-squared:    </th> <td>   0.272</td> \n",
       "</tr>\n",
       "<tr>\n",
       "  <th>Method:</th>             <td>Least Squares</td>  <th>  F-statistic:       </th> <td>   849.5</td> \n",
       "</tr>\n",
       "<tr>\n",
       "  <th>Date:</th>             <td>Tue, 01 May 2018</td> <th>  Prob (F-statistic):</th>  <td>  0.00</td>  \n",
       "</tr>\n",
       "<tr>\n",
       "  <th>Time:</th>                 <td>17:24:49</td>     <th>  Log-Likelihood:    </th> <td> -7541.1</td> \n",
       "</tr>\n",
       "<tr>\n",
       "  <th>No. Observations:</th>      <td> 27263</td>      <th>  AIC:               </th> <td>1.511e+04</td>\n",
       "</tr>\n",
       "<tr>\n",
       "  <th>Df Residuals:</th>          <td> 27250</td>      <th>  BIC:               </th> <td>1.521e+04</td>\n",
       "</tr>\n",
       "<tr>\n",
       "  <th>Df Model:</th>              <td>    12</td>      <th>                     </th>     <td> </td>    \n",
       "</tr>\n",
       "<tr>\n",
       "  <th>Covariance Type:</th>      <td>nonrobust</td>    <th>                     </th>     <td> </td>    \n",
       "</tr>\n",
       "</table>\n",
       "<table class=\"simpletable\">\n",
       "<tr>\n",
       "        <td></td>           <th>coef</th>     <th>std err</th>      <th>t</th>      <th>P>|t|</th>  <th>[0.025</th>    <th>0.975]</th>  \n",
       "</tr>\n",
       "<tr>\n",
       "  <th>Intercept</th>     <td>    1.4431</td> <td>    0.018</td> <td>   80.855</td> <td> 0.000</td> <td>    1.408</td> <td>    1.478</td>\n",
       "</tr>\n",
       "<tr>\n",
       "  <th>progresa</th>      <td>    0.0337</td> <td>    0.004</td> <td>    8.418</td> <td> 0.000</td> <td>    0.026</td> <td>    0.042</td>\n",
       "</tr>\n",
       "<tr>\n",
       "  <th>sex</th>           <td>    0.0304</td> <td>    0.004</td> <td>    7.847</td> <td> 0.000</td> <td>    0.023</td> <td>    0.038</td>\n",
       "</tr>\n",
       "<tr>\n",
       "  <th>indig</th>         <td>    0.0188</td> <td>    0.005</td> <td>    3.961</td> <td> 0.000</td> <td>    0.009</td> <td>    0.028</td>\n",
       "</tr>\n",
       "<tr>\n",
       "  <th>dist_sec</th>      <td>   -0.0106</td> <td>    0.001</td> <td>  -12.012</td> <td> 0.000</td> <td>   -0.012</td> <td>   -0.009</td>\n",
       "</tr>\n",
       "<tr>\n",
       "  <th>fam_n</th>         <td>    0.0006</td> <td>    0.001</td> <td>    0.727</td> <td> 0.467</td> <td>   -0.001</td> <td>    0.002</td>\n",
       "</tr>\n",
       "<tr>\n",
       "  <th>min_dist</th>      <td>    0.0004</td> <td> 6.34e-05</td> <td>    6.326</td> <td> 0.000</td> <td>    0.000</td> <td>    0.001</td>\n",
       "</tr>\n",
       "<tr>\n",
       "  <th>dist_cap</th>      <td>    0.0002</td> <td>  3.7e-05</td> <td>    5.512</td> <td> 0.000</td> <td>    0.000</td> <td>    0.000</td>\n",
       "</tr>\n",
       "<tr>\n",
       "  <th>hohedu</th>        <td>    0.0079</td> <td>    0.001</td> <td>    9.224</td> <td> 0.000</td> <td>    0.006</td> <td>    0.010</td>\n",
       "</tr>\n",
       "<tr>\n",
       "  <th>hohwag</th>        <td> -7.23e-07</td> <td> 2.81e-06</td> <td>   -0.257</td> <td> 0.797</td> <td>-6.24e-06</td> <td> 4.79e-06</td>\n",
       "</tr>\n",
       "<tr>\n",
       "  <th>welfare_index</th> <td> 2.283e-05</td> <td> 1.82e-05</td> <td>    1.253</td> <td> 0.210</td> <td>-1.29e-05</td> <td> 5.85e-05</td>\n",
       "</tr>\n",
       "<tr>\n",
       "  <th>age</th>           <td>   -0.0657</td> <td>    0.001</td> <td>  -94.750</td> <td> 0.000</td> <td>   -0.067</td> <td>   -0.064</td>\n",
       "</tr>\n",
       "<tr>\n",
       "  <th>hohage</th>        <td>-2.299e-05</td> <td>    0.000</td> <td>   -0.118</td> <td> 0.906</td> <td>   -0.000</td> <td>    0.000</td>\n",
       "</tr>\n",
       "</table>\n",
       "<table class=\"simpletable\">\n",
       "<tr>\n",
       "  <th>Omnibus:</th>       <td>2940.375</td> <th>  Durbin-Watson:     </th> <td>   1.729</td>\n",
       "</tr>\n",
       "<tr>\n",
       "  <th>Prob(Omnibus):</th>  <td> 0.000</td>  <th>  Jarque-Bera (JB):  </th> <td>3992.254</td>\n",
       "</tr>\n",
       "<tr>\n",
       "  <th>Skew:</th>           <td>-0.930</td>  <th>  Prob(JB):          </th> <td>    0.00</td>\n",
       "</tr>\n",
       "<tr>\n",
       "  <th>Kurtosis:</th>       <td> 3.237</td>  <th>  Cond. No.          </th> <td>9.54e+03</td>\n",
       "</tr>\n",
       "</table>"
      ],
      "text/plain": [
       "<class 'statsmodels.iolib.summary.Summary'>\n",
       "\"\"\"\n",
       "                            OLS Regression Results                            \n",
       "==============================================================================\n",
       "Dep. Variable:                     sc   R-squared:                       0.272\n",
       "Model:                            OLS   Adj. R-squared:                  0.272\n",
       "Method:                 Least Squares   F-statistic:                     849.5\n",
       "Date:                Tue, 01 May 2018   Prob (F-statistic):               0.00\n",
       "Time:                        17:24:49   Log-Likelihood:                -7541.1\n",
       "No. Observations:               27263   AIC:                         1.511e+04\n",
       "Df Residuals:                   27250   BIC:                         1.521e+04\n",
       "Df Model:                          12                                         \n",
       "Covariance Type:            nonrobust                                         \n",
       "=================================================================================\n",
       "                    coef    std err          t      P>|t|      [0.025      0.975]\n",
       "---------------------------------------------------------------------------------\n",
       "Intercept         1.4431      0.018     80.855      0.000       1.408       1.478\n",
       "progresa          0.0337      0.004      8.418      0.000       0.026       0.042\n",
       "sex               0.0304      0.004      7.847      0.000       0.023       0.038\n",
       "indig             0.0188      0.005      3.961      0.000       0.009       0.028\n",
       "dist_sec         -0.0106      0.001    -12.012      0.000      -0.012      -0.009\n",
       "fam_n             0.0006      0.001      0.727      0.467      -0.001       0.002\n",
       "min_dist          0.0004   6.34e-05      6.326      0.000       0.000       0.001\n",
       "dist_cap          0.0002    3.7e-05      5.512      0.000       0.000       0.000\n",
       "hohedu            0.0079      0.001      9.224      0.000       0.006       0.010\n",
       "hohwag         -7.23e-07   2.81e-06     -0.257      0.797   -6.24e-06    4.79e-06\n",
       "welfare_index  2.283e-05   1.82e-05      1.253      0.210   -1.29e-05    5.85e-05\n",
       "age              -0.0657      0.001    -94.750      0.000      -0.067      -0.064\n",
       "hohage        -2.299e-05      0.000     -0.118      0.906      -0.000       0.000\n",
       "==============================================================================\n",
       "Omnibus:                     2940.375   Durbin-Watson:                   1.729\n",
       "Prob(Omnibus):                  0.000   Jarque-Bera (JB):             3992.254\n",
       "Skew:                          -0.930   Prob(JB):                         0.00\n",
       "Kurtosis:                       3.237   Cond. No.                     9.54e+03\n",
       "==============================================================================\n",
       "\n",
       "Warnings:\n",
       "[1] Standard Errors assume that the covariance matrix of the errors is correctly specified.\n",
       "[2] The condition number is large, 9.54e+03. This might indicate that there are\n",
       "strong multicollinearity or other numerical problems.\n",
       "\"\"\""
      ]
     },
     "execution_count": 10,
     "metadata": {},
     "output_type": "execute_result"
    }
   ],
   "source": [
    "# Your code here\n",
    "\n",
    "# Multiple linear regression with additional set of control variables# Multip \n",
    "multiple_lm = smf.ols(formula='sc ~ progresa + sex + indig + dist_sec + fam_n + min_dist + dist_cap + hohedu + hohwag + welfare_index + age + hohage', data=data_98).fit()\n",
    "multiple_lm.summary()"
   ]
  },
  {
   "cell_type": "markdown",
   "metadata": {
    "ein.tags": "worksheet-0",
    "slideshow": {
     "slide_type": "-"
    }
   },
   "source": [
    "\n",
    "How do the controls affect the point estimate of treatment effect?\n",
    "Introducing the control factors has changed the point estimate for the treatment effect progress and it has decreased from 0.0388 in the single linear model to 0.0337 in the multiple regression model. This is not a huge drop but there are some changes in the intercept value of this model.Also,the R sqaured value of this model is much better at 0.272 as compared to the previous single regression model whose R squared value is 0.003.\n",
    "\n",
    "\n",
    "How do the controls affect the standard error on the treatment effect?\n",
    "The introduction of the control variables has improved the standard error on the treatment effect(progressa) from 0.005 to 0.004. Since the standard error of the estimate is a measurement of accuracy of a prediction, this introduction of other variables has made the prediction of our treatment effect stronger  and gives us a better representation.\n",
    "\n",
    "How do you interpret the differences (or similarities) between your estimates of 2.2 and 2.3?\n",
    "The estimate of the intercept value in multiple regression is 1.4431 which is greater than 1 as compared to 0.8076 from the model in 2.2. Now, taking a deeper look at the other estimates we notice that the estimate of age and nearest distance to a secondary school are negative at -0.0657 and -0.0106 respectively. This means that for increase in age of a child by 1 year, there would be a decrease in the avg enrollment rates by 0.0657 units assuming other factors remain constant. Also, for every one mile farther the school is located, this decreases the avg enrollment rate by 0.0106 holding other factors constant. Older students are less likely to enroll into school and families staying far are also less likely to send their kids to school. The most influencing factor for school enrollment is still the treatment effect of the progresa fund given to families which has an estimate of 0.0337."
   ]
  },
  {
   "cell_type": "markdown",
   "metadata": {
    "ein.tags": "worksheet-0",
    "slideshow": {
     "slide_type": "-"
    }
   },
   "source": [
    "### 2.4 Difference-in-Difference, version 1 (tabular)\n",
    "\n",
    "Thus far, we have computed the effects of Progresa by estimating the\n",
    "difference in 1998 enrollment rates across villages. An alternative\n",
    "approach would be to compute the treatment effect using a\n",
    "difference-in-differences framework.\n",
    "\n",
    "Begin by estimating the average treatment effects of the program for poor households using data from 1997 and 1998. Specifically, calculate:\n",
    "\n",
    "a) the difference (between 1997 and 1998) in enrollment rates among poor households in treated villages\n",
    "\n",
    "b) the difference (between 1997 and 1998) in enrollment rates among poor households in control villages.\n",
    "\n",
    "c) The difference between these two differences is your estimate.\n",
    "\n",
    "* What is your estimate of the impact, and how does it compare to your earlier (simple difference) results?\n",
    "\n",
    "* What is the counterfactual assumption underlying this estimate? \n"
   ]
  },
  {
   "cell_type": "code",
   "execution_count": 16,
   "metadata": {
    "autoscroll": false,
    "ein.tags": "worksheet-0",
    "slideshow": {
     "slide_type": "-"
    }
   },
   "outputs": [
    {
     "name": "stdout",
     "output_type": "stream",
     "text": [
      "The result of Difference-in-Difference gives us the estimate of the treatment effect on enrollment rates::\n",
      "The value is:  0.031331280319323085\n",
      "Difference between treatment groups is  0.023782\n",
      "Difference between control groups is  -0.007549\n",
      "\n",
      "See table below for individual average values for treatment and control groups before and after treatment:\n"
     ]
    },
    {
     "data": {
      "text/html": [
       "<div>\n",
       "<style scoped>\n",
       "    .dataframe tbody tr th:only-of-type {\n",
       "        vertical-align: middle;\n",
       "    }\n",
       "\n",
       "    .dataframe tbody tr th {\n",
       "        vertical-align: top;\n",
       "    }\n",
       "\n",
       "    .dataframe thead th {\n",
       "        text-align: right;\n",
       "    }\n",
       "</style>\n",
       "<table border=\"1\" class=\"dataframe\">\n",
       "  <thead>\n",
       "    <tr style=\"text-align: right;\">\n",
       "      <th></th>\n",
       "      <th>Control Group</th>\n",
       "      <th>Treatment Group</th>\n",
       "    </tr>\n",
       "  </thead>\n",
       "  <tbody>\n",
       "    <tr>\n",
       "      <th>Avg Enrollment Before Treatment</th>\n",
       "      <td>0.815186</td>\n",
       "      <td>0.822697</td>\n",
       "    </tr>\n",
       "    <tr>\n",
       "      <th>Avg Enrollment After Treatment</th>\n",
       "      <td>0.807637</td>\n",
       "      <td>0.846479</td>\n",
       "    </tr>\n",
       "  </tbody>\n",
       "</table>\n",
       "</div>"
      ],
      "text/plain": [
       "                                Control Group Treatment Group\n",
       "Avg Enrollment Before Treatment      0.815186        0.822697\n",
       "Avg Enrollment After Treatment       0.807637        0.846479"
      ]
     },
     "execution_count": 16,
     "metadata": {},
     "output_type": "execute_result"
    }
   ],
   "source": [
    "# Your code here\n",
    "\n",
    "# Subsetting data for two years separately:\n",
    "data_97 = progresa[(progresa['poor'] == 'pobre') & (progresa['year'] == 97)]\n",
    "data_98 = progresa[(progresa['poor'] == 'pobre') & (progresa['year'] == 98)]\n",
    "\n",
    "# Creating a new dataframe for showing results in a tabular format\n",
    "index = ['Avg Enrollment Before Treatment', 'Avg Enrollment After Treatment']\n",
    "cols = ['Control Group', 'Treatment Group']\n",
    "double_diff = pd.DataFrame(index = index, columns = cols)\n",
    "\n",
    "# Calculating mean values\n",
    "treat_98 = data_98['sc'][data_98.progresa == 'basal'].mean() \n",
    "treat_97 = data_97['sc'][data_97.progresa == 'basal'].mean()\n",
    "control_98 =  data_98['sc'][data_98.progresa == '0'].mean()\n",
    "control_97 =  data_97['sc'][data_97.progresa == '0'].mean()\n",
    "\n",
    "# Finding the difference in difference value for impact evaluation of our treatment effect\n",
    "diff_in_diff = (treat_98 - treat_97) - (control_98 - control_97)\n",
    "print(\"The result of Difference-in-Difference gives us the estimate of the treatment effect on enrollment rates::\")\n",
    "print (\"The value is: \", diff_in_diff)\n",
    "\n",
    "#differences in treatement\n",
    "treatment_difference = treat_98 - treat_97\n",
    "print(\"Difference between treatment groups is  %f\" % treatment_difference)\n",
    "\n",
    "#differences in control\n",
    "control_difference = control_98 - control_97\n",
    "print(\"Difference between control groups is  %f\" % control_difference)\n",
    "\n",
    "print (\"\\nSee table below for individual average values for treatment and control groups before and after treatment:\")\n",
    "double_diff.loc[\"Avg Enrollment Before Treatment\",\"Control Group\"] = control_97\n",
    "double_diff.loc[\"Avg Enrollment After Treatment\",\"Control Group\"] = control_98\n",
    "double_diff.loc[\"Avg Enrollment Before Treatment\",\"Treatment Group\"] = treat_97\n",
    "double_diff.loc[\"Avg Enrollment After Treatment\",\"Treatment Group\"] = treat_98\n",
    "double_diff\n",
    "\n"
   ]
  },
  {
   "cell_type": "markdown",
   "metadata": {
    "ein.tags": "worksheet-0",
    "slideshow": {
     "slide_type": "-"
    }
   },
   "source": [
    "What is your estimate of the impact, and how does it compare to your earlier (simple difference) results? \n",
    "\n",
    "The estimate of the treatment impact is 0.03133. The impact of the treatment is reduced compared to the simple difference result of 0.0388 obtained in the single regression model(0.0337 in multiple regression with various factors). As established previously that the randomization process did not obtain ideal results, the difference in difference model is a better estimate of the treatment impact.\n",
    "\n",
    "\n",
    "What is the counterfactual assumption underlying this estimate? \n",
    "The counterfactual assumption is that difference-in-difference value would have been 0, i.e the average enrollment difference between the treatment group and control group would have been the same in 97 and 98, in the absence of the treatment.\n",
    "\n"
   ]
  },
  {
   "cell_type": "markdown",
   "metadata": {
    "ein.tags": "worksheet-0",
    "slideshow": {
     "slide_type": "-"
    }
   },
   "source": [
    "### 2.5 Difference-in-Difference, version 2 (regression)\n",
    "\n",
    "Now use a regression specification to estimate the average treatment\n",
    "effects of the program in a difference-in-differences\n",
    "framework. Include at least 5 control variables.\n",
    "\n",
    "* What is your estimate of the impact of Progresa? Be very specific in\n",
    "  interpreting your coefficients and standard errors, and make sure to\n",
    "  specify exactly what units you are measuring and estimating.\n",
    "\n",
    "* How do these estimates of the treatment effect compare to the\n",
    "  estimates based on the simple difference?\n",
    "\n",
    "* How do these estimates compare to the difference-in-difference\n",
    "  estimates from 2.4 above? What accounts for these differences?\n",
    "\n",
    "* What is the counterfactual assumption underlying this regression? "
   ]
  },
  {
   "cell_type": "code",
   "execution_count": 22,
   "metadata": {},
   "outputs": [
    {
     "data": {
      "text/html": [
       "<table class=\"simpletable\">\n",
       "<caption>OLS Regression Results</caption>\n",
       "<tr>\n",
       "  <th>Dep. Variable:</th>           <td>sc</td>        <th>  R-squared:         </th> <td>   0.283</td> \n",
       "</tr>\n",
       "<tr>\n",
       "  <th>Model:</th>                   <td>OLS</td>       <th>  Adj. R-squared:    </th> <td>   0.282</td> \n",
       "</tr>\n",
       "<tr>\n",
       "  <th>Method:</th>             <td>Least Squares</td>  <th>  F-statistic:       </th> <td>   2081.</td> \n",
       "</tr>\n",
       "<tr>\n",
       "  <th>Date:</th>             <td>Tue, 01 May 2018</td> <th>  Prob (F-statistic):</th>  <td>  0.00</td>  \n",
       "</tr>\n",
       "<tr>\n",
       "  <th>Time:</th>                 <td>22:32:13</td>     <th>  Log-Likelihood:    </th> <td> -16562.</td> \n",
       "</tr>\n",
       "<tr>\n",
       "  <th>No. Observations:</th>      <td> 58157</td>      <th>  AIC:               </th> <td>3.315e+04</td>\n",
       "</tr>\n",
       "<tr>\n",
       "  <th>Df Residuals:</th>          <td> 58145</td>      <th>  BIC:               </th> <td>3.326e+04</td>\n",
       "</tr>\n",
       "<tr>\n",
       "  <th>Df Model:</th>              <td>    11</td>      <th>                     </th>     <td> </td>    \n",
       "</tr>\n",
       "<tr>\n",
       "  <th>Covariance Type:</th>      <td>nonrobust</td>    <th>                     </th>     <td> </td>    \n",
       "</tr>\n",
       "</table>\n",
       "<table class=\"simpletable\">\n",
       "<tr>\n",
       "             <td></td>                <th>coef</th>     <th>std err</th>      <th>t</th>      <th>P>|t|</th>  <th>[0.025</th>    <th>0.975]</th>  \n",
       "</tr>\n",
       "<tr>\n",
       "  <th>Intercept</th>               <td>    1.4282</td> <td>    0.010</td> <td>  146.029</td> <td> 0.000</td> <td>    1.409</td> <td>    1.447</td>\n",
       "</tr>\n",
       "<tr>\n",
       "  <th>progresa[T.basal]</th>       <td>    0.0020</td> <td>    0.004</td> <td>    0.527</td> <td> 0.598</td> <td>   -0.005</td> <td>    0.009</td>\n",
       "</tr>\n",
       "<tr>\n",
       "  <th>after</th>                   <td>    0.0273</td> <td>    0.004</td> <td>    6.279</td> <td> 0.000</td> <td>    0.019</td> <td>    0.036</td>\n",
       "</tr>\n",
       "<tr>\n",
       "  <th>progresa[T.basal]:after</th> <td>    0.0313</td> <td>    0.006</td> <td>    5.692</td> <td> 0.000</td> <td>    0.021</td> <td>    0.042</td>\n",
       "</tr>\n",
       "<tr>\n",
       "  <th>age</th>                     <td>   -0.0658</td> <td>    0.000</td> <td> -143.647</td> <td> 0.000</td> <td>   -0.067</td> <td>   -0.065</td>\n",
       "</tr>\n",
       "<tr>\n",
       "  <th>dist_sec</th>                <td>   -0.0103</td> <td>    0.001</td> <td>  -16.679</td> <td> 0.000</td> <td>   -0.011</td> <td>   -0.009</td>\n",
       "</tr>\n",
       "<tr>\n",
       "  <th>sex</th>                     <td>    0.0333</td> <td>    0.003</td> <td>   12.456</td> <td> 0.000</td> <td>    0.028</td> <td>    0.038</td>\n",
       "</tr>\n",
       "<tr>\n",
       "  <th>hohedu</th>                  <td>    0.0078</td> <td>    0.001</td> <td>   13.472</td> <td> 0.000</td> <td>    0.007</td> <td>    0.009</td>\n",
       "</tr>\n",
       "<tr>\n",
       "  <th>indig</th>                   <td>    0.0329</td> <td>    0.003</td> <td>   10.899</td> <td> 0.000</td> <td>    0.027</td> <td>    0.039</td>\n",
       "</tr>\n",
       "<tr>\n",
       "  <th>fam_n</th>                   <td>   -0.0002</td> <td>    0.001</td> <td>   -0.365</td> <td> 0.715</td> <td>   -0.001</td> <td>    0.001</td>\n",
       "</tr>\n",
       "<tr>\n",
       "  <th>min_dist</th>                <td>    0.0006</td> <td> 3.39e-05</td> <td>   16.959</td> <td> 0.000</td> <td>    0.001</td> <td>    0.001</td>\n",
       "</tr>\n",
       "<tr>\n",
       "  <th>hohage</th>                  <td>    0.0003</td> <td>    0.000</td> <td>    2.549</td> <td> 0.011</td> <td> 7.65e-05</td> <td>    0.001</td>\n",
       "</tr>\n",
       "</table>\n",
       "<table class=\"simpletable\">\n",
       "<tr>\n",
       "  <th>Omnibus:</th>       <td>5461.777</td> <th>  Durbin-Watson:     </th> <td>   1.491</td>\n",
       "</tr>\n",
       "<tr>\n",
       "  <th>Prob(Omnibus):</th>  <td> 0.000</td>  <th>  Jarque-Bera (JB):  </th> <td>7167.479</td>\n",
       "</tr>\n",
       "<tr>\n",
       "  <th>Skew:</th>           <td>-0.858</td>  <th>  Prob(JB):          </th> <td>    0.00</td>\n",
       "</tr>\n",
       "<tr>\n",
       "  <th>Kurtosis:</th>       <td> 3.108</td>  <th>  Cond. No.          </th> <td>    914.</td>\n",
       "</tr>\n",
       "</table>"
      ],
      "text/plain": [
       "<class 'statsmodels.iolib.summary.Summary'>\n",
       "\"\"\"\n",
       "                            OLS Regression Results                            \n",
       "==============================================================================\n",
       "Dep. Variable:                     sc   R-squared:                       0.283\n",
       "Model:                            OLS   Adj. R-squared:                  0.282\n",
       "Method:                 Least Squares   F-statistic:                     2081.\n",
       "Date:                Tue, 01 May 2018   Prob (F-statistic):               0.00\n",
       "Time:                        22:32:13   Log-Likelihood:                -16562.\n",
       "No. Observations:               58157   AIC:                         3.315e+04\n",
       "Df Residuals:                   58145   BIC:                         3.326e+04\n",
       "Df Model:                          11                                         \n",
       "Covariance Type:            nonrobust                                         \n",
       "===========================================================================================\n",
       "                              coef    std err          t      P>|t|      [0.025      0.975]\n",
       "-------------------------------------------------------------------------------------------\n",
       "Intercept                   1.4282      0.010    146.029      0.000       1.409       1.447\n",
       "progresa[T.basal]           0.0020      0.004      0.527      0.598      -0.005       0.009\n",
       "after                       0.0273      0.004      6.279      0.000       0.019       0.036\n",
       "progresa[T.basal]:after     0.0313      0.006      5.692      0.000       0.021       0.042\n",
       "age                        -0.0658      0.000   -143.647      0.000      -0.067      -0.065\n",
       "dist_sec                   -0.0103      0.001    -16.679      0.000      -0.011      -0.009\n",
       "sex                         0.0333      0.003     12.456      0.000       0.028       0.038\n",
       "hohedu                      0.0078      0.001     13.472      0.000       0.007       0.009\n",
       "indig                       0.0329      0.003     10.899      0.000       0.027       0.039\n",
       "fam_n                      -0.0002      0.001     -0.365      0.715      -0.001       0.001\n",
       "min_dist                    0.0006   3.39e-05     16.959      0.000       0.001       0.001\n",
       "hohage                      0.0003      0.000      2.549      0.011    7.65e-05       0.001\n",
       "==============================================================================\n",
       "Omnibus:                     5461.777   Durbin-Watson:                   1.491\n",
       "Prob(Omnibus):                  0.000   Jarque-Bera (JB):             7167.479\n",
       "Skew:                          -0.858   Prob(JB):                         0.00\n",
       "Kurtosis:                       3.108   Cond. No.                         914.\n",
       "==============================================================================\n",
       "\n",
       "Warnings:\n",
       "[1] Standard Errors assume that the covariance matrix of the errors is correctly specified.\n",
       "\"\"\""
      ]
     },
     "execution_count": 22,
     "metadata": {},
     "output_type": "execute_result"
    }
   ],
   "source": [
    "progresa.loc[progresa.year == 97, 'after'] = 0\n",
    "progresa.loc[progresa.year == 98, 'after'] = 1\n",
    "\n",
    "progresa_97_98_poor = progresa[progresa.poor == 'pobre']\n",
    "\n",
    "double_diff_lm = smf.ols(formula = 'sc ~ progresa + after + progresa:after + age + dist_sec + sex + hohedu + indig + fam_n + min_dist+ hohage + hohedu',\n",
    "                data=progresa_97_98_poor).fit()\n",
    "double_diff_lm.summary()\n"
   ]
  },
  {
   "cell_type": "markdown",
   "metadata": {
    "ein.tags": "worksheet-0",
    "slideshow": {
     "slide_type": "-"
    }
   },
   "source": [
    "\n",
    "What is your estimate of the impact of Progresa? Be very specific in interpreting your coefficients and standard errors, and make sure to specify exactly what units you are measuring and estimating.\n",
    "\n",
    "The estimate of the impact of Progresa is 0.0313. To obtain this result, the year variable was changed to after = 1 (1998) and after = 0 (1997). There is an increase in average enrollment in the treatment group in 1998 with 0.0313 as the new coefficient while controlling for other variables, with a standard error of 0.006.\n",
    "\n",
    "\n",
    "How do these estimates of the treatment effect compare to the estimates based on the simple difference?\n",
    "The estimates obtained here are lower than the simple difference as it considers the difference in the treatment and control group prior to the treatment. Hence the estimate is more precise.\n",
    "\n",
    "How do these estimates compare to the difference-in-difference estimates from 2.4 above? What accounts for these differences?\n",
    "This estimate is equal to the one obtained in 2.4. A marginal difference in the decimal values can be attributed to the control variables introduced.\n",
    "\n",
    "What is the counterfactual assumption underlying this regression?\n",
    "The counterfactual assumption is that the difference in difference value would have been 0, i.e the average enrollment difference between the treatment group and control group would have been the same in 97 and 98, in the absence of the treatment."
   ]
  },
  {
   "cell_type": "markdown",
   "metadata": {
    "ein.tags": "worksheet-0",
    "slideshow": {
     "slide_type": "-"
    }
   },
   "source": [
    "### 2.6 Summary\n",
    "\n",
    "* Based on all the analysis you have undertaken to date, do you\n",
    "  believe that Progresa had a causal impact on the enrollment rates of\n",
    "  poor households in Mexico?  Explain by referring to the methods and\n",
    "  results above."
   ]
  },
  {
   "attachments": {},
   "cell_type": "markdown",
   "metadata": {
    "ein.tags": "worksheet-0",
    "slideshow": {
     "slide_type": "-"
    }
   },
   "source": [
    "Yes, Progresa did have a causal impact on the enrollment rates of poor households in Mexico. The causal impact is not significant but is definetely observed among treatment groups in the poor households.The magnitude of the impact is not drastically high as growth in enrollment rates occurs over a period of time as the scale of the program grows and more households are treated with the subsidy. Assuming that the study was conducted with good randomization and the treatment and control groups do not differ significantly allows us to measure the causal impact accurately.\n",
    "\n",
    "\n",
    "There are differences in the demographic details between control and treatment groups.Some of the factors or demographic variables that vary are statistically significant. This tells us that the treatment and control groups are not two equal entities. When a variables such as age, welfare index and distance from capital which are considered crucial towards education enrollment vary, the analysis on the data obtained from such groups will be biased. We first performed simple difference to check if the differences between groups were statistically significant. We then resorted to the diff-in-diff method to understand the impact of progresa on poor families in treatment and control villages over  two years 97 and 98. The analyses of the data for before and after treatment and for poor and non-poor tells us that the Progresa study has a positive impact on increasing the overall enrollment rate in the community.\n",
    "\n",
    "\n",
    "\n"
   ]
  },
  {
   "cell_type": "code",
   "execution_count": null,
   "metadata": {},
   "outputs": [],
   "source": []
  }
 ],
 "metadata": {
  "kernelspec": {
   "display_name": "Python 3",
   "language": "python",
   "name": "python3"
  },
  "language_info": {
   "codemirror_mode": {
    "name": "ipython",
    "version": 3
   },
   "file_extension": ".py",
   "mimetype": "text/x-python",
   "name": "python",
   "nbconvert_exporter": "python",
   "pygments_lexer": "ipython3",
   "version": "3.6.4"
  },
  "name": "ps03_progresa.ipynb"
 },
 "nbformat": 4,
 "nbformat_minor": 1
}
