{
 "cells": [
  {
   "cell_type": "code",
   "execution_count": 1,
   "metadata": {
    "autoscroll": false,
    "collapsed": false,
    "ein.tags": "worksheet-0",
    "slideshow": {
     "slide_type": "-"
    }
   },
   "outputs": [
    {
     "name": "stderr",
     "output_type": "stream",
     "text": [
      "/usr/lib/python3.5/importlib/_bootstrap.py:222: RuntimeWarning: numpy.dtype size changed, may indicate binary incompatibility. Expected 96, got 88\n",
      "  return f(*args, **kwds)\n"
     ]
    }
   ],
   "source": [
    "import pandas as pd\n",
    "import numpy as np\n",
    "import matplotlib.pyplot as plt\n",
    "%matplotlib inline"
   ]
  },
  {
   "cell_type": "markdown",
   "metadata": {
    "ein.tags": "worksheet-0",
    "slideshow": {
     "slide_type": "-"
    }
   },
   "source": [
    "## 1. Variance of normal RV-s\n",
    "\n",
    "Create a large sample (>= 1000) of standard random numbers.  Compute\n",
    "the sample variance using both of the formulas, and by the np.var method."
   ]
  },
  {
   "cell_type": "code",
   "execution_count": null,
   "metadata": {
    "autoscroll": false,
    "collapsed": false,
    "ein.tags": "worksheet-0",
    "slideshow": {
     "slide_type": "-"
    }
   },
   "outputs": [],
   "source": [
    "n = 1000\n",
    "x = np.random.normal(size=(n))\n",
    "barx = x.mean()\n",
    "print(\"mean:\", barx)\n",
    "vx = np.mean((x - x.mean())**2)\n",
    "print(\"variance:\", vx)\n",
    "vx2 = np.mean(x*x) - np.mean(x)**2\n",
    "print(\"variance 2:\", vx2)\n",
    "vx3 = x.var()\n",
    "print(\"variance 3:\", vx3)\n",
    "sdx = np.sqrt(vx3)\n",
    "print(\"st.dev:\", sdx)"
   ]
  },
  {
   "cell_type": "markdown",
   "metadata": {
    "ein.tags": "worksheet-0",
    "slideshow": {
     "slide_type": "-"
    }
   },
   "source": [
    "Compute the confidence intervals: $[mean - 1.96*std, mean +\n",
    "                                    1.96*std]$.  Given the confidence\n",
    "intervals, find which percentage of the sample falls outside of the interval."
   ]
  },
  {
   "cell_type": "code",
   "execution_count": 15,
   "metadata": {
    "autoscroll": false,
    "collapsed": false,
    "ein.tags": "worksheet-0",
    "slideshow": {
     "slide_type": "-"
    }
   },
   "outputs": [
    {
     "name": "stdout",
     "output_type": "stream",
     "text": [
      "mean: 0.04383193920400232\n",
      "variance: 0.9348178757589758\n",
      "variance 2: 0.9348178757589758\n",
      "variance 3: 0.9348178757589758\n",
      "st.dev: 0.9668598015012185\n",
      "outside pct: 0.043\n"
     ]
    }
   ],
   "source": [
    "x1 = barx - 1.96*sdx\n",
    "x2 = barx + 1.96*sdx\n",
    "outside = np.logical_or(x < x1, x > x2)\n",
    "print(\"outside pct:\", outside.mean())"
   ]
  },
  {
   "cell_type": "markdown",
   "metadata": {
    "ein.tags": "worksheet-0",
    "slideshow": {
     "slide_type": "-"
    }
   },
   "source": [
    "All results are exactly the same, i.e. numpy uses a similar formula\n",
    "for the variance.  Also, the results are terribly close to 1, which is\n",
    "not surprising as we picked the standard normals."
   ]
  },
  {
   "cell_type": "markdown",
   "metadata": {
    "ein.tags": "worksheet-0",
    "slideshow": {
     "slide_type": "-"
    }
   },
   "source": [
    "## 2. Variance of means\n",
    "\n",
    "Do a similar exercise, just instead of random numbers, pick means of a\n",
    "random sample (of size $n$ = 1, 3, 10, 30, ..., 1000, ... as far as your\n",
    "               computer can go).\n",
    "* How big is the variance of these means?\n",
    "* what is the confidence interval?\n",
    "* what percentage of observations fall outside of the interval?\n",
    "* how does all that depend on the sample size $n$?"
   ]
  },
  {
   "cell_type": "code",
   "execution_count": 24,
   "metadata": {
    "autoscroll": false,
    "collapsed": false,
    "ein.tags": "worksheet-0",
    "slideshow": {
     "slide_type": "-"
    }
   },
   "outputs": [
    {
     "name": "stdout",
     "output_type": "stream",
     "text": [
      "var(mu): 0.9738235448158653\n",
      "confidence interval: -1.9933903474345376 1.8749635814425127\n",
      "inside pct: 0.961\n"
     ]
    }
   ],
   "source": [
    "n = 1\n",
    "m = 1000\n",
    "mu = np.random.normal(size=(m,n)).mean(axis=1)\n",
    "print(\"var(mu):\", mu.var())\n",
    "barx = mu.mean()\n",
    "std = np.sqrt(mu.var())\n",
    "x1 = barx - 1.96*std\n",
    "x2 = barx + 1.96*std\n",
    "print(\"confidence interval:\", x1, x2)\n",
    "inside = np.logical_and(mu >= x1, mu <= x2)\n",
    "print(\"inside pct:\", inside.mean())\n"
   ]
  },
  {
   "cell_type": "markdown",
   "metadata": {
    "ein.tags": "worksheet-0",
    "slideshow": {
     "slide_type": "-"
    }
   },
   "source": [
    "Now write it as a function"
   ]
  },
  {
   "cell_type": "code",
   "execution_count": 68,
   "metadata": {
    "autoscroll": false,
    "collapsed": false,
    "ein.tags": "worksheet-0",
    "slideshow": {
     "slide_type": "-"
    }
   },
   "outputs": [
    {
     "name": "stdout",
     "output_type": "stream",
     "text": [
      "0.946\n"
     ]
    },
    {
     "data": {
      "text/plain": [
       "(-0.06062003197324117, 0.05929459568904924, 0.946)"
      ]
     },
     "execution_count": 68,
     "metadata": {},
     "output_type": "execute_result"
    }
   ],
   "source": [
    "def meansamples(m, n):\n",
    "    mu = np.random.normal(size=(m,n)).mean(axis=1)\n",
    "    barx = mu.mean()\n",
    "    std = np.sqrt(mu.var())\n",
    "    x1 = barx - 1.96*std\n",
    "    x2 = barx + 1.96*std\n",
    "    inside = np.logical_and(mu >= x1, mu <= x2).mean()\n",
    "    return (x1, x2, inside)\n",
    "meansamples(1000,1000)    "
   ]
  },
  {
   "cell_type": "code",
   "execution_count": 70,
   "metadata": {
    "autoscroll": false,
    "collapsed": false,
    "ein.tags": "worksheet-0",
    "slideshow": {
     "slide_type": "-"
    }
   },
   "outputs": [
    {
     "name": "stdout",
     "output_type": "stream",
     "text": [
      "0.952\n",
      "0.952\n",
      "0.943\n",
      "0.943\n",
      "0.945\n",
      "0.945\n",
      "0.961\n",
      "0.961\n",
      "0.951\n",
      "0.951\n",
      "0.948\n",
      "0.948\n",
      "0.949\n",
      "0.949\n",
      "0.947\n",
      "0.947\n",
      "           lower    pct     upper\n",
      "1.0     1.986017  0.947  1.986017\n",
      "3.0     1.105443  0.947  1.105443\n",
      "10.0    0.617304  0.947  0.617304\n",
      "30.0    0.360141  0.947  0.360141\n",
      "100.0   0.183491  0.947  0.183491\n",
      "300.0   0.116656  0.947  0.116656\n",
      "1000.0  0.062940  0.947  0.062940\n",
      "3000.0  0.036632  0.947  0.036632\n"
     ]
    },
    {
     "data": {
      "text/plain": [
       "<matplotlib.legend.Legend at 0x7f6982a27a58>"
      ]
     },
     "execution_count": 70,
     "metadata": {},
     "output_type": "execute_result"
    },
    {
     "data": {
      "image/png": "[encoded data removed]",
      "text/plain": [
       "<matplotlib.figure.Figure at 0x7f6982a1d898>"
      ]
     },
     "metadata": {},
     "output_type": "display_data"
    }
   ],
   "source": [
    "ns = np.array([1, 3, 10, 30, 100, 300, 1000, 3000], dtype=\"float\")\n",
    "pcts = np.empty_like(ns)\n",
    "lowers = np.empty_like(ns)\n",
    "uppers = np.empty_like(ns)\n",
    "for i, n in enumerate(ns):\n",
    "    l, u, pct = meansamples(m, int(n))\n",
    "    pcts[i] = pct\n",
    "    lowers[i] = u\n",
    "    uppers[i] = u\n",
    "\n",
    "data = pd.DataFrame({\"lower\": lowers, \"upper\": uppers, \"pct\": pcts},\n",
    "                    index=ns)\n",
    "print(data)\n",
    "plt.loglog(ns, pcts, label='percent')\n",
    "plt.loglog(ns, uppers, label='upper limit')\n",
    "plt.legend()"
   ]
  },
  {
   "cell_type": "markdown",
   "metadata": {
    "ein.tags": "worksheet-0",
    "slideshow": {
     "slide_type": "-"
    }
   },
   "source": [
    "Comment: pct is the same, interval falls rapidly."
   ]
  },
  {
   "cell_type": "markdown",
   "metadata": {
    "ein.tags": "worksheet-0",
    "slideshow": {
     "slide_type": "-"
    }
   },
   "source": [
    "## 3. extra task"
   ]
  },
  {
   "cell_type": "code",
   "execution_count": 60,
   "metadata": {
    "autoscroll": false,
    "collapsed": false,
    "ein.tags": "worksheet-0",
    "slideshow": {
     "slide_type": "-"
    }
   },
   "outputs": [],
   "source": [
    "def meansamples2(m, n):\n",
    "    mu = np.random.normal(size=(m,n)).cumsum(axis=1).mean(axis=1)\n",
    "    barx = mu.mean()\n",
    "    std = np.sqrt(mu.var())\n",
    "    x1 = barx - 1.96*std\n",
    "    x2 = barx + 1.96*std\n",
    "    inside = np.logical_and(mu >= x1, mu <= x2).mean()\n",
    "    print(x1, x2)\n",
    "    return (x1, x2, inside)\n"
   ]
  },
  {
   "cell_type": "code",
   "execution_count": 71,
   "metadata": {
    "autoscroll": false,
    "collapsed": false,
    "ein.tags": "worksheet-0",
    "slideshow": {
     "slide_type": "-"
    }
   },
   "outputs": [
    {
     "name": "stdout",
     "output_type": "stream",
     "text": [
      "-1.9804200809256283 1.9291509935777487\n",
      "-2.471888643491688 2.4187666727983097\n",
      "-3.8594481275404484 3.802694736910721\n",
      "-6.441749566286533 6.283173578306662\n",
      "-11.489500343815807 11.253965206075895\n",
      "-19.712236795983113 19.901310462967967\n",
      "-34.919704670248734 35.96059951230335\n"
     ]
    },
    {
     "name": "stdout",
     "output_type": "stream",
     "text": [
      "-63.57180809921198 63.18713304102474\n",
      "            lower    pct      upper\n",
      "1.0     -1.980420  0.944   1.929151\n",
      "3.0     -2.471889  0.950   2.418767\n",
      "10.0    -3.859448  0.947   3.802695\n",
      "30.0    -6.441750  0.946   6.283174\n",
      "100.0  -11.489500  0.960  11.253965\n",
      "300.0  -19.712237  0.948  19.901310\n",
      "1000.0 -34.919705  0.956  35.960600\n",
      "3000.0 -63.571808  0.954  63.187133\n"
     ]
    },
    {
     "data": {
      "text/plain": [
       "<matplotlib.legend.Legend at 0x7f698277f0b8>"
      ]
     },
     "execution_count": 71,
     "metadata": {},
     "output_type": "execute_result"
    },
    {
     "data": {
      "image/png": "[encoded data removed]",
      "text/plain": [
       "<matplotlib.figure.Figure at 0x7f69827b8b70>"
      ]
     },
     "metadata": {},
     "output_type": "display_data"
    }
   ],
   "source": [
    "ns = np.array([1, 3, 10, 30, 100, 300, 1000, 3000], dtype=\"float\")\n",
    "pcts = np.empty_like(ns)\n",
    "lowers = np.empty_like(ns)\n",
    "uppers = np.empty_like(ns)\n",
    "for i, n in enumerate(ns):\n",
    "    l, u, pct = meansamples2(m, int(n))\n",
    "    pcts[i] = pct\n",
    "    lowers[i] = l\n",
    "    uppers[i] = u\n",
    "\n",
    "data = pd.DataFrame({\"lower\": lowers, \"upper\": uppers, \"pct\": pcts},\n",
    "                    index=ns)\n",
    "print(data)\n",
    "plt.loglog(ns, pcts, label='percent')\n",
    "plt.loglog(ns, uppers, label='upper limit')\n",
    "plt.legend()"
   ]
  },
  {
   "cell_type": "markdown",
   "metadata": {
    "ein.tags": "worksheet-0",
    "slideshow": {
     "slide_type": "-"
    }
   },
   "source": [
    "Now the upper limit is increasing..."
   ]
  }
 ],
 "metadata": {
  "name": "lab01_stats.ipynb"
 },
 "nbformat": 4,
 "nbformat_minor": 2
}
